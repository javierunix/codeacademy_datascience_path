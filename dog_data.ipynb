{
 "metadata": {
  "language_info": {
   "codemirror_mode": {
    "name": "ipython",
    "version": 3
   },
   "file_extension": ".py",
   "mimetype": "text/x-python",
   "name": "python",
   "nbconvert_exporter": "python",
   "pygments_lexer": "ipython3",
   "version": "3.8.8"
  },
  "orig_nbformat": 2,
  "kernelspec": {
   "name": "python388jvsc74a57bd0aaa8cd9d8dee3a32c846f4040502c711d1cd9d513882153f94a5792d3c9f0af8",
   "display_name": "Python 3.8.8 64-bit ('datascience': conda)"
  },
  "metadata": {
   "interpreter": {
    "hash": "aaa8cd9d8dee3a32c846f4040502c711d1cd9d513882153f94a5792d3c9f0af8"
   }
  }
 },
 "nbformat": 4,
 "nbformat_minor": 2,
 "cells": [
  {
   "cell_type": "code",
   "execution_count": 1,
   "metadata": {},
   "outputs": [],
   "source": [
    "# import librarys\n",
    "import numpy as np \n",
    "import pandas as pd"
   ]
  },
  {
   "cell_type": "code",
   "execution_count": 2,
   "metadata": {},
   "outputs": [
    {
     "output_type": "execute_result",
     "data": {
      "text/plain": [
       "   is_rescue  weight  tail_length  age  color  likes_children  \\\n",
       "0          0       6         2.25    2  black               1   \n",
       "1          0       4         5.36    4  black               0   \n",
       "2          0       7         3.63    3  black               0   \n",
       "3          0       5         0.19    2  black               0   \n",
       "4          0       5         0.37    1  black               1   \n",
       "\n",
       "   is_hypoallergenic      name      breed  \n",
       "0                  0      Huey  chihuahua  \n",
       "1                  0   Cherish  chihuahua  \n",
       "2                  1     Becka  chihuahua  \n",
       "3                  0     Addie  chihuahua  \n",
       "4                  1  Beverlee  chihuahua  "
      ],
      "text/html": "<div>\n<style scoped>\n    .dataframe tbody tr th:only-of-type {\n        vertical-align: middle;\n    }\n\n    .dataframe tbody tr th {\n        vertical-align: top;\n    }\n\n    .dataframe thead th {\n        text-align: right;\n    }\n</style>\n<table border=\"1\" class=\"dataframe\">\n  <thead>\n    <tr style=\"text-align: right;\">\n      <th></th>\n      <th>is_rescue</th>\n      <th>weight</th>\n      <th>tail_length</th>\n      <th>age</th>\n      <th>color</th>\n      <th>likes_children</th>\n      <th>is_hypoallergenic</th>\n      <th>name</th>\n      <th>breed</th>\n    </tr>\n  </thead>\n  <tbody>\n    <tr>\n      <th>0</th>\n      <td>0</td>\n      <td>6</td>\n      <td>2.25</td>\n      <td>2</td>\n      <td>black</td>\n      <td>1</td>\n      <td>0</td>\n      <td>Huey</td>\n      <td>chihuahua</td>\n    </tr>\n    <tr>\n      <th>1</th>\n      <td>0</td>\n      <td>4</td>\n      <td>5.36</td>\n      <td>4</td>\n      <td>black</td>\n      <td>0</td>\n      <td>0</td>\n      <td>Cherish</td>\n      <td>chihuahua</td>\n    </tr>\n    <tr>\n      <th>2</th>\n      <td>0</td>\n      <td>7</td>\n      <td>3.63</td>\n      <td>3</td>\n      <td>black</td>\n      <td>0</td>\n      <td>1</td>\n      <td>Becka</td>\n      <td>chihuahua</td>\n    </tr>\n    <tr>\n      <th>3</th>\n      <td>0</td>\n      <td>5</td>\n      <td>0.19</td>\n      <td>2</td>\n      <td>black</td>\n      <td>0</td>\n      <td>0</td>\n      <td>Addie</td>\n      <td>chihuahua</td>\n    </tr>\n    <tr>\n      <th>4</th>\n      <td>0</td>\n      <td>5</td>\n      <td>0.37</td>\n      <td>1</td>\n      <td>black</td>\n      <td>1</td>\n      <td>1</td>\n      <td>Beverlee</td>\n      <td>chihuahua</td>\n    </tr>\n  </tbody>\n</table>\n</div>"
     },
     "metadata": {},
     "execution_count": 2
    }
   ],
   "source": [
    "# load data\n",
    "dogs = pd.read_csv('dog_data.csv')\n",
    "dogs.head()"
   ]
  },
  {
   "source": [
    "# Data to the rescue\n",
    "FetchMaker estimates (based on historical data for all dogs) that 8% of dogs in their system are rescues.\n",
    "\n",
    "They would like to know if whippets are significantly more or less likely than other dogs to be a rescue.\n"
   ],
   "cell_type": "markdown",
   "metadata": {}
  },
  {
   "cell_type": "code",
   "execution_count": 12,
   "metadata": {},
   "outputs": [
    {
     "output_type": "execute_result",
     "data": {
      "text/plain": [
       "6"
      ]
     },
     "metadata": {},
     "execution_count": 12
    }
   ],
   "source": [
    "whippet_rescue = dogs.is_rescue[dogs.breed == 'whippet']  # Store the is_rescue values for whippet's in a variable called `whippet_rescue`.\n",
    "num_whippets_rescued = whippet_rescue.sum() # number of rescued whippets\n",
    "num_whippets_rescued"
   ]
  },
  {
   "cell_type": "code",
   "execution_count": 13,
   "metadata": {},
   "outputs": [
    {
     "output_type": "execute_result",
     "data": {
      "text/plain": [
       "100"
      ]
     },
     "metadata": {},
     "execution_count": 13
    }
   ],
   "source": [
    "num_whippets = len(whippet_rescue) # total number of whippet\n",
    "num_whippets"
   ]
  },
  {
   "source": [
    "Use a hypothesis test to test the following null and alternative hypotheses:\n",
    "\n",
    "Null: 8% of whippets are rescues\n",
    "\n",
    "Alternative: more or less than 8% of whippets are rescues\n",
    "\n",
    "Save the p-value from this test as `pval` and print it out. Using a significance threshold of 0.05, Is the proportion of whippets who are rescues significantly different from 8%?"
   ],
   "cell_type": "markdown",
   "metadata": {}
  },
  {
   "source": [
    "We are going to conduct a binomial test, with the following parameters:\n",
    "* Number of success: `num_whippets_rescued`.\n",
    "* n (size): `num_whippets`.\n",
    "* p: probability of success, according to the null hypothesis (8%)"
   ],
   "cell_type": "markdown",
   "metadata": {}
  },
  {
   "cell_type": "code",
   "execution_count": 14,
   "metadata": {},
   "outputs": [
    {
     "output_type": "execute_result",
     "data": {
      "text/plain": [
       "0.5811780106238098"
      ]
     },
     "metadata": {},
     "execution_count": 14
    }
   ],
   "source": [
    "from scipy.stats import binom_test\n",
    "binom_test(num_whippets_rescued, n=num_whippets, p=0.08) "
   ]
  },
  {
   "source": [
    "The pvalue is higher than 0.05, so the null hypothesis is accepted."
   ],
   "cell_type": "markdown",
   "metadata": {}
  }
 ]
}