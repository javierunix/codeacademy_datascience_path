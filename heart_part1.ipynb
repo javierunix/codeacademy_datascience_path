{
 "metadata": {
  "orig_nbformat": 2,
  "kernelspec": {
   "name": "python3",
   "display_name": "Python 3",
   "language": "python"
  }
 },
 "nbformat": 4,
 "nbformat_minor": 2,
 "cells": [
  {
   "source": [
    "import pandas as pd \n",
    "import numpy as np \n"
   ],
   "cell_type": "code",
   "metadata": {},
   "execution_count": 2,
   "outputs": []
  },
  {
   "source": [
    "## Load data"
   ],
   "cell_type": "markdown",
   "metadata": {}
  },
  {
   "cell_type": "code",
   "execution_count": 10,
   "metadata": {},
   "outputs": [
    {
     "output_type": "stream",
     "name": "stdout",
     "text": [
      "/Users/xabier/Datascience/codeacademy_datascience\n"
     ]
    },
    {
     "output_type": "execute_result",
     "data": {
      "text/plain": [
       "    age     sex  trestbps   chol                cp  exang  fbs  thalach  \\\n",
       "0  63.0    male     145.0  233.0    typical angina    0.0  1.0    150.0   \n",
       "1  67.0    male     160.0  286.0      asymptomatic    1.0  0.0    108.0   \n",
       "2  67.0    male     120.0  229.0      asymptomatic    1.0  0.0    129.0   \n",
       "3  37.0    male     130.0  250.0  non-anginal pain    0.0  0.0    187.0   \n",
       "4  41.0  female     130.0  204.0   atypical angina    0.0  0.0    172.0   \n",
       "\n",
       "  heart_disease  \n",
       "0       absence  \n",
       "1      presence  \n",
       "2      presence  \n",
       "3       absence  \n",
       "4       absence  "
      ],
      "text/html": "<div>\n<style scoped>\n    .dataframe tbody tr th:only-of-type {\n        vertical-align: middle;\n    }\n\n    .dataframe tbody tr th {\n        vertical-align: top;\n    }\n\n    .dataframe thead th {\n        text-align: right;\n    }\n</style>\n<table border=\"1\" class=\"dataframe\">\n  <thead>\n    <tr style=\"text-align: right;\">\n      <th></th>\n      <th>age</th>\n      <th>sex</th>\n      <th>trestbps</th>\n      <th>chol</th>\n      <th>cp</th>\n      <th>exang</th>\n      <th>fbs</th>\n      <th>thalach</th>\n      <th>heart_disease</th>\n    </tr>\n  </thead>\n  <tbody>\n    <tr>\n      <th>0</th>\n      <td>63.0</td>\n      <td>male</td>\n      <td>145.0</td>\n      <td>233.0</td>\n      <td>typical angina</td>\n      <td>0.0</td>\n      <td>1.0</td>\n      <td>150.0</td>\n      <td>absence</td>\n    </tr>\n    <tr>\n      <th>1</th>\n      <td>67.0</td>\n      <td>male</td>\n      <td>160.0</td>\n      <td>286.0</td>\n      <td>asymptomatic</td>\n      <td>1.0</td>\n      <td>0.0</td>\n      <td>108.0</td>\n      <td>presence</td>\n    </tr>\n    <tr>\n      <th>2</th>\n      <td>67.0</td>\n      <td>male</td>\n      <td>120.0</td>\n      <td>229.0</td>\n      <td>asymptomatic</td>\n      <td>1.0</td>\n      <td>0.0</td>\n      <td>129.0</td>\n      <td>presence</td>\n    </tr>\n    <tr>\n      <th>3</th>\n      <td>37.0</td>\n      <td>male</td>\n      <td>130.0</td>\n      <td>250.0</td>\n      <td>non-anginal pain</td>\n      <td>0.0</td>\n      <td>0.0</td>\n      <td>187.0</td>\n      <td>absence</td>\n    </tr>\n    <tr>\n      <th>4</th>\n      <td>41.0</td>\n      <td>female</td>\n      <td>130.0</td>\n      <td>204.0</td>\n      <td>atypical angina</td>\n      <td>0.0</td>\n      <td>0.0</td>\n      <td>172.0</td>\n      <td>absence</td>\n    </tr>\n  </tbody>\n</table>\n</div>"
     },
     "metadata": {},
     "execution_count": 10
    }
   ],
   "source": [
    "%cd Datascience/codeacademy_datascience # move to the directory where are found the data set\n",
    "heart = pd.read_csv('heart_disease.csv')\n",
    "heart.head()"
   ]
  }
 ]
}