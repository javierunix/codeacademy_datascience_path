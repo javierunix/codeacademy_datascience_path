{
 "metadata": {
  "orig_nbformat": 2,
  "kernelspec": {
   "name": "python388jvsc74a57bd0aaa8cd9d8dee3a32c846f4040502c711d1cd9d513882153f94a5792d3c9f0af8",
   "display_name": "Python 3.8.8 64-bit ('datascience': conda)"
  },
  "metadata": {
   "interpreter": {
    "hash": "aaa8cd9d8dee3a32c846f4040502c711d1cd9d513882153f94a5792d3c9f0af8"
   }
  }
 },
 "nbformat": 4,
 "nbformat_minor": 2,
 "cells": [
  {
   "source": [
    "import pandas as pd \n",
    "import numpy as np \n"
   ],
   "cell_type": "code",
   "metadata": {},
   "execution_count": 3,
   "outputs": []
  },
  {
   "source": [
    "## Load data\n",
    "\n",
    "The full dataset has been loaded for you as heart, then split into two subsets:\n",
    "\n",
    "`yes_hd`, which contains data for patients with heart disease\n",
    "`no_hd`, which contains data for patients without heart disease\n",
    "For this project, we’ll investigate the following variables:\n",
    "\n",
    "`chol`: serum cholestorol in mg/dl\n",
    " Load data\n",
    "\n",
    "The full dataset has been loaded for you as heart, then split into two subsets:\n",
    "\n",
    "`yes_hd`, which contains data for patients with heart disease\n",
    "`no_hd`, which contains data for patients without heart disease\n",
    "For this project, we’ll investigate the following variables:\n",
    "\n",
    "`chol`: serum cholestorol in mg/dl\n",
    "`fbs`: An indicator for whether fasting blood sugar is greater than 120 mg/dl (1 = true; 0 = false)"
   ],
   "cell_type": "markdown",
   "metadata": {}
  },
  {
   "cell_type": "code",
   "execution_count": 4,
   "metadata": {},
   "outputs": [
    {
     "output_type": "execute_result",
     "data": {
      "text/plain": [
       "    age     sex  trestbps   chol                cp  exang  fbs  thalach  \\\n",
       "0  63.0    male     145.0  233.0    typical angina    0.0  1.0    150.0   \n",
       "1  67.0    male     160.0  286.0      asymptomatic    1.0  0.0    108.0   \n",
       "2  67.0    male     120.0  229.0      asymptomatic    1.0  0.0    129.0   \n",
       "3  37.0    male     130.0  250.0  non-anginal pain    0.0  0.0    187.0   \n",
       "4  41.0  female     130.0  204.0   atypical angina    0.0  0.0    172.0   \n",
       "\n",
       "  heart_disease  \n",
       "0       absence  \n",
       "1      presence  \n",
       "2      presence  \n",
       "3       absence  \n",
       "4       absence  "
      ],
      "text/html": "<div>\n<style scoped>\n    .dataframe tbody tr th:only-of-type {\n        vertical-align: middle;\n    }\n\n    .dataframe tbody tr th {\n        vertical-align: top;\n    }\n\n    .dataframe thead th {\n        text-align: right;\n    }\n</style>\n<table border=\"1\" class=\"dataframe\">\n  <thead>\n    <tr style=\"text-align: right;\">\n      <th></th>\n      <th>age</th>\n      <th>sex</th>\n      <th>trestbps</th>\n      <th>chol</th>\n      <th>cp</th>\n      <th>exang</th>\n      <th>fbs</th>\n      <th>thalach</th>\n      <th>heart_disease</th>\n    </tr>\n  </thead>\n  <tbody>\n    <tr>\n      <th>0</th>\n      <td>63.0</td>\n      <td>male</td>\n      <td>145.0</td>\n      <td>233.0</td>\n      <td>typical angina</td>\n      <td>0.0</td>\n      <td>1.0</td>\n      <td>150.0</td>\n      <td>absence</td>\n    </tr>\n    <tr>\n      <th>1</th>\n      <td>67.0</td>\n      <td>male</td>\n      <td>160.0</td>\n      <td>286.0</td>\n      <td>asymptomatic</td>\n      <td>1.0</td>\n      <td>0.0</td>\n      <td>108.0</td>\n      <td>presence</td>\n    </tr>\n    <tr>\n      <th>2</th>\n      <td>67.0</td>\n      <td>male</td>\n      <td>120.0</td>\n      <td>229.0</td>\n      <td>asymptomatic</td>\n      <td>1.0</td>\n      <td>0.0</td>\n      <td>129.0</td>\n      <td>presence</td>\n    </tr>\n    <tr>\n      <th>3</th>\n      <td>37.0</td>\n      <td>male</td>\n      <td>130.0</td>\n      <td>250.0</td>\n      <td>non-anginal pain</td>\n      <td>0.0</td>\n      <td>0.0</td>\n      <td>187.0</td>\n      <td>absence</td>\n    </tr>\n    <tr>\n      <th>4</th>\n      <td>41.0</td>\n      <td>female</td>\n      <td>130.0</td>\n      <td>204.0</td>\n      <td>atypical angina</td>\n      <td>0.0</td>\n      <td>0.0</td>\n      <td>172.0</td>\n      <td>absence</td>\n    </tr>\n  </tbody>\n</table>\n</div>"
     },
     "metadata": {},
     "execution_count": 4
    }
   ],
   "source": [
    "heart = pd.read_csv('~/Datascience/codeacademy_datascience/heart_disease.csv')\n",
    "heart.head()"
   ]
  },
  {
   "source": [
    "# Cholesterol Analysis"
   ],
   "cell_type": "markdown",
   "metadata": {}
  },
  {
   "cell_type": "code",
   "execution_count": 5,
   "metadata": {},
   "outputs": [],
   "source": [
    "yes_hd = heart[heart.heart_disease == 'presence']\n",
    "no_hd = heart[heart.heart_disease == 'absence']"
   ]
  },
  {
   "source": [
    "Calculate the mean cholesterol level for patients who were diagnosed with heart disease and print it out. Is it higher than 240 mg/dl?"
   ],
   "cell_type": "markdown",
   "metadata": {}
  },
  {
   "cell_type": "code",
   "execution_count": 6,
   "metadata": {},
   "outputs": [
    {
     "output_type": "execute_result",
     "data": {
      "text/plain": [
       "251.4748201438849"
      ]
     },
     "metadata": {},
     "execution_count": 6
    }
   ],
   "source": [
    "yes_hd.chol.mean()"
   ]
  },
  {
   "source": [
    "Do people with heart disease have high cholesterol levels (greater than or equal to 240 mg/dl) on average? Import the function from scipy.stats that you can use to test the following null and alternative hypotheses:"
   ],
   "cell_type": "markdown",
   "metadata": {}
  },
  {
   "cell_type": "code",
   "execution_count": 15,
   "metadata": {},
   "outputs": [
    {
     "output_type": "execute_result",
     "data": {
      "text/plain": [
       "0.0035411033905155703"
      ]
     },
     "metadata": {},
     "execution_count": 15
    }
   ],
   "source": [
    "import scipy.stats\n",
    "t_test, pvalue = scipy.stats.ttest_1samp(yes_hd.chol, popmean=240, alternative='greater')\n",
    "pvalue "
   ]
  },
  {
   "source": [
    "**Response** The *pvalue* obtained being the mean 240 is very low, so the null hypothesis is rejected."
   ],
   "cell_type": "markdown",
   "metadata": {}
  },
  {
   "source": [
    "Repeat steps 1-4 in order to run the same hypothesis test, but for patients in the sample who were not diagnosed with heart disease. Do patients without heart disease have average cholesterol levels significantly above 240 mg/dl?"
   ],
   "cell_type": "markdown",
   "metadata": {}
  },
  {
   "cell_type": "code",
   "execution_count": 16,
   "metadata": {},
   "outputs": [
    {
     "output_type": "execute_result",
     "data": {
      "text/plain": [
       "0.26397120232220506"
      ]
     },
     "metadata": {},
     "execution_count": 16
    }
   ],
   "source": [
    "t_test, pvalue = scipy.stats.ttest_1samp(no_hd.chol, popmean=240, alternative='greater')\n",
    "pvalue "
   ]
  },
  {
   "source": [
    "**Response** The *pvalue* obtained being the mean 240 is much higher than 0.05, so the null hypothesis is accepted."
   ],
   "cell_type": "markdown",
   "metadata": {}
  },
  {
   "source": [
    "# Fasting Blood Sugar Analysis"
   ],
   "cell_type": "markdown",
   "metadata": {}
  },
  {
   "source": [
    "Calculate the number of patients with fasting blood sugar greater than 120. Save this number as `num_highfbs_patients` and print it out."
   ],
   "cell_type": "markdown",
   "metadata": {}
  },
  {
   "cell_type": "code",
   "execution_count": 42,
   "metadata": {},
   "outputs": [],
   "source": [
    "num_patiens = heart.fbs.count()\n",
    "num_highfbs_patients = heart.fbs[heart.fbs == 1.0].count()"
   ]
  },
  {
   "source": [
    "\n",
    "Sometimes, part of an analysis will involve comparing a sample to known population values to see if the sample appears to be representative of the general population.\n",
    "\n",
    "By some estimates, about 8% of the U.S. population had diabetes (diagnosed or undiagnosed) in 1988 when this data was collected. While there are multiple tests that contribute to a diabetes diagnosis, fasting blood sugar levels greater than 120 mg/dl can be indicative of diabetes (or at least, pre-diabetes). If this sample were representative of the population, approximately how many people would you expect to have diabetes? Calculate and print out this number.\n",
    "\n",
    "Is this value similar to the number of patients with a resting blood sugar above 120 mg/dl — or different?\n",
    "Does this sample come from a population in which the rate of fbs > 120 mg/dl is equal to 8%? Import the function from scipy.stats that you can use to test the following null and alternative hypotheses:\n",
    "\n",
    "Null: This sample was drawn from a population where 8% of people have fasting blood sugar > 120 mg/dl\n",
    "Alternative: This sample was drawn from a population where more than 8% of people have fasting blood sugar > 120 mg/dl\n",
    "Run the hypothesis test indicated in task 9 and print out the p-value. Using a significance threshold of 0.05, can you conclude that this sample was drawn from a population where the rate of fasting blood sugar > 120 mg/dl is significantly greater than 8%?"
   ],
   "cell_type": "markdown",
   "metadata": {}
  },
  {
   "cell_type": "code",
   "execution_count": 47,
   "metadata": {},
   "outputs": [
    {
     "output_type": "execute_result",
     "data": {
      "text/plain": [
       "4.689471951449078e-05"
      ]
     },
     "metadata": {},
     "execution_count": 47
    }
   ],
   "source": [
    "p_value_2sided = scipy.stats.binom_test(num_highfbs_patients, n=num_patiens, p=.08, alternative='greater')\n",
    "p_value_2sided"
   ]
  },
  {
   "source": [
    "The null hypothesis is rejected."
   ],
   "cell_type": "markdown",
   "metadata": {}
  }
 ]
}