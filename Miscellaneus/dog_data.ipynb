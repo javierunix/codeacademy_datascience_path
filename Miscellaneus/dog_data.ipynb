{
 "metadata": {
  "language_info": {
   "codemirror_mode": {
    "name": "ipython",
    "version": 3
   },
   "file_extension": ".py",
   "mimetype": "text/x-python",
   "name": "python",
   "nbconvert_exporter": "python",
   "pygments_lexer": "ipython3",
   "version": "3.8.8"
  },
  "orig_nbformat": 2,
  "kernelspec": {
   "name": "python388jvsc74a57bd0aaa8cd9d8dee3a32c846f4040502c711d1cd9d513882153f94a5792d3c9f0af8",
   "display_name": "Python 3.8.8 64-bit ('datascience': conda)"
  },
  "metadata": {
   "interpreter": {
    "hash": "aaa8cd9d8dee3a32c846f4040502c711d1cd9d513882153f94a5792d3c9f0af8"
   }
  }
 },
 "nbformat": 4,
 "nbformat_minor": 2,
 "cells": [
  {
   "cell_type": "code",
   "execution_count": 1,
   "metadata": {},
   "outputs": [],
   "source": [
    "# import librarys\n",
    "import numpy as np \n",
    "import pandas as pd"
   ]
  },
  {
   "cell_type": "code",
   "execution_count": 2,
   "metadata": {},
   "outputs": [
    {
     "output_type": "execute_result",
     "data": {
      "text/plain": [
       "   is_rescue  weight  tail_length  age  color  likes_children  \\\n",
       "0          0       6         2.25    2  black               1   \n",
       "1          0       4         5.36    4  black               0   \n",
       "2          0       7         3.63    3  black               0   \n",
       "3          0       5         0.19    2  black               0   \n",
       "4          0       5         0.37    1  black               1   \n",
       "\n",
       "   is_hypoallergenic      name      breed  \n",
       "0                  0      Huey  chihuahua  \n",
       "1                  0   Cherish  chihuahua  \n",
       "2                  1     Becka  chihuahua  \n",
       "3                  0     Addie  chihuahua  \n",
       "4                  1  Beverlee  chihuahua  "
      ],
      "text/html": "<div>\n<style scoped>\n    .dataframe tbody tr th:only-of-type {\n        vertical-align: middle;\n    }\n\n    .dataframe tbody tr th {\n        vertical-align: top;\n    }\n\n    .dataframe thead th {\n        text-align: right;\n    }\n</style>\n<table border=\"1\" class=\"dataframe\">\n  <thead>\n    <tr style=\"text-align: right;\">\n      <th></th>\n      <th>is_rescue</th>\n      <th>weight</th>\n      <th>tail_length</th>\n      <th>age</th>\n      <th>color</th>\n      <th>likes_children</th>\n      <th>is_hypoallergenic</th>\n      <th>name</th>\n      <th>breed</th>\n    </tr>\n  </thead>\n  <tbody>\n    <tr>\n      <th>0</th>\n      <td>0</td>\n      <td>6</td>\n      <td>2.25</td>\n      <td>2</td>\n      <td>black</td>\n      <td>1</td>\n      <td>0</td>\n      <td>Huey</td>\n      <td>chihuahua</td>\n    </tr>\n    <tr>\n      <th>1</th>\n      <td>0</td>\n      <td>4</td>\n      <td>5.36</td>\n      <td>4</td>\n      <td>black</td>\n      <td>0</td>\n      <td>0</td>\n      <td>Cherish</td>\n      <td>chihuahua</td>\n    </tr>\n    <tr>\n      <th>2</th>\n      <td>0</td>\n      <td>7</td>\n      <td>3.63</td>\n      <td>3</td>\n      <td>black</td>\n      <td>0</td>\n      <td>1</td>\n      <td>Becka</td>\n      <td>chihuahua</td>\n    </tr>\n    <tr>\n      <th>3</th>\n      <td>0</td>\n      <td>5</td>\n      <td>0.19</td>\n      <td>2</td>\n      <td>black</td>\n      <td>0</td>\n      <td>0</td>\n      <td>Addie</td>\n      <td>chihuahua</td>\n    </tr>\n    <tr>\n      <th>4</th>\n      <td>0</td>\n      <td>5</td>\n      <td>0.37</td>\n      <td>1</td>\n      <td>black</td>\n      <td>1</td>\n      <td>1</td>\n      <td>Beverlee</td>\n      <td>chihuahua</td>\n    </tr>\n  </tbody>\n</table>\n</div>"
     },
     "metadata": {},
     "execution_count": 2
    }
   ],
   "source": [
    "# load data\n",
    "dogs = pd.read_csv('dog_data.csv')\n",
    "dogs.head()"
   ]
  },
  {
   "source": [
    "# Data to the rescue\n",
    "FetchMaker estimates (based on historical data for all dogs) that 8% of dogs in their system are rescues.\n",
    "\n",
    "They would like to know if whippets are significantly more or less likely than other dogs to be a rescue.\n"
   ],
   "cell_type": "markdown",
   "metadata": {}
  },
  {
   "cell_type": "code",
   "execution_count": 12,
   "metadata": {},
   "outputs": [
    {
     "output_type": "execute_result",
     "data": {
      "text/plain": [
       "6"
      ]
     },
     "metadata": {},
     "execution_count": 12
    }
   ],
   "source": [
    "whippet_rescue = dogs.is_rescue[dogs.breed == 'whippet']  # Store the is_rescue values for whippet's in a variable called `whippet_rescue`.\n",
    "num_whippets_rescued = whippet_rescue.sum() # number of rescued whippets\n",
    "num_whippets_rescued"
   ]
  },
  {
   "cell_type": "code",
   "execution_count": 13,
   "metadata": {},
   "outputs": [
    {
     "output_type": "execute_result",
     "data": {
      "text/plain": [
       "100"
      ]
     },
     "metadata": {},
     "execution_count": 13
    }
   ],
   "source": [
    "num_whippets = len(whippet_rescue) # total number of whippet\n",
    "num_whippets"
   ]
  },
  {
   "source": [
    "Use a hypothesis test to test the following null and alternative hypotheses:\n",
    "\n",
    "Null: 8% of whippets are rescues\n",
    "\n",
    "Alternative: more or less than 8% of whippets are rescues\n",
    "\n",
    "Save the p-value from this test as `pval` and print it out. Using a significance threshold of 0.05, Is the proportion of whippets who are rescues significantly different from 8%?"
   ],
   "cell_type": "markdown",
   "metadata": {}
  },
  {
   "source": [
    "We are going to conduct a binomial test, with the following parameters:\n",
    "* Number of success: `num_whippets_rescued`.\n",
    "* n (size): `num_whippets`.\n",
    "* p: probability of success, according to the null hypothesis (8%)"
   ],
   "cell_type": "markdown",
   "metadata": {}
  },
  {
   "cell_type": "code",
   "execution_count": 14,
   "metadata": {},
   "outputs": [
    {
     "output_type": "execute_result",
     "data": {
      "text/plain": [
       "0.5811780106238098"
      ]
     },
     "metadata": {},
     "execution_count": 14
    }
   ],
   "source": [
    "from scipy.stats import binom_test\n",
    "binom_test(num_whippets_rescued, n=num_whippets, p=0.08) "
   ]
  },
  {
   "source": [
    "The pvalue is higher than 0.05, so the null hypothesis is accepted."
   ],
   "cell_type": "markdown",
   "metadata": {}
  },
  {
   "source": [
    "# Mid-Sized Dog Weights\n",
    "\n",
    "We are going to compare the average weights `whippet`s, `terrier`s and `pitbull`s."
   ],
   "cell_type": "markdown",
   "metadata": {}
  },
  {
   "cell_type": "code",
   "execution_count": 16,
   "metadata": {},
   "outputs": [],
   "source": [
    "# save the weights of each breed in separate variables\n",
    "\n",
    "whippet_wt = dogs.weight[dogs.breed == 'whippet']\n",
    "terrier_wt = dogs.weight[dogs.breed == 'terrier']\n",
    "pitbull_wt = dogs.weight[dogs.breed == 'pitbull']"
   ]
  },
  {
   "cell_type": "code",
   "execution_count": 17,
   "metadata": {},
   "outputs": [
    {
     "output_type": "stream",
     "name": "stdout",
     "text": [
      "40.82\n30.92\n44.16\n"
     ]
    }
   ],
   "source": [
    "# print the mean of every variable\n",
    "print(np.mean(whippet_wt))\n",
    "print(np.mean(terrier_wt))\n",
    "print(np.mean(pitbull_wt))"
   ]
  },
  {
   "source": [
    "Should we assume that the three groups have the same average, using a significance threshold of 0.05.\n",
    "\n",
    "An Analysis of Variance (ANOVA) is used to test an association between a non-binary categorical variable and a quantitative variablle. The null hypothesis is that the group means are all equal.\n"
   ],
   "cell_type": "markdown",
   "metadata": {}
  },
  {
   "source": [
    "# import the function to perform the ANOVA test\n",
    "from scipy.stats import f_oneway"
   ],
   "cell_type": "code",
   "metadata": {},
   "execution_count": 18,
   "outputs": []
  },
  {
   "cell_type": "code",
   "execution_count": 19,
   "metadata": {},
   "outputs": [
    {
     "output_type": "execute_result",
     "data": {
      "text/plain": [
       "3.276415588274815e-17"
      ]
     },
     "metadata": {},
     "execution_count": 19
    }
   ],
   "source": [
    "fstat, pval = f_oneway(whippet_wt, terrier_wt, pitbull_wt)\n",
    "pval"
   ]
  },
  {
   "source": [
    "The pvalue obtained is significant.\n",
    "\n",
    "As a consequence we have to run a Tukey's range test to simultaneously compare group means for all possible pairs of groups."
   ],
   "cell_type": "markdown",
   "metadata": {}
  },
  {
   "cell_type": "code",
   "execution_count": 21,
   "metadata": {},
   "outputs": [],
   "source": [
    "# import the tukeyhsd function\n",
    "from statsmodels.stats.multicomp import pairwise_tukeyhsd"
   ]
  },
  {
   "cell_type": "code",
   "execution_count": 25,
   "metadata": {},
   "outputs": [],
   "source": [
    "# create a df with the selected breeds.\n",
    "dogs_wtp = dogs[dogs.breed.isin(['whippet', 'terrier', 'pitbull'])]\n"
   ]
  },
  {
   "cell_type": "code",
   "execution_count": 28,
   "metadata": {},
   "outputs": [
    {
     "output_type": "stream",
     "name": "stdout",
     "text": [
      " Multiple Comparison of Means - Tukey HSD, FWER=0.05 \n=====================================================\n group1  group2 meandiff p-adj   lower  upper  reject\n-----------------------------------------------------\npitbull terrier   -13.24  0.001 -16.728 -9.752   True\npitbull whippet    -3.34 0.0639  -6.828  0.148  False\nterrier whippet      9.9  0.001   6.412 13.388   True\n-----------------------------------------------------\n"
     ]
    }
   ],
   "source": [
    "# run the Tukey's range test\n",
    "tukey_results = pairwise_tukeyhsd(dogs_wtp.weight, dogs_wtp.breed, 0.05)\n",
    "print(tukey_results)"
   ]
  }
 ]
}