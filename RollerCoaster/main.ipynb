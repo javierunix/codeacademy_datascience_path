{
 "metadata": {
  "language_info": {
   "codemirror_mode": {
    "name": "ipython",
    "version": 3
   },
   "file_extension": ".py",
   "mimetype": "text/x-python",
   "name": "python",
   "nbconvert_exporter": "python",
   "pygments_lexer": "ipython3",
   "version": "3.8.8"
  },
  "orig_nbformat": 2,
  "kernelspec": {
   "name": "python388jvsc74a57bd0aaa8cd9d8dee3a32c846f4040502c711d1cd9d513882153f94a5792d3c9f0af8",
   "display_name": "Python 3.8.8 64-bit ('datascience': conda)"
  },
  "metadata": {
   "interpreter": {
    "hash": "aaa8cd9d8dee3a32c846f4040502c711d1cd9d513882153f94a5792d3c9f0af8"
   }
  }
 },
 "nbformat": 4,
 "nbformat_minor": 2,
 "cells": [
  {
   "cell_type": "code",
   "execution_count": 1,
   "metadata": {},
   "outputs": [],
   "source": [
    "import pandas as pd \n",
    "from matplotlib import pyplot as plt \n",
    "import numpy as np"
   ]
  },
  {
   "cell_type": "code",
   "execution_count": 28,
   "metadata": {},
   "outputs": [
    {
     "output_type": "execute_result",
     "data": {
      "text/plain": [
       "    Rank               Name                        Park             Location  \\\n",
       "0      1       Boulder Dash              Lake Compounce       Bristol, Conn.   \n",
       "1      2            El Toro   Six Flags Great Adventure        Jackson, N.J.   \n",
       "2      3            Phoenix   Knoebels Amusement Resort        Elysburg, Pa.   \n",
       "3      4         The Voyage               Holiday World    Santa Claus, Ind.   \n",
       "4      5        Thunderhead                   Dollywood  Pigeon Forge, Tenn.   \n",
       "5      6    Ravine Flyer II                   Waldameer            Erie, Pa.   \n",
       "6      7         Outlaw Run          Silver Dollar City         Branson, Mo.   \n",
       "7      8          The Beast                Kings Island    Kings Mills, Ohio   \n",
       "8      9    Lightning Racer                 Hersheypark         Hershey, Pa.   \n",
       "9     10  Shivering Timbers        Michigan’s Adventure      Muskegon, Mich.   \n",
       "10     1       Boulder Dash              Lake Compounce       Bristol, Conn.   \n",
       "11     2            El Toro   Six Flags Great Adventure        Jackson, N.J.   \n",
       "12     3         The Voyage               Holiday World    Santa Claus, Ind.   \n",
       "13     4            Phoenix   Knoebels Amusement Resort        Elysburg, Pa.   \n",
       "14     5        Thunderhead                   Dollywood  Pigeon Forge, Tenn.   \n",
       "15     6    Ravine Flyer II                   Waldameer            Erie, Pa.   \n",
       "16     7       Gold Striker  California’s Great America  Santa Clara, Calif.   \n",
       "17     8          The Beast                Kings Island          Mason, Ohio   \n",
       "18     9         Outlaw Run          Silver Dollar City         Branson, Mo.   \n",
       "19    10             Balder                    Liseberg   Gothenburg, Sweden   \n",
       "\n",
       "            Supplier  Year Built  Points  Year of Rank  \n",
       "0                CCI        2000    1333          2013  \n",
       "1            Intamin        2006    1302          2013  \n",
       "2   Dinn/PTC-Schmeck        1985    1088          2013  \n",
       "3      Gravity Group        2006    1086          2013  \n",
       "4               GCII        2004     923          2013  \n",
       "5      Gravity Group        2008     712          2013  \n",
       "6     Rocky Mountain        2013     599          2013  \n",
       "7               KECO        1979     555          2013  \n",
       "8               GCII        2000     364          2013  \n",
       "9                CCI        1998     304          2013  \n",
       "10               CCI        2000    1480          2014  \n",
       "11           Intamin        2006    1291          2014  \n",
       "12     Gravity Group        2006    1129          2014  \n",
       "13  Dinn/PTC-Schmeck        1985    1036          2014  \n",
       "14              GCII        2004     837          2014  \n",
       "15     Gravity Group        2008     719          2014  \n",
       "16              GCII        2013     619          2014  \n",
       "17              KECO        1979     614          2014  \n",
       "18    Rocky Mountain        2013     605          2014  \n",
       "19           Intamin        2003     393          2014  "
      ],
      "text/html": "<div>\n<style scoped>\n    .dataframe tbody tr th:only-of-type {\n        vertical-align: middle;\n    }\n\n    .dataframe tbody tr th {\n        vertical-align: top;\n    }\n\n    .dataframe thead th {\n        text-align: right;\n    }\n</style>\n<table border=\"1\" class=\"dataframe\">\n  <thead>\n    <tr style=\"text-align: right;\">\n      <th></th>\n      <th>Rank</th>\n      <th>Name</th>\n      <th>Park</th>\n      <th>Location</th>\n      <th>Supplier</th>\n      <th>Year Built</th>\n      <th>Points</th>\n      <th>Year of Rank</th>\n    </tr>\n  </thead>\n  <tbody>\n    <tr>\n      <th>0</th>\n      <td>1</td>\n      <td>Boulder Dash</td>\n      <td>Lake Compounce</td>\n      <td>Bristol, Conn.</td>\n      <td>CCI</td>\n      <td>2000</td>\n      <td>1333</td>\n      <td>2013</td>\n    </tr>\n    <tr>\n      <th>1</th>\n      <td>2</td>\n      <td>El Toro</td>\n      <td>Six Flags Great Adventure</td>\n      <td>Jackson, N.J.</td>\n      <td>Intamin</td>\n      <td>2006</td>\n      <td>1302</td>\n      <td>2013</td>\n    </tr>\n    <tr>\n      <th>2</th>\n      <td>3</td>\n      <td>Phoenix</td>\n      <td>Knoebels Amusement Resort</td>\n      <td>Elysburg, Pa.</td>\n      <td>Dinn/PTC-Schmeck</td>\n      <td>1985</td>\n      <td>1088</td>\n      <td>2013</td>\n    </tr>\n    <tr>\n      <th>3</th>\n      <td>4</td>\n      <td>The Voyage</td>\n      <td>Holiday World</td>\n      <td>Santa Claus, Ind.</td>\n      <td>Gravity Group</td>\n      <td>2006</td>\n      <td>1086</td>\n      <td>2013</td>\n    </tr>\n    <tr>\n      <th>4</th>\n      <td>5</td>\n      <td>Thunderhead</td>\n      <td>Dollywood</td>\n      <td>Pigeon Forge, Tenn.</td>\n      <td>GCII</td>\n      <td>2004</td>\n      <td>923</td>\n      <td>2013</td>\n    </tr>\n    <tr>\n      <th>5</th>\n      <td>6</td>\n      <td>Ravine Flyer II</td>\n      <td>Waldameer</td>\n      <td>Erie, Pa.</td>\n      <td>Gravity Group</td>\n      <td>2008</td>\n      <td>712</td>\n      <td>2013</td>\n    </tr>\n    <tr>\n      <th>6</th>\n      <td>7</td>\n      <td>Outlaw Run</td>\n      <td>Silver Dollar City</td>\n      <td>Branson, Mo.</td>\n      <td>Rocky Mountain</td>\n      <td>2013</td>\n      <td>599</td>\n      <td>2013</td>\n    </tr>\n    <tr>\n      <th>7</th>\n      <td>8</td>\n      <td>The Beast</td>\n      <td>Kings Island</td>\n      <td>Kings Mills, Ohio</td>\n      <td>KECO</td>\n      <td>1979</td>\n      <td>555</td>\n      <td>2013</td>\n    </tr>\n    <tr>\n      <th>8</th>\n      <td>9</td>\n      <td>Lightning Racer</td>\n      <td>Hersheypark</td>\n      <td>Hershey, Pa.</td>\n      <td>GCII</td>\n      <td>2000</td>\n      <td>364</td>\n      <td>2013</td>\n    </tr>\n    <tr>\n      <th>9</th>\n      <td>10</td>\n      <td>Shivering Timbers</td>\n      <td>Michigan’s Adventure</td>\n      <td>Muskegon, Mich.</td>\n      <td>CCI</td>\n      <td>1998</td>\n      <td>304</td>\n      <td>2013</td>\n    </tr>\n    <tr>\n      <th>10</th>\n      <td>1</td>\n      <td>Boulder Dash</td>\n      <td>Lake Compounce</td>\n      <td>Bristol, Conn.</td>\n      <td>CCI</td>\n      <td>2000</td>\n      <td>1480</td>\n      <td>2014</td>\n    </tr>\n    <tr>\n      <th>11</th>\n      <td>2</td>\n      <td>El Toro</td>\n      <td>Six Flags Great Adventure</td>\n      <td>Jackson, N.J.</td>\n      <td>Intamin</td>\n      <td>2006</td>\n      <td>1291</td>\n      <td>2014</td>\n    </tr>\n    <tr>\n      <th>12</th>\n      <td>3</td>\n      <td>The Voyage</td>\n      <td>Holiday World</td>\n      <td>Santa Claus, Ind.</td>\n      <td>Gravity Group</td>\n      <td>2006</td>\n      <td>1129</td>\n      <td>2014</td>\n    </tr>\n    <tr>\n      <th>13</th>\n      <td>4</td>\n      <td>Phoenix</td>\n      <td>Knoebels Amusement Resort</td>\n      <td>Elysburg, Pa.</td>\n      <td>Dinn/PTC-Schmeck</td>\n      <td>1985</td>\n      <td>1036</td>\n      <td>2014</td>\n    </tr>\n    <tr>\n      <th>14</th>\n      <td>5</td>\n      <td>Thunderhead</td>\n      <td>Dollywood</td>\n      <td>Pigeon Forge, Tenn.</td>\n      <td>GCII</td>\n      <td>2004</td>\n      <td>837</td>\n      <td>2014</td>\n    </tr>\n    <tr>\n      <th>15</th>\n      <td>6</td>\n      <td>Ravine Flyer II</td>\n      <td>Waldameer</td>\n      <td>Erie, Pa.</td>\n      <td>Gravity Group</td>\n      <td>2008</td>\n      <td>719</td>\n      <td>2014</td>\n    </tr>\n    <tr>\n      <th>16</th>\n      <td>7</td>\n      <td>Gold Striker</td>\n      <td>California’s Great America</td>\n      <td>Santa Clara, Calif.</td>\n      <td>GCII</td>\n      <td>2013</td>\n      <td>619</td>\n      <td>2014</td>\n    </tr>\n    <tr>\n      <th>17</th>\n      <td>8</td>\n      <td>The Beast</td>\n      <td>Kings Island</td>\n      <td>Mason, Ohio</td>\n      <td>KECO</td>\n      <td>1979</td>\n      <td>614</td>\n      <td>2014</td>\n    </tr>\n    <tr>\n      <th>18</th>\n      <td>9</td>\n      <td>Outlaw Run</td>\n      <td>Silver Dollar City</td>\n      <td>Branson, Mo.</td>\n      <td>Rocky Mountain</td>\n      <td>2013</td>\n      <td>605</td>\n      <td>2014</td>\n    </tr>\n    <tr>\n      <th>19</th>\n      <td>10</td>\n      <td>Balder</td>\n      <td>Liseberg</td>\n      <td>Gothenburg, Sweden</td>\n      <td>Intamin</td>\n      <td>2003</td>\n      <td>393</td>\n      <td>2014</td>\n    </tr>\n  </tbody>\n</table>\n</div>"
     },
     "metadata": {},
     "execution_count": 28
    }
   ],
   "source": [
    "coaster_ranking_wood = pd.read_csv('golden_ticket_award_winner_wood.csv')\n",
    "coaster_ranking_wood.head(20)"
   ]
  },
  {
   "cell_type": "code",
   "execution_count": 35,
   "metadata": {},
   "outputs": [],
   "source": [
    "# this function return the entries correspondent to the roller coaster specified by the user\n",
    "\n",
    "def name_ranking(df, name): # dataframe and name of the roller coaster as arguments\n",
    "    name_ranking_df = df[df['Name'] == name]\n",
    "    return name_ranking_df"
   ]
  },
  {
   "cell_type": "code",
   "execution_count": 38,
   "metadata": {},
   "outputs": [
    {
     "output_type": "execute_result",
     "data": {
      "text/plain": [
       "     Rank     Name                       Park             Location  \\\n",
       "1       2  El Toro  Six Flags Great Adventure        Jackson, N.J.   \n",
       "11      2  El Toro  Six Flags Great Adventure        Jackson, N.J.   \n",
       "21      2  El Toro  Six Flags Great Adventure        Jackson, N.J.   \n",
       "32      3  El Toro  Six Flags Great Adventure        Jackson, N.J.   \n",
       "55     25  El Toro        Freitzeitpark Plohn  Legendfeld, Germany   \n",
       "80      1  El Toro  Six Flags Great Adventure        Jackson, N.J.   \n",
       "120    41  El Toro        Freitzeitpark Plohn  Legendfeld, Germany   \n",
       "131     2  El Toro  Six Flags Great Adventure        Jackson, N.J.   \n",
       "\n",
       "                Supplier  Year Built  Points  Year of Rank  \n",
       "1                Intamin        2006    1302          2013  \n",
       "11               Intamin        2006    1291          2014  \n",
       "21               Intamin        2006    1464          2015  \n",
       "32               Intamin        2006    1121          2016  \n",
       "55   Great Coasters Int.        2009     166          2016  \n",
       "80               Intamin        2009    1241          2017  \n",
       "120  Great Coasters Int.        2006      92          2017  \n",
       "131              Intamin        2006    1197          2018  "
      ],
      "text/html": "<div>\n<style scoped>\n    .dataframe tbody tr th:only-of-type {\n        vertical-align: middle;\n    }\n\n    .dataframe tbody tr th {\n        vertical-align: top;\n    }\n\n    .dataframe thead th {\n        text-align: right;\n    }\n</style>\n<table border=\"1\" class=\"dataframe\">\n  <thead>\n    <tr style=\"text-align: right;\">\n      <th></th>\n      <th>Rank</th>\n      <th>Name</th>\n      <th>Park</th>\n      <th>Location</th>\n      <th>Supplier</th>\n      <th>Year Built</th>\n      <th>Points</th>\n      <th>Year of Rank</th>\n    </tr>\n  </thead>\n  <tbody>\n    <tr>\n      <th>1</th>\n      <td>2</td>\n      <td>El Toro</td>\n      <td>Six Flags Great Adventure</td>\n      <td>Jackson, N.J.</td>\n      <td>Intamin</td>\n      <td>2006</td>\n      <td>1302</td>\n      <td>2013</td>\n    </tr>\n    <tr>\n      <th>11</th>\n      <td>2</td>\n      <td>El Toro</td>\n      <td>Six Flags Great Adventure</td>\n      <td>Jackson, N.J.</td>\n      <td>Intamin</td>\n      <td>2006</td>\n      <td>1291</td>\n      <td>2014</td>\n    </tr>\n    <tr>\n      <th>21</th>\n      <td>2</td>\n      <td>El Toro</td>\n      <td>Six Flags Great Adventure</td>\n      <td>Jackson, N.J.</td>\n      <td>Intamin</td>\n      <td>2006</td>\n      <td>1464</td>\n      <td>2015</td>\n    </tr>\n    <tr>\n      <th>32</th>\n      <td>3</td>\n      <td>El Toro</td>\n      <td>Six Flags Great Adventure</td>\n      <td>Jackson, N.J.</td>\n      <td>Intamin</td>\n      <td>2006</td>\n      <td>1121</td>\n      <td>2016</td>\n    </tr>\n    <tr>\n      <th>55</th>\n      <td>25</td>\n      <td>El Toro</td>\n      <td>Freitzeitpark Plohn</td>\n      <td>Legendfeld, Germany</td>\n      <td>Great Coasters Int.</td>\n      <td>2009</td>\n      <td>166</td>\n      <td>2016</td>\n    </tr>\n    <tr>\n      <th>80</th>\n      <td>1</td>\n      <td>El Toro</td>\n      <td>Six Flags Great Adventure</td>\n      <td>Jackson, N.J.</td>\n      <td>Intamin</td>\n      <td>2009</td>\n      <td>1241</td>\n      <td>2017</td>\n    </tr>\n    <tr>\n      <th>120</th>\n      <td>41</td>\n      <td>El Toro</td>\n      <td>Freitzeitpark Plohn</td>\n      <td>Legendfeld, Germany</td>\n      <td>Great Coasters Int.</td>\n      <td>2006</td>\n      <td>92</td>\n      <td>2017</td>\n    </tr>\n    <tr>\n      <th>131</th>\n      <td>2</td>\n      <td>El Toro</td>\n      <td>Six Flags Great Adventure</td>\n      <td>Jackson, N.J.</td>\n      <td>Intamin</td>\n      <td>2006</td>\n      <td>1197</td>\n      <td>2018</td>\n    </tr>\n  </tbody>\n</table>\n</div>"
     },
     "metadata": {},
     "execution_count": 38
    }
   ],
   "source": [
    "name_ranking(coaster_ranking_wood, 'El Toro')"
   ]
  },
  {
   "cell_type": "code",
   "execution_count": 27,
   "metadata": {},
   "outputs": [
    {
     "output_type": "execute_result",
     "data": {
      "text/plain": [
       "    Rank                Name                        Park  \\\n",
       "0      1    Millennium Force                 Cedar Point   \n",
       "1      2             Bizarro       Six Flags New England   \n",
       "2      3  Expedition GeForce                Holiday Park   \n",
       "3      4               Nitro   Six Flags Great Adventure   \n",
       "4      5    Apollo's Chariot  Busch Gardens Williamsburg   \n",
       "5      6     New Texas Giant        Six Flags Over Texas   \n",
       "6      7             Goliath      Six Flags Over Georgia   \n",
       "7      8         Intimidator                   Carowinds   \n",
       "8      9       Magnum XL-200                 Cedar Point   \n",
       "9     10     Intimidator-305              Kings Dominion   \n",
       "10     1    Millennium Force                 Cedar Point   \n",
       "11     2             Bizarro       Six Flags New England   \n",
       "12     3  Expedition GeForce                Holiday Park   \n",
       "13     4         Diamondback                Kings Island   \n",
       "14     5               Nitro   Six Flags Great Adventure   \n",
       "15     6           Leviathan         Canada's Wonderland   \n",
       "16     7    Apollo's Chariot  Busch Gardens Williamsburg   \n",
       "17     8     New Texas Giant        Six Flags Over Texas   \n",
       "18     9             Goliath      Six Flags Over Georgia   \n",
       "19    10         Intimidator                   Carowinds   \n",
       "\n",
       "                 Location        Supplier  Year Built  Points  Year of Rank  \n",
       "0          Sandusky, Ohio         Intamin        2000    1204          2013  \n",
       "1           Agawam, Mass.         Intamin        2000    1011          2013  \n",
       "2       Hassloch, Germany         Intamin        2001     598          2013  \n",
       "3           Jackson, N.J.             B&M        2001     596          2013  \n",
       "4       Williamsburg, Va.             B&M        1999     542          2013  \n",
       "5        Arlington, Texas  Rocky Mountain        2011     512          2013  \n",
       "6            Austell, Ga.             B&M        2006     494          2013  \n",
       "7         Charlotte, N.C.             B&M        2010     478          2013  \n",
       "8          Sandusky, Ohio           Arrow        1989     416          2013  \n",
       "9            Doswell, Va.         Intamin        2010     412          2013  \n",
       "10         Sandusky, Ohio         Intamin        2000    1139          2014  \n",
       "11          Agawam, Mass.         Intamin        2000    1049          2014  \n",
       "12      Hassloch, Germany         Intamin        2001     764          2014  \n",
       "13            Mason, Ohio             B&M        2009     579          2014  \n",
       "14          Jackson, N.J.             B&M        2001     563          2014  \n",
       "15  Vaughan, Ont., Canada             B&M        2012     500          2014  \n",
       "16      Williamsburg, Va.             B&M        1999     484          2014  \n",
       "17       Arlington, Texas  Rocky Mountain        2011     465          2014  \n",
       "18           Austell, Ga.             B&M        2006     422          2014  \n",
       "19        Charlotte, N.C.             B&M        2010     387          2014  "
      ],
      "text/html": "<div>\n<style scoped>\n    .dataframe tbody tr th:only-of-type {\n        vertical-align: middle;\n    }\n\n    .dataframe tbody tr th {\n        vertical-align: top;\n    }\n\n    .dataframe thead th {\n        text-align: right;\n    }\n</style>\n<table border=\"1\" class=\"dataframe\">\n  <thead>\n    <tr style=\"text-align: right;\">\n      <th></th>\n      <th>Rank</th>\n      <th>Name</th>\n      <th>Park</th>\n      <th>Location</th>\n      <th>Supplier</th>\n      <th>Year Built</th>\n      <th>Points</th>\n      <th>Year of Rank</th>\n    </tr>\n  </thead>\n  <tbody>\n    <tr>\n      <th>0</th>\n      <td>1</td>\n      <td>Millennium Force</td>\n      <td>Cedar Point</td>\n      <td>Sandusky, Ohio</td>\n      <td>Intamin</td>\n      <td>2000</td>\n      <td>1204</td>\n      <td>2013</td>\n    </tr>\n    <tr>\n      <th>1</th>\n      <td>2</td>\n      <td>Bizarro</td>\n      <td>Six Flags New England</td>\n      <td>Agawam, Mass.</td>\n      <td>Intamin</td>\n      <td>2000</td>\n      <td>1011</td>\n      <td>2013</td>\n    </tr>\n    <tr>\n      <th>2</th>\n      <td>3</td>\n      <td>Expedition GeForce</td>\n      <td>Holiday Park</td>\n      <td>Hassloch, Germany</td>\n      <td>Intamin</td>\n      <td>2001</td>\n      <td>598</td>\n      <td>2013</td>\n    </tr>\n    <tr>\n      <th>3</th>\n      <td>4</td>\n      <td>Nitro</td>\n      <td>Six Flags Great Adventure</td>\n      <td>Jackson, N.J.</td>\n      <td>B&amp;M</td>\n      <td>2001</td>\n      <td>596</td>\n      <td>2013</td>\n    </tr>\n    <tr>\n      <th>4</th>\n      <td>5</td>\n      <td>Apollo's Chariot</td>\n      <td>Busch Gardens Williamsburg</td>\n      <td>Williamsburg, Va.</td>\n      <td>B&amp;M</td>\n      <td>1999</td>\n      <td>542</td>\n      <td>2013</td>\n    </tr>\n    <tr>\n      <th>5</th>\n      <td>6</td>\n      <td>New Texas Giant</td>\n      <td>Six Flags Over Texas</td>\n      <td>Arlington, Texas</td>\n      <td>Rocky Mountain</td>\n      <td>2011</td>\n      <td>512</td>\n      <td>2013</td>\n    </tr>\n    <tr>\n      <th>6</th>\n      <td>7</td>\n      <td>Goliath</td>\n      <td>Six Flags Over Georgia</td>\n      <td>Austell, Ga.</td>\n      <td>B&amp;M</td>\n      <td>2006</td>\n      <td>494</td>\n      <td>2013</td>\n    </tr>\n    <tr>\n      <th>7</th>\n      <td>8</td>\n      <td>Intimidator</td>\n      <td>Carowinds</td>\n      <td>Charlotte, N.C.</td>\n      <td>B&amp;M</td>\n      <td>2010</td>\n      <td>478</td>\n      <td>2013</td>\n    </tr>\n    <tr>\n      <th>8</th>\n      <td>9</td>\n      <td>Magnum XL-200</td>\n      <td>Cedar Point</td>\n      <td>Sandusky, Ohio</td>\n      <td>Arrow</td>\n      <td>1989</td>\n      <td>416</td>\n      <td>2013</td>\n    </tr>\n    <tr>\n      <th>9</th>\n      <td>10</td>\n      <td>Intimidator-305</td>\n      <td>Kings Dominion</td>\n      <td>Doswell, Va.</td>\n      <td>Intamin</td>\n      <td>2010</td>\n      <td>412</td>\n      <td>2013</td>\n    </tr>\n    <tr>\n      <th>10</th>\n      <td>1</td>\n      <td>Millennium Force</td>\n      <td>Cedar Point</td>\n      <td>Sandusky, Ohio</td>\n      <td>Intamin</td>\n      <td>2000</td>\n      <td>1139</td>\n      <td>2014</td>\n    </tr>\n    <tr>\n      <th>11</th>\n      <td>2</td>\n      <td>Bizarro</td>\n      <td>Six Flags New England</td>\n      <td>Agawam, Mass.</td>\n      <td>Intamin</td>\n      <td>2000</td>\n      <td>1049</td>\n      <td>2014</td>\n    </tr>\n    <tr>\n      <th>12</th>\n      <td>3</td>\n      <td>Expedition GeForce</td>\n      <td>Holiday Park</td>\n      <td>Hassloch, Germany</td>\n      <td>Intamin</td>\n      <td>2001</td>\n      <td>764</td>\n      <td>2014</td>\n    </tr>\n    <tr>\n      <th>13</th>\n      <td>4</td>\n      <td>Diamondback</td>\n      <td>Kings Island</td>\n      <td>Mason, Ohio</td>\n      <td>B&amp;M</td>\n      <td>2009</td>\n      <td>579</td>\n      <td>2014</td>\n    </tr>\n    <tr>\n      <th>14</th>\n      <td>5</td>\n      <td>Nitro</td>\n      <td>Six Flags Great Adventure</td>\n      <td>Jackson, N.J.</td>\n      <td>B&amp;M</td>\n      <td>2001</td>\n      <td>563</td>\n      <td>2014</td>\n    </tr>\n    <tr>\n      <th>15</th>\n      <td>6</td>\n      <td>Leviathan</td>\n      <td>Canada's Wonderland</td>\n      <td>Vaughan, Ont., Canada</td>\n      <td>B&amp;M</td>\n      <td>2012</td>\n      <td>500</td>\n      <td>2014</td>\n    </tr>\n    <tr>\n      <th>16</th>\n      <td>7</td>\n      <td>Apollo's Chariot</td>\n      <td>Busch Gardens Williamsburg</td>\n      <td>Williamsburg, Va.</td>\n      <td>B&amp;M</td>\n      <td>1999</td>\n      <td>484</td>\n      <td>2014</td>\n    </tr>\n    <tr>\n      <th>17</th>\n      <td>8</td>\n      <td>New Texas Giant</td>\n      <td>Six Flags Over Texas</td>\n      <td>Arlington, Texas</td>\n      <td>Rocky Mountain</td>\n      <td>2011</td>\n      <td>465</td>\n      <td>2014</td>\n    </tr>\n    <tr>\n      <th>18</th>\n      <td>9</td>\n      <td>Goliath</td>\n      <td>Six Flags Over Georgia</td>\n      <td>Austell, Ga.</td>\n      <td>B&amp;M</td>\n      <td>2006</td>\n      <td>422</td>\n      <td>2014</td>\n    </tr>\n    <tr>\n      <th>19</th>\n      <td>10</td>\n      <td>Intimidator</td>\n      <td>Carowinds</td>\n      <td>Charlotte, N.C.</td>\n      <td>B&amp;M</td>\n      <td>2010</td>\n      <td>387</td>\n      <td>2014</td>\n    </tr>\n  </tbody>\n</table>\n</div>"
     },
     "metadata": {},
     "execution_count": 27
    }
   ],
   "source": [
    "coaster_ranking_steel = pd.read_csv('golden_ticket_award_winner_steel.csv')\n",
    "coaster_ranking_steel.head(20)"
   ]
  },
  {
   "cell_type": "code",
   "execution_count": 39,
   "metadata": {},
   "outputs": [
    {
     "output_type": "execute_result",
     "data": {
      "text/plain": [
       "     Rank         Name       Park         Location Supplier  Year Built  \\\n",
       "7       8  Intimidator  Carowinds  Charlotte, N.C.      B&M        2010   \n",
       "19     10  Intimidator  Carowinds  Charlotte, N.C.      B&M        2010   \n",
       "26      7  Intimidator  Carowinds  Charlotte, N.C.      B&M        2010   \n",
       "37      8  Intimidator  Carowinds  Charlotte, N.C.      B&M        2010   \n",
       "98     19  Intimidator  Carowinds  Charlotte, N.C.      B&M        2010   \n",
       "151    22  Intimidator  Carowinds  Charlotte, N.C.      B&M        2010   \n",
       "\n",
       "     Points  Year of Rank  \n",
       "7       478          2013  \n",
       "19      387          2014  \n",
       "26      499          2015  \n",
       "37      350          2016  \n",
       "98      261          2017  \n",
       "151     233          2018  "
      ],
      "text/html": "<div>\n<style scoped>\n    .dataframe tbody tr th:only-of-type {\n        vertical-align: middle;\n    }\n\n    .dataframe tbody tr th {\n        vertical-align: top;\n    }\n\n    .dataframe thead th {\n        text-align: right;\n    }\n</style>\n<table border=\"1\" class=\"dataframe\">\n  <thead>\n    <tr style=\"text-align: right;\">\n      <th></th>\n      <th>Rank</th>\n      <th>Name</th>\n      <th>Park</th>\n      <th>Location</th>\n      <th>Supplier</th>\n      <th>Year Built</th>\n      <th>Points</th>\n      <th>Year of Rank</th>\n    </tr>\n  </thead>\n  <tbody>\n    <tr>\n      <th>7</th>\n      <td>8</td>\n      <td>Intimidator</td>\n      <td>Carowinds</td>\n      <td>Charlotte, N.C.</td>\n      <td>B&amp;M</td>\n      <td>2010</td>\n      <td>478</td>\n      <td>2013</td>\n    </tr>\n    <tr>\n      <th>19</th>\n      <td>10</td>\n      <td>Intimidator</td>\n      <td>Carowinds</td>\n      <td>Charlotte, N.C.</td>\n      <td>B&amp;M</td>\n      <td>2010</td>\n      <td>387</td>\n      <td>2014</td>\n    </tr>\n    <tr>\n      <th>26</th>\n      <td>7</td>\n      <td>Intimidator</td>\n      <td>Carowinds</td>\n      <td>Charlotte, N.C.</td>\n      <td>B&amp;M</td>\n      <td>2010</td>\n      <td>499</td>\n      <td>2015</td>\n    </tr>\n    <tr>\n      <th>37</th>\n      <td>8</td>\n      <td>Intimidator</td>\n      <td>Carowinds</td>\n      <td>Charlotte, N.C.</td>\n      <td>B&amp;M</td>\n      <td>2010</td>\n      <td>350</td>\n      <td>2016</td>\n    </tr>\n    <tr>\n      <th>98</th>\n      <td>19</td>\n      <td>Intimidator</td>\n      <td>Carowinds</td>\n      <td>Charlotte, N.C.</td>\n      <td>B&amp;M</td>\n      <td>2010</td>\n      <td>261</td>\n      <td>2017</td>\n    </tr>\n    <tr>\n      <th>151</th>\n      <td>22</td>\n      <td>Intimidator</td>\n      <td>Carowinds</td>\n      <td>Charlotte, N.C.</td>\n      <td>B&amp;M</td>\n      <td>2010</td>\n      <td>233</td>\n      <td>2018</td>\n    </tr>\n  </tbody>\n</table>\n</div>"
     },
     "metadata": {},
     "execution_count": 39
    }
   ],
   "source": [
    "name_ranking(coaster_ranking_steel, 'Intimidator')"
   ]
  }
 ]
}