{
 "cells": [
  {
   "cell_type": "markdown",
   "metadata": {},
   "source": [
    "# Introduction\n",
    "\n",
    "In this project, you will act as a data visualization developer at Yahoo Finance! You will be helping the \"Netflix Stock Profile\" team visualize the Netflix stock data. In finance, a _stock profile_ is a series of studies, visualizations, and analyses that dive into different aspects a publicly traded company's data. \n",
    "\n",
    "For the purposes of the project, you will only visualize data for the year of 2017. Specifically, you will be in charge of creating the following visualizations:\n",
    "+ The distribution of the stock prices for the past year\n",
    "+ Netflix's earnings and revenue in the last four quarters\n",
    "+ The actual vs. estimated earnings per share for the four quarters in 2017\n",
    "+ A comparison of the Netflix Stock price vs the Dow Jones Industrial Average price in 2017 \n",
    "\n",
    "Note: We are using the Dow Jones Industrial Average to compare the Netflix stock to the larter stock market. Learn more about why the Dow Jones Industrial Average is a general reflection of the larger stock market [here](https://www.investopedia.com/terms/d/djia.asp).\n",
    "\n",
    "During this project, you will analyze, prepare, and plot data. Your visualizations will help the financial analysts asses the risk of the Netflix stock.\n",
    "\n",
    "After you complete your visualizations, you'll be creating a presentation to share the images with the rest of the Netflix Stock Profile team. Your slides should include:\n",
    "\n",
    "- A title slide\n",
    "- A list of your visualizations and your role in their creation for the \"Stock Profile\" team\n",
    "- A visualization of the distribution of the stock prices for Netflix in 2017\n",
    "- A visualization and a summary of Netflix stock and revenue for the past four quarters and a summary\n",
    "- A visualization and a brief summary of their earned versus actual earnings per share\n",
    "- A visualization of Netflix stock against the Dow Jones stock (to get a sense of the market) in 2017\n",
    "\n",
    "Financial Data Source: [Yahoo Finance](https://finance.yahoo.com/quote/DATA/)\n"
   ]
  },
  {
   "cell_type": "markdown",
   "metadata": {},
   "source": [
    "## Step 1\n",
    "\n",
    "Let's get our notebook ready for visualizing! Import the modules that you'll be using in this project:\n",
    "- `from matplotlib import pyplot as plt`\n",
    "- `import pandas as pd`\n",
    "- `import seaborn as sns`"
   ]
  },
  {
   "cell_type": "code",
   "execution_count": 1,
   "metadata": {},
   "outputs": [],
   "source": [
    "from matplotlib import pyplot as plt\n",
    "import pandas as pd\n",
    "import seaborn as sns"
   ]
  },
  {
   "cell_type": "markdown",
   "metadata": {},
   "source": [
    "## Step 2"
   ]
  },
  {
   "cell_type": "markdown",
   "metadata": {},
   "source": [
    "Let's load the datasets and inspect them."
   ]
  },
  {
   "cell_type": "markdown",
   "metadata": {},
   "source": [
    "Load **NFLX.csv** into a DataFrame called `netflix_stocks`. Then, quickly inspect the DataFrame using `print()`.\n",
    "\n",
    "Hint: Use the `pd.read_csv()`function).\n",
    "\n",
    "Note: In the Yahoo Data, `Adj Close` represents the adjusted close price adjusted for both dividends and splits. This means this is the true closing stock price for a given business day."
   ]
  },
  {
   "cell_type": "code",
   "execution_count": 2,
   "metadata": {},
   "outputs": [
    {
     "output_type": "execute_result",
     "data": {
      "text/plain": [
       "         Date        Open        High         Low       Close   Adj Close  \\\n",
       "0  2017-01-01  124.959999  143.460007  124.309998  140.710007  140.710007   \n",
       "1  2017-02-01  141.199997  145.949997  139.050003  142.130005  142.130005   \n",
       "2  2017-03-01  142.839996  148.289993  138.259995  147.809998  147.809998   \n",
       "3  2017-04-01  146.699997  153.520004  138.660004  152.199997  152.199997   \n",
       "4  2017-05-01  151.910004  164.750000  151.610001  163.070007  163.070007   \n",
       "5  2017-06-01  163.520004  166.869995  147.300003  149.410004  149.410004   \n",
       "6  2017-07-01  149.800003  191.500000  144.250000  181.660004  181.660004   \n",
       "7  2017-08-01  182.490005  184.619995  164.229996  174.710007  174.710007   \n",
       "8  2017-09-01  175.550003  189.949997  172.440002  181.350006  181.350006   \n",
       "9  2017-10-01  182.110001  204.380005  176.580002  196.429993  196.429993   \n",
       "\n",
       "      Volume  \n",
       "0  181772200  \n",
       "1   91432000  \n",
       "2  110692700  \n",
       "3  149769200  \n",
       "4  116795800  \n",
       "5  135675800  \n",
       "6  185144700  \n",
       "7  136523100  \n",
       "8  111427900  \n",
       "9  208657800  "
      ],
      "text/html": "<div>\n<style scoped>\n    .dataframe tbody tr th:only-of-type {\n        vertical-align: middle;\n    }\n\n    .dataframe tbody tr th {\n        vertical-align: top;\n    }\n\n    .dataframe thead th {\n        text-align: right;\n    }\n</style>\n<table border=\"1\" class=\"dataframe\">\n  <thead>\n    <tr style=\"text-align: right;\">\n      <th></th>\n      <th>Date</th>\n      <th>Open</th>\n      <th>High</th>\n      <th>Low</th>\n      <th>Close</th>\n      <th>Adj Close</th>\n      <th>Volume</th>\n    </tr>\n  </thead>\n  <tbody>\n    <tr>\n      <th>0</th>\n      <td>2017-01-01</td>\n      <td>124.959999</td>\n      <td>143.460007</td>\n      <td>124.309998</td>\n      <td>140.710007</td>\n      <td>140.710007</td>\n      <td>181772200</td>\n    </tr>\n    <tr>\n      <th>1</th>\n      <td>2017-02-01</td>\n      <td>141.199997</td>\n      <td>145.949997</td>\n      <td>139.050003</td>\n      <td>142.130005</td>\n      <td>142.130005</td>\n      <td>91432000</td>\n    </tr>\n    <tr>\n      <th>2</th>\n      <td>2017-03-01</td>\n      <td>142.839996</td>\n      <td>148.289993</td>\n      <td>138.259995</td>\n      <td>147.809998</td>\n      <td>147.809998</td>\n      <td>110692700</td>\n    </tr>\n    <tr>\n      <th>3</th>\n      <td>2017-04-01</td>\n      <td>146.699997</td>\n      <td>153.520004</td>\n      <td>138.660004</td>\n      <td>152.199997</td>\n      <td>152.199997</td>\n      <td>149769200</td>\n    </tr>\n    <tr>\n      <th>4</th>\n      <td>2017-05-01</td>\n      <td>151.910004</td>\n      <td>164.750000</td>\n      <td>151.610001</td>\n      <td>163.070007</td>\n      <td>163.070007</td>\n      <td>116795800</td>\n    </tr>\n    <tr>\n      <th>5</th>\n      <td>2017-06-01</td>\n      <td>163.520004</td>\n      <td>166.869995</td>\n      <td>147.300003</td>\n      <td>149.410004</td>\n      <td>149.410004</td>\n      <td>135675800</td>\n    </tr>\n    <tr>\n      <th>6</th>\n      <td>2017-07-01</td>\n      <td>149.800003</td>\n      <td>191.500000</td>\n      <td>144.250000</td>\n      <td>181.660004</td>\n      <td>181.660004</td>\n      <td>185144700</td>\n    </tr>\n    <tr>\n      <th>7</th>\n      <td>2017-08-01</td>\n      <td>182.490005</td>\n      <td>184.619995</td>\n      <td>164.229996</td>\n      <td>174.710007</td>\n      <td>174.710007</td>\n      <td>136523100</td>\n    </tr>\n    <tr>\n      <th>8</th>\n      <td>2017-09-01</td>\n      <td>175.550003</td>\n      <td>189.949997</td>\n      <td>172.440002</td>\n      <td>181.350006</td>\n      <td>181.350006</td>\n      <td>111427900</td>\n    </tr>\n    <tr>\n      <th>9</th>\n      <td>2017-10-01</td>\n      <td>182.110001</td>\n      <td>204.380005</td>\n      <td>176.580002</td>\n      <td>196.429993</td>\n      <td>196.429993</td>\n      <td>208657800</td>\n    </tr>\n  </tbody>\n</table>\n</div>"
     },
     "metadata": {},
     "execution_count": 2
    }
   ],
   "source": [
    "netflix_stocks_df = pd.read_csv('NFLX.csv')\n",
    "netflix_stocks_df.head(10)"
   ]
  },
  {
   "cell_type": "markdown",
   "metadata": {},
   "source": [
    "Load **DJI.csv** into a DataFrame called `dowjones_stocks`. Then, quickly inspect the DataFrame using `print()`.\n",
    "\n",
    "Note: You can learn more about why the Dow Jones Industrial Average is a industry reflection of the larger stock market [here](https://www.investopedia.com/terms/d/djia.asp). \n"
   ]
  },
  {
   "cell_type": "code",
   "execution_count": 3,
   "metadata": {},
   "outputs": [
    {
     "output_type": "execute_result",
     "data": {
      "text/plain": [
       "         Date          Open          High           Low         Close  \\\n",
       "0  2017-01-01  19872.859375  20125.580078  19677.939453  19864.089844   \n",
       "1  2017-02-01  19923.810547  20851.330078  19831.089844  20812.240234   \n",
       "2  2017-03-01  20957.289063  21169.109375  20412.800781  20663.220703   \n",
       "3  2017-04-01  20665.169922  21070.900391  20379.550781  20940.509766   \n",
       "4  2017-05-01  20962.730469  21112.320313  20553.449219  21008.650391   \n",
       "5  2017-06-01  21030.550781  21535.029297  20994.220703  21349.630859   \n",
       "6  2017-07-01  21392.300781  21929.800781  21279.300781  21891.119141   \n",
       "7  2017-08-01  21961.419922  22179.109375  21600.339844  21948.099609   \n",
       "8  2017-09-01  21981.769531  22419.509766  21709.630859  22405.089844   \n",
       "9  2017-10-01  22423.470703  23485.250000  22416.000000  23377.240234   \n",
       "\n",
       "      Adj Close      Volume  \n",
       "0  19864.089844  6482450000  \n",
       "1  20812.240234  6185580000  \n",
       "2  20663.220703  6941970000  \n",
       "3  20940.509766  5392630000  \n",
       "4  21008.650391  6613570000  \n",
       "5  21349.630859  7214590000  \n",
       "6  21891.119141  5569720000  \n",
       "7  21948.099609  6150060000  \n",
       "8  22405.089844  6342130000  \n",
       "9  23377.240234  7302910000  "
      ],
      "text/html": "<div>\n<style scoped>\n    .dataframe tbody tr th:only-of-type {\n        vertical-align: middle;\n    }\n\n    .dataframe tbody tr th {\n        vertical-align: top;\n    }\n\n    .dataframe thead th {\n        text-align: right;\n    }\n</style>\n<table border=\"1\" class=\"dataframe\">\n  <thead>\n    <tr style=\"text-align: right;\">\n      <th></th>\n      <th>Date</th>\n      <th>Open</th>\n      <th>High</th>\n      <th>Low</th>\n      <th>Close</th>\n      <th>Adj Close</th>\n      <th>Volume</th>\n    </tr>\n  </thead>\n  <tbody>\n    <tr>\n      <th>0</th>\n      <td>2017-01-01</td>\n      <td>19872.859375</td>\n      <td>20125.580078</td>\n      <td>19677.939453</td>\n      <td>19864.089844</td>\n      <td>19864.089844</td>\n      <td>6482450000</td>\n    </tr>\n    <tr>\n      <th>1</th>\n      <td>2017-02-01</td>\n      <td>19923.810547</td>\n      <td>20851.330078</td>\n      <td>19831.089844</td>\n      <td>20812.240234</td>\n      <td>20812.240234</td>\n      <td>6185580000</td>\n    </tr>\n    <tr>\n      <th>2</th>\n      <td>2017-03-01</td>\n      <td>20957.289063</td>\n      <td>21169.109375</td>\n      <td>20412.800781</td>\n      <td>20663.220703</td>\n      <td>20663.220703</td>\n      <td>6941970000</td>\n    </tr>\n    <tr>\n      <th>3</th>\n      <td>2017-04-01</td>\n      <td>20665.169922</td>\n      <td>21070.900391</td>\n      <td>20379.550781</td>\n      <td>20940.509766</td>\n      <td>20940.509766</td>\n      <td>5392630000</td>\n    </tr>\n    <tr>\n      <th>4</th>\n      <td>2017-05-01</td>\n      <td>20962.730469</td>\n      <td>21112.320313</td>\n      <td>20553.449219</td>\n      <td>21008.650391</td>\n      <td>21008.650391</td>\n      <td>6613570000</td>\n    </tr>\n    <tr>\n      <th>5</th>\n      <td>2017-06-01</td>\n      <td>21030.550781</td>\n      <td>21535.029297</td>\n      <td>20994.220703</td>\n      <td>21349.630859</td>\n      <td>21349.630859</td>\n      <td>7214590000</td>\n    </tr>\n    <tr>\n      <th>6</th>\n      <td>2017-07-01</td>\n      <td>21392.300781</td>\n      <td>21929.800781</td>\n      <td>21279.300781</td>\n      <td>21891.119141</td>\n      <td>21891.119141</td>\n      <td>5569720000</td>\n    </tr>\n    <tr>\n      <th>7</th>\n      <td>2017-08-01</td>\n      <td>21961.419922</td>\n      <td>22179.109375</td>\n      <td>21600.339844</td>\n      <td>21948.099609</td>\n      <td>21948.099609</td>\n      <td>6150060000</td>\n    </tr>\n    <tr>\n      <th>8</th>\n      <td>2017-09-01</td>\n      <td>21981.769531</td>\n      <td>22419.509766</td>\n      <td>21709.630859</td>\n      <td>22405.089844</td>\n      <td>22405.089844</td>\n      <td>6342130000</td>\n    </tr>\n    <tr>\n      <th>9</th>\n      <td>2017-10-01</td>\n      <td>22423.470703</td>\n      <td>23485.250000</td>\n      <td>22416.000000</td>\n      <td>23377.240234</td>\n      <td>23377.240234</td>\n      <td>7302910000</td>\n    </tr>\n  </tbody>\n</table>\n</div>"
     },
     "metadata": {},
     "execution_count": 3
    }
   ],
   "source": [
    "dowjones_stocks_df = pd.read_csv('DJI.csv')\n",
    "dowjones_stocks_df.head(10)"
   ]
  },
  {
   "cell_type": "markdown",
   "metadata": {},
   "source": [
    "Load **NFLX_daily_by_quarter.csv** into a DataFrame called `netflix_stocks_quarterly`. Then, quickly inspect the DataFrame using `print()`.\n"
   ]
  },
  {
   "cell_type": "code",
   "execution_count": 4,
   "metadata": {},
   "outputs": [
    {
     "output_type": "execute_result",
     "data": {
      "text/plain": [
       "         Date        Open        High         Low       Close   Adj Close  \\\n",
       "0  2017-01-03  124.959999  128.190002  124.309998  127.489998  127.489998   \n",
       "1  2017-01-04  127.489998  130.169998  126.550003  129.410004  129.410004   \n",
       "2  2017-01-05  129.220001  132.750000  128.899994  131.809998  131.809998   \n",
       "3  2017-01-06  132.080002  133.880005  129.809998  131.070007  131.070007   \n",
       "4  2017-01-09  131.479996  131.990005  129.889999  130.949997  130.949997   \n",
       "5  2017-01-10  131.270004  132.220001  129.289993  129.889999  129.889999   \n",
       "6  2017-01-11  130.910004  131.500000  129.250000  130.500000  130.500000   \n",
       "7  2017-01-12  130.630005  130.850006  128.500000  129.179993  129.179993   \n",
       "8  2017-01-13  131.149994  133.929993  130.580002  133.699997  133.699997   \n",
       "9  2017-01-17  135.039993  135.399994  132.089996  132.889999  132.889999   \n",
       "\n",
       "     Volume Quarter  \n",
       "0   9437900      Q1  \n",
       "1   7843600      Q1  \n",
       "2  10185500      Q1  \n",
       "3  10657900      Q1  \n",
       "4   5766900      Q1  \n",
       "5   5985800      Q1  \n",
       "6   5615100      Q1  \n",
       "7   5388900      Q1  \n",
       "8  10515000      Q1  \n",
       "9  12183200      Q1  "
      ],
      "text/html": "<div>\n<style scoped>\n    .dataframe tbody tr th:only-of-type {\n        vertical-align: middle;\n    }\n\n    .dataframe tbody tr th {\n        vertical-align: top;\n    }\n\n    .dataframe thead th {\n        text-align: right;\n    }\n</style>\n<table border=\"1\" class=\"dataframe\">\n  <thead>\n    <tr style=\"text-align: right;\">\n      <th></th>\n      <th>Date</th>\n      <th>Open</th>\n      <th>High</th>\n      <th>Low</th>\n      <th>Close</th>\n      <th>Adj Close</th>\n      <th>Volume</th>\n      <th>Quarter</th>\n    </tr>\n  </thead>\n  <tbody>\n    <tr>\n      <th>0</th>\n      <td>2017-01-03</td>\n      <td>124.959999</td>\n      <td>128.190002</td>\n      <td>124.309998</td>\n      <td>127.489998</td>\n      <td>127.489998</td>\n      <td>9437900</td>\n      <td>Q1</td>\n    </tr>\n    <tr>\n      <th>1</th>\n      <td>2017-01-04</td>\n      <td>127.489998</td>\n      <td>130.169998</td>\n      <td>126.550003</td>\n      <td>129.410004</td>\n      <td>129.410004</td>\n      <td>7843600</td>\n      <td>Q1</td>\n    </tr>\n    <tr>\n      <th>2</th>\n      <td>2017-01-05</td>\n      <td>129.220001</td>\n      <td>132.750000</td>\n      <td>128.899994</td>\n      <td>131.809998</td>\n      <td>131.809998</td>\n      <td>10185500</td>\n      <td>Q1</td>\n    </tr>\n    <tr>\n      <th>3</th>\n      <td>2017-01-06</td>\n      <td>132.080002</td>\n      <td>133.880005</td>\n      <td>129.809998</td>\n      <td>131.070007</td>\n      <td>131.070007</td>\n      <td>10657900</td>\n      <td>Q1</td>\n    </tr>\n    <tr>\n      <th>4</th>\n      <td>2017-01-09</td>\n      <td>131.479996</td>\n      <td>131.990005</td>\n      <td>129.889999</td>\n      <td>130.949997</td>\n      <td>130.949997</td>\n      <td>5766900</td>\n      <td>Q1</td>\n    </tr>\n    <tr>\n      <th>5</th>\n      <td>2017-01-10</td>\n      <td>131.270004</td>\n      <td>132.220001</td>\n      <td>129.289993</td>\n      <td>129.889999</td>\n      <td>129.889999</td>\n      <td>5985800</td>\n      <td>Q1</td>\n    </tr>\n    <tr>\n      <th>6</th>\n      <td>2017-01-11</td>\n      <td>130.910004</td>\n      <td>131.500000</td>\n      <td>129.250000</td>\n      <td>130.500000</td>\n      <td>130.500000</td>\n      <td>5615100</td>\n      <td>Q1</td>\n    </tr>\n    <tr>\n      <th>7</th>\n      <td>2017-01-12</td>\n      <td>130.630005</td>\n      <td>130.850006</td>\n      <td>128.500000</td>\n      <td>129.179993</td>\n      <td>129.179993</td>\n      <td>5388900</td>\n      <td>Q1</td>\n    </tr>\n    <tr>\n      <th>8</th>\n      <td>2017-01-13</td>\n      <td>131.149994</td>\n      <td>133.929993</td>\n      <td>130.580002</td>\n      <td>133.699997</td>\n      <td>133.699997</td>\n      <td>10515000</td>\n      <td>Q1</td>\n    </tr>\n    <tr>\n      <th>9</th>\n      <td>2017-01-17</td>\n      <td>135.039993</td>\n      <td>135.399994</td>\n      <td>132.089996</td>\n      <td>132.889999</td>\n      <td>132.889999</td>\n      <td>12183200</td>\n      <td>Q1</td>\n    </tr>\n  </tbody>\n</table>\n</div>"
     },
     "metadata": {},
     "execution_count": 4
    }
   ],
   "source": [
    "netflix_stocks_quarterly_df = pd.read_csv('NFLX_daily_by_quarter.csv')\n",
    "netflix_stocks_quarterly_df.head(10)"
   ]
  },
  {
   "cell_type": "markdown",
   "metadata": {},
   "source": [
    "## Step 3"
   ]
  },
  {
   "cell_type": "markdown",
   "metadata": {},
   "source": [
    "Let's learn more about our data. The datasets are large and it may be easier to view the entire dataset locally on your computer. Open the CSV files directly from the folder you downloaded for this project.\n",
    " - `NFLX` is the stock ticker symbol for Netflix and `^DJI` is the stock ticker symbol for the Dow Jones industrial Average, which is why the CSV files are named accordingly\n",
    " - In the Yahoo Data, `Adj Close` is documented as adjusted close price adjusted for both dividends and splits.\n",
    " - You can learn more about why the Dow Jones Industrial Average is a industry reflection of the larger stock market [here](https://www.investopedia.com/terms/d/djia.asp). \n",
    " \n",
    "Answer the following questions by inspecting the data in the **NFLX.csv**,**DJI.csv**, and **NFLX_daily_by_quarter.csv** in your computer."
   ]
  },
  {
   "cell_type": "markdown",
   "metadata": {},
   "source": [
    "What year is represented in the data? Look out for the latest and earliest date."
   ]
  },
  {
   "cell_type": "markdown",
   "metadata": {},
   "source": [
    "\n",
    "`NFLX_daily_by_quarter.csv`: from 2017-01-03 to 2017-12-29 (daily)\n",
    "\n",
    "`NFLX.csv`: from 2017-01-01 to 2017-12-01 (monthly)\n",
    "\n",
    "`DJI.csv`: From 2017-01-01 to 2017-12-01 (monthly)"
   ]
  },
  {
   "cell_type": "markdown",
   "metadata": {},
   "source": [
    "+ Is the data represented by days, weeks, or months? \n",
    "+ In which ways are the files different? \n",
    "+ What's different about the columns for `netflix_stocks` versus `netflix_stocks_quarterly`?"
   ]
  },
  {
   "cell_type": "markdown",
   "metadata": {},
   "source": [
    " `NFLX_daily_by_quarter.csv` refers to daily data, whereas `NFLX.csv` and `DJI.csv`refers to monthly data.\n",
    " \n",
    " `netflix_stocks_quarterly` contains an aditional column, `Quarter`."
   ]
  },
  {
   "cell_type": "markdown",
   "metadata": {},
   "source": [
    "## Step 4\n",
    "\n",
    "Great! Now that we have spent sometime looking at the data, let's look at the column names of the DataFrame `netflix_stocks` using `.head()`. "
   ]
  },
  {
   "cell_type": "code",
   "execution_count": 5,
   "metadata": {},
   "outputs": [
    {
     "output_type": "execute_result",
     "data": {
      "text/plain": [
       "         Date        Open        High         Low       Close   Adj Close  \\\n",
       "0  2017-01-01  124.959999  143.460007  124.309998  140.710007  140.710007   \n",
       "1  2017-02-01  141.199997  145.949997  139.050003  142.130005  142.130005   \n",
       "2  2017-03-01  142.839996  148.289993  138.259995  147.809998  147.809998   \n",
       "3  2017-04-01  146.699997  153.520004  138.660004  152.199997  152.199997   \n",
       "4  2017-05-01  151.910004  164.750000  151.610001  163.070007  163.070007   \n",
       "\n",
       "      Volume  \n",
       "0  181772200  \n",
       "1   91432000  \n",
       "2  110692700  \n",
       "3  149769200  \n",
       "4  116795800  "
      ],
      "text/html": "<div>\n<style scoped>\n    .dataframe tbody tr th:only-of-type {\n        vertical-align: middle;\n    }\n\n    .dataframe tbody tr th {\n        vertical-align: top;\n    }\n\n    .dataframe thead th {\n        text-align: right;\n    }\n</style>\n<table border=\"1\" class=\"dataframe\">\n  <thead>\n    <tr style=\"text-align: right;\">\n      <th></th>\n      <th>Date</th>\n      <th>Open</th>\n      <th>High</th>\n      <th>Low</th>\n      <th>Close</th>\n      <th>Adj Close</th>\n      <th>Volume</th>\n    </tr>\n  </thead>\n  <tbody>\n    <tr>\n      <th>0</th>\n      <td>2017-01-01</td>\n      <td>124.959999</td>\n      <td>143.460007</td>\n      <td>124.309998</td>\n      <td>140.710007</td>\n      <td>140.710007</td>\n      <td>181772200</td>\n    </tr>\n    <tr>\n      <th>1</th>\n      <td>2017-02-01</td>\n      <td>141.199997</td>\n      <td>145.949997</td>\n      <td>139.050003</td>\n      <td>142.130005</td>\n      <td>142.130005</td>\n      <td>91432000</td>\n    </tr>\n    <tr>\n      <th>2</th>\n      <td>2017-03-01</td>\n      <td>142.839996</td>\n      <td>148.289993</td>\n      <td>138.259995</td>\n      <td>147.809998</td>\n      <td>147.809998</td>\n      <td>110692700</td>\n    </tr>\n    <tr>\n      <th>3</th>\n      <td>2017-04-01</td>\n      <td>146.699997</td>\n      <td>153.520004</td>\n      <td>138.660004</td>\n      <td>152.199997</td>\n      <td>152.199997</td>\n      <td>149769200</td>\n    </tr>\n    <tr>\n      <th>4</th>\n      <td>2017-05-01</td>\n      <td>151.910004</td>\n      <td>164.750000</td>\n      <td>151.610001</td>\n      <td>163.070007</td>\n      <td>163.070007</td>\n      <td>116795800</td>\n    </tr>\n  </tbody>\n</table>\n</div>"
     },
     "metadata": {},
     "execution_count": 5
    }
   ],
   "source": [
    "netflix_stocks_df.head()"
   ]
  },
  {
   "cell_type": "markdown",
   "metadata": {},
   "source": [
    "What do you notice? The first two column names are one word each, and the only one that is not is `Adj Close`! \n",
    "\n",
    "The term `Adj Close` is a confusing term if you don't read the Yahoo Documentation. In Yahoo, `Adj Close` is documented as adjusted close price adjusted for both dividends and splits.\n",
    "\n",
    "This means this is the column with the true closing price, so these data are very important.\n",
    "\n",
    "Use Pandas to change the name of of the column to `Adj Close` to `Price` so that it is easier to work with the data. Remember to use `inplace=True`.\n",
    "\n",
    "Do this for the Dow Jones and Netflix Quarterly pandas dataframes as well.\n",
    "Hint: Use [`.rename()`](https://pandas.pydata.org/pandas-docs/stable/generated/pandas.DataFrame.rename.html)).\n"
   ]
  },
  {
   "cell_type": "code",
   "execution_count": 6,
   "metadata": {},
   "outputs": [],
   "source": [
    "netflix_stocks_df.rename(columns={'Adj Close': 'Price'}, inplace=True)\n",
    "netflix_stocks_quarterly_df.rename(columns={'Adj Close': 'Price'}, inplace=True)\n",
    "dowjones_stocks_df.rename(columns={'Adj Close': 'Price'}, inplace=True)"
   ]
  },
  {
   "cell_type": "markdown",
   "metadata": {},
   "source": [
    "Run `netflix_stocks.head()` again to check your column name has changed."
   ]
  },
  {
   "cell_type": "code",
   "execution_count": 7,
   "metadata": {},
   "outputs": [
    {
     "output_type": "execute_result",
     "data": {
      "text/plain": [
       "         Date        Open        High         Low       Close       Price  \\\n",
       "0  2017-01-01  124.959999  143.460007  124.309998  140.710007  140.710007   \n",
       "1  2017-02-01  141.199997  145.949997  139.050003  142.130005  142.130005   \n",
       "2  2017-03-01  142.839996  148.289993  138.259995  147.809998  147.809998   \n",
       "3  2017-04-01  146.699997  153.520004  138.660004  152.199997  152.199997   \n",
       "4  2017-05-01  151.910004  164.750000  151.610001  163.070007  163.070007   \n",
       "\n",
       "      Volume  \n",
       "0  181772200  \n",
       "1   91432000  \n",
       "2  110692700  \n",
       "3  149769200  \n",
       "4  116795800  "
      ],
      "text/html": "<div>\n<style scoped>\n    .dataframe tbody tr th:only-of-type {\n        vertical-align: middle;\n    }\n\n    .dataframe tbody tr th {\n        vertical-align: top;\n    }\n\n    .dataframe thead th {\n        text-align: right;\n    }\n</style>\n<table border=\"1\" class=\"dataframe\">\n  <thead>\n    <tr style=\"text-align: right;\">\n      <th></th>\n      <th>Date</th>\n      <th>Open</th>\n      <th>High</th>\n      <th>Low</th>\n      <th>Close</th>\n      <th>Price</th>\n      <th>Volume</th>\n    </tr>\n  </thead>\n  <tbody>\n    <tr>\n      <th>0</th>\n      <td>2017-01-01</td>\n      <td>124.959999</td>\n      <td>143.460007</td>\n      <td>124.309998</td>\n      <td>140.710007</td>\n      <td>140.710007</td>\n      <td>181772200</td>\n    </tr>\n    <tr>\n      <th>1</th>\n      <td>2017-02-01</td>\n      <td>141.199997</td>\n      <td>145.949997</td>\n      <td>139.050003</td>\n      <td>142.130005</td>\n      <td>142.130005</td>\n      <td>91432000</td>\n    </tr>\n    <tr>\n      <th>2</th>\n      <td>2017-03-01</td>\n      <td>142.839996</td>\n      <td>148.289993</td>\n      <td>138.259995</td>\n      <td>147.809998</td>\n      <td>147.809998</td>\n      <td>110692700</td>\n    </tr>\n    <tr>\n      <th>3</th>\n      <td>2017-04-01</td>\n      <td>146.699997</td>\n      <td>153.520004</td>\n      <td>138.660004</td>\n      <td>152.199997</td>\n      <td>152.199997</td>\n      <td>149769200</td>\n    </tr>\n    <tr>\n      <th>4</th>\n      <td>2017-05-01</td>\n      <td>151.910004</td>\n      <td>164.750000</td>\n      <td>151.610001</td>\n      <td>163.070007</td>\n      <td>163.070007</td>\n      <td>116795800</td>\n    </tr>\n  </tbody>\n</table>\n</div>"
     },
     "metadata": {},
     "execution_count": 7
    }
   ],
   "source": [
    "netflix_stocks_df.head()"
   ]
  },
  {
   "cell_type": "markdown",
   "metadata": {},
   "source": [
    "Call `.head()` on the DataFrame `dowjones_stocks` and `netflix_stocks_quarterly`."
   ]
  },
  {
   "cell_type": "code",
   "execution_count": 8,
   "metadata": {},
   "outputs": [
    {
     "output_type": "execute_result",
     "data": {
      "text/plain": [
       "         Date        Open        High         Low       Close       Price  \\\n",
       "0  2017-01-03  124.959999  128.190002  124.309998  127.489998  127.489998   \n",
       "1  2017-01-04  127.489998  130.169998  126.550003  129.410004  129.410004   \n",
       "2  2017-01-05  129.220001  132.750000  128.899994  131.809998  131.809998   \n",
       "3  2017-01-06  132.080002  133.880005  129.809998  131.070007  131.070007   \n",
       "4  2017-01-09  131.479996  131.990005  129.889999  130.949997  130.949997   \n",
       "\n",
       "     Volume Quarter  \n",
       "0   9437900      Q1  \n",
       "1   7843600      Q1  \n",
       "2  10185500      Q1  \n",
       "3  10657900      Q1  \n",
       "4   5766900      Q1  "
      ],
      "text/html": "<div>\n<style scoped>\n    .dataframe tbody tr th:only-of-type {\n        vertical-align: middle;\n    }\n\n    .dataframe tbody tr th {\n        vertical-align: top;\n    }\n\n    .dataframe thead th {\n        text-align: right;\n    }\n</style>\n<table border=\"1\" class=\"dataframe\">\n  <thead>\n    <tr style=\"text-align: right;\">\n      <th></th>\n      <th>Date</th>\n      <th>Open</th>\n      <th>High</th>\n      <th>Low</th>\n      <th>Close</th>\n      <th>Price</th>\n      <th>Volume</th>\n      <th>Quarter</th>\n    </tr>\n  </thead>\n  <tbody>\n    <tr>\n      <th>0</th>\n      <td>2017-01-03</td>\n      <td>124.959999</td>\n      <td>128.190002</td>\n      <td>124.309998</td>\n      <td>127.489998</td>\n      <td>127.489998</td>\n      <td>9437900</td>\n      <td>Q1</td>\n    </tr>\n    <tr>\n      <th>1</th>\n      <td>2017-01-04</td>\n      <td>127.489998</td>\n      <td>130.169998</td>\n      <td>126.550003</td>\n      <td>129.410004</td>\n      <td>129.410004</td>\n      <td>7843600</td>\n      <td>Q1</td>\n    </tr>\n    <tr>\n      <th>2</th>\n      <td>2017-01-05</td>\n      <td>129.220001</td>\n      <td>132.750000</td>\n      <td>128.899994</td>\n      <td>131.809998</td>\n      <td>131.809998</td>\n      <td>10185500</td>\n      <td>Q1</td>\n    </tr>\n    <tr>\n      <th>3</th>\n      <td>2017-01-06</td>\n      <td>132.080002</td>\n      <td>133.880005</td>\n      <td>129.809998</td>\n      <td>131.070007</td>\n      <td>131.070007</td>\n      <td>10657900</td>\n      <td>Q1</td>\n    </tr>\n    <tr>\n      <th>4</th>\n      <td>2017-01-09</td>\n      <td>131.479996</td>\n      <td>131.990005</td>\n      <td>129.889999</td>\n      <td>130.949997</td>\n      <td>130.949997</td>\n      <td>5766900</td>\n      <td>Q1</td>\n    </tr>\n  </tbody>\n</table>\n</div>"
     },
     "metadata": {},
     "execution_count": 8
    }
   ],
   "source": [
    "netflix_stocks_quarterly_df.head()"
   ]
  },
  {
   "cell_type": "code",
   "execution_count": 9,
   "metadata": {},
   "outputs": [
    {
     "output_type": "execute_result",
     "data": {
      "text/plain": [
       "         Date          Open          High           Low         Close  \\\n",
       "0  2017-01-01  19872.859375  20125.580078  19677.939453  19864.089844   \n",
       "1  2017-02-01  19923.810547  20851.330078  19831.089844  20812.240234   \n",
       "2  2017-03-01  20957.289063  21169.109375  20412.800781  20663.220703   \n",
       "3  2017-04-01  20665.169922  21070.900391  20379.550781  20940.509766   \n",
       "4  2017-05-01  20962.730469  21112.320313  20553.449219  21008.650391   \n",
       "\n",
       "          Price      Volume  \n",
       "0  19864.089844  6482450000  \n",
       "1  20812.240234  6185580000  \n",
       "2  20663.220703  6941970000  \n",
       "3  20940.509766  5392630000  \n",
       "4  21008.650391  6613570000  "
      ],
      "text/html": "<div>\n<style scoped>\n    .dataframe tbody tr th:only-of-type {\n        vertical-align: middle;\n    }\n\n    .dataframe tbody tr th {\n        vertical-align: top;\n    }\n\n    .dataframe thead th {\n        text-align: right;\n    }\n</style>\n<table border=\"1\" class=\"dataframe\">\n  <thead>\n    <tr style=\"text-align: right;\">\n      <th></th>\n      <th>Date</th>\n      <th>Open</th>\n      <th>High</th>\n      <th>Low</th>\n      <th>Close</th>\n      <th>Price</th>\n      <th>Volume</th>\n    </tr>\n  </thead>\n  <tbody>\n    <tr>\n      <th>0</th>\n      <td>2017-01-01</td>\n      <td>19872.859375</td>\n      <td>20125.580078</td>\n      <td>19677.939453</td>\n      <td>19864.089844</td>\n      <td>19864.089844</td>\n      <td>6482450000</td>\n    </tr>\n    <tr>\n      <th>1</th>\n      <td>2017-02-01</td>\n      <td>19923.810547</td>\n      <td>20851.330078</td>\n      <td>19831.089844</td>\n      <td>20812.240234</td>\n      <td>20812.240234</td>\n      <td>6185580000</td>\n    </tr>\n    <tr>\n      <th>2</th>\n      <td>2017-03-01</td>\n      <td>20957.289063</td>\n      <td>21169.109375</td>\n      <td>20412.800781</td>\n      <td>20663.220703</td>\n      <td>20663.220703</td>\n      <td>6941970000</td>\n    </tr>\n    <tr>\n      <th>3</th>\n      <td>2017-04-01</td>\n      <td>20665.169922</td>\n      <td>21070.900391</td>\n      <td>20379.550781</td>\n      <td>20940.509766</td>\n      <td>20940.509766</td>\n      <td>5392630000</td>\n    </tr>\n    <tr>\n      <th>4</th>\n      <td>2017-05-01</td>\n      <td>20962.730469</td>\n      <td>21112.320313</td>\n      <td>20553.449219</td>\n      <td>21008.650391</td>\n      <td>21008.650391</td>\n      <td>6613570000</td>\n    </tr>\n  </tbody>\n</table>\n</div>"
     },
     "metadata": {},
     "execution_count": 9
    }
   ],
   "source": [
    "dowjones_stocks_df.head()"
   ]
  },
  {
   "cell_type": "markdown",
   "metadata": {},
   "source": [
    "## Step 5\n",
    "\n",
    "In this step, we will be visualizing the Netflix quarterly data! \n",
    "\n",
    "We want to get an understanding of the distribution of the Netflix quarterly stock prices for 2017. Specifically, we want to see in which quarter stock prices flucutated the most. We can accomplish this using a violin plot with four violins, one for each business quarter!\n",
    "\n",
    "\n",
    "1. Start by creating a variable `ax` and setting it equal to `sns.violinplot()`. This will instantiate a figure and give us access to the axes through the variable name `ax`.\n",
    "2. Use `sns.violinplot()` and pass in the following arguments:\n",
    "+ The `Quarter` column as the `x` values\n",
    "+ The `Price` column as your `y` values\n",
    "+ The `netflix_stocks_quarterly` dataframe as your `data`\n",
    "3. Improve the readability of the chart by adding a title of the plot. Add `\"Distribution of 2017 Netflix Stock Prices by Quarter\"` by using `ax.set_title()`\n",
    "4. Change your `ylabel` to \"Closing Stock Price\"\n",
    "5. Change your `xlabel` to \"Business Quarters in 2017\"\n",
    "6. Be sure to show your plot!\n"
   ]
  },
  {
   "cell_type": "code",
   "execution_count": 10,
   "metadata": {
    "scrolled": true
   },
   "outputs": [
    {
     "output_type": "execute_result",
     "data": {
      "text/plain": [
       "Text(0, 0.5, 'Closing Stock Price')"
      ]
     },
     "metadata": {},
     "execution_count": 10
    },
    {
     "output_type": "display_data",
     "data": {
      "text/plain": "<Figure size 432x288 with 1 Axes>",
      "image/svg+xml": "<?xml version=\"1.0\" encoding=\"utf-8\" standalone=\"no\"?>\n<!DOCTYPE svg PUBLIC \"-//W3C//DTD SVG 1.1//EN\"\n  \"http://www.w3.org/Graphics/SVG/1.1/DTD/svg11.dtd\">\n<svg height=\"277.314375pt\" version=\"1.1\" viewBox=\"0 0 388.965625 277.314375\" width=\"388.965625pt\" xmlns=\"http://www.w3.org/2000/svg\" xmlns:xlink=\"http://www.w3.org/1999/xlink\">\n <metadata>\n  <rdf:RDF xmlns:cc=\"http://creativecommons.org/ns#\" xmlns:dc=\"http://purl.org/dc/elements/1.1/\" xmlns:rdf=\"http://www.w3.org/1999/02/22-rdf-syntax-ns#\">\n   <cc:Work>\n    <dc:type rdf:resource=\"http://purl.org/dc/dcmitype/StillImage\"/>\n    <dc:date>2021-05-11T23:35:04.644595</dc:date>\n    <dc:format>image/svg+xml</dc:format>\n    <dc:creator>\n     <cc:Agent>\n      <dc:title>Matplotlib v3.4.1, https://matplotlib.org/</dc:title>\n     </cc:Agent>\n    </dc:creator>\n   </cc:Work>\n  </rdf:RDF>\n </metadata>\n <defs>\n  <style type=\"text/css\">*{stroke-linecap:butt;stroke-linejoin:round;}</style>\n </defs>\n <g id=\"figure_1\">\n  <g id=\"patch_1\">\n   <path d=\"M 0 277.314375 \nL 388.965625 277.314375 \nL 388.965625 0 \nL 0 0 \nz\n\" style=\"fill:none;\"/>\n  </g>\n  <g id=\"axes_1\">\n   <g id=\"patch_2\">\n    <path d=\"M 46.965625 239.758125 \nL 381.765625 239.758125 \nL 381.765625 22.318125 \nL 46.965625 22.318125 \nz\n\" style=\"fill:#ffffff;\"/>\n   </g>\n   <g id=\"PolyCollection_1\">\n    <defs>\n     <path d=\"M 88.996694 -47.439886 \nL 88.634556 -47.439886 \nL 88.571004 -48.13282 \nL 88.489906 -48.825755 \nL 88.388028 -49.518689 \nL 88.262005 -50.211623 \nL 88.108462 -50.904557 \nL 87.924172 -51.597491 \nL 87.706235 -52.290425 \nL 87.452282 -52.983359 \nL 87.160687 -53.676293 \nL 86.830796 -54.369227 \nL 86.463139 -55.062161 \nL 86.059619 -55.755096 \nL 85.62367 -56.44803 \nL 85.16034 -57.140964 \nL 84.676303 -57.833898 \nL 84.179776 -58.526832 \nL 83.680324 -59.219766 \nL 83.18856 -59.9127 \nL 82.715749 -60.605634 \nL 82.273333 -61.298568 \nL 81.872411 -61.991503 \nL 81.523214 -62.684437 \nL 81.234609 -63.377371 \nL 81.013671 -64.070305 \nL 80.865359 -64.763239 \nL 80.792284 -65.456173 \nL 80.794597 -66.149107 \nL 80.869962 -66.842041 \nL 81.01359 -67.534975 \nL 81.21833 -68.227909 \nL 81.474756 -68.920844 \nL 81.77128 -69.613778 \nL 82.094252 -70.306712 \nL 82.428092 -70.999646 \nL 82.755452 -71.69258 \nL 83.057461 -72.385514 \nL 83.314055 -73.078448 \nL 83.50443 -73.771382 \nL 83.607615 -74.464316 \nL 83.60315 -75.15725 \nL 83.471849 -75.850185 \nL 83.196594 -76.543119 \nL 82.763124 -77.236053 \nL 82.160765 -77.928987 \nL 81.383037 -78.621921 \nL 80.428122 -79.314855 \nL 79.299157 -80.007789 \nL 78.004336 -80.700723 \nL 76.556836 -81.393657 \nL 74.974579 -82.086591 \nL 73.279852 -82.779526 \nL 71.498824 -83.47246 \nL 69.660974 -84.165394 \nL 67.798469 -84.858328 \nL 65.945492 -85.551262 \nL 64.137539 -86.244196 \nL 62.410659 -86.93713 \nL 60.800656 -87.630064 \nL 59.342218 -88.322998 \nL 58.067988 -89.015932 \nL 57.007584 -89.708867 \nL 56.186594 -90.401801 \nL 55.625597 -91.094735 \nL 55.339265 -91.787669 \nL 55.335625 -92.480603 \nL 55.615541 -93.173537 \nL 56.172486 -93.866471 \nL 56.992649 -94.559405 \nL 58.055382 -95.252339 \nL 59.333996 -95.945274 \nL 60.796858 -96.638208 \nL 62.408725 -97.331142 \nL 64.132231 -98.024076 \nL 65.929446 -98.71701 \nL 67.763378 -99.409944 \nL 69.599355 -100.102878 \nL 71.406187 -100.795812 \nL 73.15704 -101.488746 \nL 74.829998 -102.18168 \nL 76.408295 -102.874615 \nL 77.880218 -103.567549 \nL 79.23875 -104.260483 \nL 80.480991 -104.953417 \nL 81.607444 -105.646351 \nL 82.621246 -106.339285 \nL 83.527411 -107.032219 \nL 84.33216 -107.725153 \nL 85.04236 -108.418087 \nL 85.665118 -109.111021 \nL 86.2075 -109.803956 \nL 86.676383 -110.49689 \nL 87.078394 -111.189824 \nL 87.419906 -111.882758 \nL 87.707063 -112.575692 \nL 87.945797 -113.268626 \nL 88.141837 -113.96156 \nL 88.300688 -114.654494 \nL 88.427588 -115.347428 \nL 88.527454 -116.040362 \nL 89.103796 -116.040362 \nL 89.103796 -116.040362 \nL 89.203662 -115.347428 \nL 89.330562 -114.654494 \nL 89.489413 -113.96156 \nL 89.685453 -113.268626 \nL 89.924187 -112.575692 \nL 90.211344 -111.882758 \nL 90.552856 -111.189824 \nL 90.954867 -110.49689 \nL 91.42375 -109.803956 \nL 91.966132 -109.111021 \nL 92.58889 -108.418087 \nL 93.29909 -107.725153 \nL 94.103839 -107.032219 \nL 95.010004 -106.339285 \nL 96.023806 -105.646351 \nL 97.150259 -104.953417 \nL 98.3925 -104.260483 \nL 99.751032 -103.567549 \nL 101.222955 -102.874615 \nL 102.801252 -102.18168 \nL 104.47421 -101.488746 \nL 106.225063 -100.795812 \nL 108.031895 -100.102878 \nL 109.867872 -99.409944 \nL 111.701804 -98.71701 \nL 113.499019 -98.024076 \nL 115.222525 -97.331142 \nL 116.834392 -96.638208 \nL 118.297254 -95.945274 \nL 119.575868 -95.252339 \nL 120.638601 -94.559405 \nL 121.458764 -93.866471 \nL 122.015709 -93.173537 \nL 122.295625 -92.480603 \nL 122.291985 -91.787669 \nL 122.005653 -91.094735 \nL 121.444656 -90.401801 \nL 120.623666 -89.708867 \nL 119.563262 -89.015932 \nL 118.289032 -88.322998 \nL 116.830594 -87.630064 \nL 115.220591 -86.93713 \nL 113.493711 -86.244196 \nL 111.685758 -85.551262 \nL 109.832781 -84.858328 \nL 107.970276 -84.165394 \nL 106.132426 -83.47246 \nL 104.351398 -82.779526 \nL 102.656671 -82.086591 \nL 101.074414 -81.393657 \nL 99.626914 -80.700723 \nL 98.332093 -80.007789 \nL 97.203128 -79.314855 \nL 96.248213 -78.621921 \nL 95.470485 -77.928987 \nL 94.868126 -77.236053 \nL 94.434656 -76.543119 \nL 94.159401 -75.850185 \nL 94.0281 -75.15725 \nL 94.023635 -74.464316 \nL 94.12682 -73.771382 \nL 94.317195 -73.078448 \nL 94.573789 -72.385514 \nL 94.875798 -71.69258 \nL 95.203158 -70.999646 \nL 95.536998 -70.306712 \nL 95.85997 -69.613778 \nL 96.156494 -68.920844 \nL 96.41292 -68.227909 \nL 96.61766 -67.534975 \nL 96.761288 -66.842041 \nL 96.836653 -66.149107 \nL 96.838966 -65.456173 \nL 96.765891 -64.763239 \nL 96.617579 -64.070305 \nL 96.396641 -63.377371 \nL 96.108036 -62.684437 \nL 95.758839 -61.991503 \nL 95.357917 -61.298568 \nL 94.915501 -60.605634 \nL 94.44269 -59.9127 \nL 93.950926 -59.219766 \nL 93.451474 -58.526832 \nL 92.954947 -57.833898 \nL 92.47091 -57.140964 \nL 92.00758 -56.44803 \nL 91.571631 -55.755096 \nL 91.168111 -55.062161 \nL 90.800454 -54.369227 \nL 90.470563 -53.676293 \nL 90.178968 -52.983359 \nL 89.925015 -52.290425 \nL 89.707078 -51.597491 \nL 89.522788 -50.904557 \nL 89.369245 -50.211623 \nL 89.243222 -49.518689 \nL 89.141344 -48.825755 \nL 89.060246 -48.13282 \nL 88.996694 -47.439886 \nz\n\" id=\"md170c02ca9\" style=\"stroke:#3d3d3d;stroke-width:1.5;\"/>\n    </defs>\n    <g clip-path=\"url(#p478d714b69)\">\n     <use style=\"fill:#3274a1;stroke:#3d3d3d;stroke-width:1.5;\" x=\"0\" xlink:href=\"#md170c02ca9\" y=\"277.314375\"/>\n    </g>\n   </g>\n   <g id=\"PolyCollection_2\">\n    <defs>\n     <path d=\"M 172.680071 -71.94913 \nL 172.351179 -71.94913 \nL 172.294893 -72.859875 \nL 172.222817 -73.77062 \nL 172.131686 -74.681365 \nL 172.017909 -75.59211 \nL 171.877637 -76.502855 \nL 171.706877 -77.4136 \nL 171.501642 -78.324345 \nL 171.258156 -79.23509 \nL 170.973097 -80.145834 \nL 170.64389 -81.056579 \nL 170.269024 -81.967324 \nL 169.848391 -82.878069 \nL 169.383602 -83.788814 \nL 168.878261 -84.699559 \nL 168.338158 -85.610304 \nL 167.771336 -86.521049 \nL 167.188007 -87.431794 \nL 166.600277 -88.342539 \nL 166.021682 -89.253284 \nL 165.466538 -90.164029 \nL 164.949123 -91.074774 \nL 164.482765 -91.985519 \nL 164.078875 -92.896264 \nL 163.746037 -93.807009 \nL 163.489225 -94.717754 \nL 163.309222 -95.628499 \nL 163.202337 -96.539243 \nL 163.160424 -97.449988 \nL 163.17125 -98.360733 \nL 163.219179 -99.271478 \nL 163.286119 -100.182223 \nL 163.352679 -101.092968 \nL 163.399416 -102.003713 \nL 163.408103 -102.914458 \nL 163.362892 -103.825203 \nL 163.251298 -104.735948 \nL 163.064921 -105.646693 \nL 162.799872 -106.557438 \nL 162.456856 -107.468183 \nL 162.040944 -108.378928 \nL 161.561045 -109.289673 \nL 161.029143 -110.200418 \nL 160.45938 -111.111163 \nL 159.867064 -112.021908 \nL 159.267693 -112.932652 \nL 158.676093 -113.843397 \nL 158.105733 -114.754142 \nL 157.568263 -115.664887 \nL 157.073303 -116.575632 \nL 156.62847 -117.486377 \nL 156.239591 -118.397122 \nL 155.911053 -119.307867 \nL 155.646193 -120.218612 \nL 155.447667 -121.129357 \nL 155.317698 -122.040102 \nL 155.258188 -122.950847 \nL 155.270639 -123.861592 \nL 155.355928 -124.772337 \nL 155.513963 -125.683082 \nL 155.743287 -126.593827 \nL 156.040722 -127.504572 \nL 156.401126 -128.415317 \nL 156.817326 -129.326061 \nL 157.280272 -130.236806 \nL 157.779413 -131.147551 \nL 158.303285 -132.058296 \nL 158.840237 -132.969041 \nL 159.379229 -133.879786 \nL 159.910613 -134.790531 \nL 160.4268 -135.701276 \nL 160.922757 -136.612021 \nL 161.39625 -137.522766 \nL 161.847838 -138.433511 \nL 162.280601 -139.344256 \nL 162.699645 -140.255001 \nL 163.111431 -141.165746 \nL 163.52301 -142.076491 \nL 163.94123 -142.987236 \nL 164.372003 -143.897981 \nL 164.819692 -144.808726 \nL 165.286672 -145.71947 \nL 165.7731 -146.630215 \nL 166.276888 -147.54096 \nL 166.793893 -148.451705 \nL 167.318267 -149.36245 \nL 167.842939 -150.273195 \nL 168.360168 -151.18394 \nL 168.862113 -152.094685 \nL 169.341375 -153.00543 \nL 169.791451 -153.916175 \nL 170.207083 -154.82692 \nL 170.584482 -155.737665 \nL 170.921415 -156.64841 \nL 171.217176 -157.559155 \nL 171.472445 -158.4699 \nL 171.689084 -159.380645 \nL 171.869872 -160.29139 \nL 172.018235 -161.202135 \nL 172.137969 -162.112879 \nL 172.893281 -162.112879 \nL 172.893281 -162.112879 \nL 173.013015 -161.202135 \nL 173.161378 -160.29139 \nL 173.342166 -159.380645 \nL 173.558805 -158.4699 \nL 173.814074 -157.559155 \nL 174.109835 -156.64841 \nL 174.446768 -155.737665 \nL 174.824167 -154.82692 \nL 175.239799 -153.916175 \nL 175.689875 -153.00543 \nL 176.169137 -152.094685 \nL 176.671082 -151.18394 \nL 177.188311 -150.273195 \nL 177.712983 -149.36245 \nL 178.237357 -148.451705 \nL 178.754362 -147.54096 \nL 179.25815 -146.630215 \nL 179.744578 -145.71947 \nL 180.211558 -144.808726 \nL 180.659247 -143.897981 \nL 181.09002 -142.987236 \nL 181.50824 -142.076491 \nL 181.919819 -141.165746 \nL 182.331605 -140.255001 \nL 182.750649 -139.344256 \nL 183.183412 -138.433511 \nL 183.635 -137.522766 \nL 184.108493 -136.612021 \nL 184.60445 -135.701276 \nL 185.120637 -134.790531 \nL 185.652021 -133.879786 \nL 186.191013 -132.969041 \nL 186.727965 -132.058296 \nL 187.251837 -131.147551 \nL 187.750978 -130.236806 \nL 188.213924 -129.326061 \nL 188.630124 -128.415317 \nL 188.990528 -127.504572 \nL 189.287963 -126.593827 \nL 189.517287 -125.683082 \nL 189.675322 -124.772337 \nL 189.760611 -123.861592 \nL 189.773062 -122.950847 \nL 189.713552 -122.040102 \nL 189.583583 -121.129357 \nL 189.385057 -120.218612 \nL 189.120197 -119.307867 \nL 188.791659 -118.397122 \nL 188.40278 -117.486377 \nL 187.957947 -116.575632 \nL 187.462987 -115.664887 \nL 186.925517 -114.754142 \nL 186.355157 -113.843397 \nL 185.763557 -112.932652 \nL 185.164186 -112.021908 \nL 184.57187 -111.111163 \nL 184.002107 -110.200418 \nL 183.470205 -109.289673 \nL 182.990306 -108.378928 \nL 182.574394 -107.468183 \nL 182.231378 -106.557438 \nL 181.966329 -105.646693 \nL 181.779952 -104.735948 \nL 181.668358 -103.825203 \nL 181.623147 -102.914458 \nL 181.631834 -102.003713 \nL 181.678571 -101.092968 \nL 181.745131 -100.182223 \nL 181.812071 -99.271478 \nL 181.86 -98.360733 \nL 181.870826 -97.449988 \nL 181.828913 -96.539243 \nL 181.722028 -95.628499 \nL 181.542025 -94.717754 \nL 181.285213 -93.807009 \nL 180.952375 -92.896264 \nL 180.548485 -91.985519 \nL 180.082127 -91.074774 \nL 179.564712 -90.164029 \nL 179.009568 -89.253284 \nL 178.430973 -88.342539 \nL 177.843243 -87.431794 \nL 177.259914 -86.521049 \nL 176.693092 -85.610304 \nL 176.152989 -84.699559 \nL 175.647648 -83.788814 \nL 175.182859 -82.878069 \nL 174.762226 -81.967324 \nL 174.38736 -81.056579 \nL 174.058153 -80.145834 \nL 173.773094 -79.23509 \nL 173.529608 -78.324345 \nL 173.324373 -77.4136 \nL 173.153613 -76.502855 \nL 173.013341 -75.59211 \nL 172.899564 -74.681365 \nL 172.808433 -73.77062 \nL 172.736357 -72.859875 \nL 172.680071 -71.94913 \nz\n\" id=\"m4c08a3c572\" style=\"stroke:#3d3d3d;stroke-width:1.5;\"/>\n    </defs>\n    <g clip-path=\"url(#p478d714b69)\">\n     <use style=\"fill:#e1812c;stroke:#3d3d3d;stroke-width:1.5;\" x=\"0\" xlink:href=\"#m4c08a3c572\" y=\"277.314375\"/>\n    </g>\n   </g>\n   <g id=\"PolyCollection_3\">\n    <defs>\n     <path d=\"M 256.367995 -78.226031 \nL 256.063255 -78.226031 \nL 256.017055 -79.711544 \nL 255.96075 -81.197056 \nL 255.893369 -82.682569 \nL 255.814208 -84.168082 \nL 255.722922 -85.653595 \nL 255.619621 -87.139108 \nL 255.504933 -88.62462 \nL 255.380049 -90.110133 \nL 255.246717 -91.595646 \nL 255.107202 -93.081159 \nL 254.964189 -94.566672 \nL 254.820654 -96.052185 \nL 254.67969 -97.537697 \nL 254.544328 -99.02321 \nL 254.417335 -100.508723 \nL 254.301045 -101.994236 \nL 254.197204 -103.479749 \nL 254.106863 -104.965261 \nL 254.030326 -106.450774 \nL 253.967142 -107.936287 \nL 253.916154 -109.4218 \nL 253.875591 -110.907313 \nL 253.843185 -112.392826 \nL 253.816304 -113.878338 \nL 253.792094 -115.363851 \nL 253.767594 -116.849364 \nL 253.739844 -118.334877 \nL 253.705953 -119.82039 \nL 253.663142 -121.305902 \nL 253.608763 -122.791415 \nL 253.5403 -124.276928 \nL 253.455362 -125.762441 \nL 253.351693 -127.247954 \nL 253.227201 -128.733467 \nL 253.080025 -130.218979 \nL 252.908639 -131.704492 \nL 252.712004 -133.190005 \nL 252.489741 -134.675518 \nL 252.24232 -136.161031 \nL 251.971229 -137.646543 \nL 251.679097 -139.132056 \nL 251.369737 -140.617569 \nL 251.048076 -142.103082 \nL 250.719964 -143.588595 \nL 250.391857 -145.074108 \nL 250.070377 -146.55962 \nL 249.761801 -148.045133 \nL 249.471505 -149.530646 \nL 249.203437 -151.016159 \nL 248.959667 -152.501672 \nL 248.740081 -153.987184 \nL 248.542254 -155.472697 \nL 248.361535 -156.95821 \nL 248.191352 -158.443723 \nL 248.023711 -159.929236 \nL 247.849864 -161.414749 \nL 247.661082 -162.900261 \nL 247.449468 -164.385774 \nL 247.208756 -165.871287 \nL 246.935007 -167.3568 \nL 246.627158 -168.842313 \nL 246.287377 -170.327825 \nL 245.921187 -171.813338 \nL 245.537346 -173.298851 \nL 245.147498 -174.784364 \nL 244.765609 -176.269877 \nL 244.407217 -177.755389 \nL 244.088579 -179.240902 \nL 243.825732 -180.726415 \nL 243.633575 -182.211928 \nL 243.52501 -183.697441 \nL 243.510208 -185.182954 \nL 243.596056 -186.668466 \nL 243.78581 -188.153979 \nL 244.078965 -189.639492 \nL 244.471357 -191.125005 \nL 244.955457 -192.610518 \nL 245.520833 -194.09603 \nL 246.154741 -195.581543 \nL 246.842789 -197.067056 \nL 247.569629 -198.552569 \nL 248.319641 -200.038082 \nL 249.077557 -201.523595 \nL 249.829023 -203.009107 \nL 250.561047 -204.49462 \nL 251.262353 -205.980133 \nL 251.923622 -207.465646 \nL 252.537621 -208.951159 \nL 253.099233 -210.436671 \nL 253.605396 -211.922184 \nL 254.054957 -213.407697 \nL 254.448472 -214.89321 \nL 254.787947 -216.378723 \nL 255.076555 -217.864236 \nL 255.318342 -219.349748 \nL 255.517931 -220.835261 \nL 255.68025 -222.320774 \nL 255.810291 -223.806287 \nL 255.912906 -225.2918 \nL 256.518344 -225.2918 \nL 256.518344 -225.2918 \nL 256.620959 -223.806287 \nL 256.751 -222.320774 \nL 256.913319 -220.835261 \nL 257.112908 -219.349748 \nL 257.354695 -217.864236 \nL 257.643303 -216.378723 \nL 257.982778 -214.89321 \nL 258.376293 -213.407697 \nL 258.825854 -211.922184 \nL 259.332017 -210.436671 \nL 259.893629 -208.951159 \nL 260.507628 -207.465646 \nL 261.168897 -205.980133 \nL 261.870203 -204.49462 \nL 262.602227 -203.009107 \nL 263.353693 -201.523595 \nL 264.111609 -200.038082 \nL 264.861621 -198.552569 \nL 265.588461 -197.067056 \nL 266.276509 -195.581543 \nL 266.910417 -194.09603 \nL 267.475793 -192.610518 \nL 267.959893 -191.125005 \nL 268.352285 -189.639492 \nL 268.64544 -188.153979 \nL 268.835194 -186.668466 \nL 268.921042 -185.182954 \nL 268.90624 -183.697441 \nL 268.797675 -182.211928 \nL 268.605518 -180.726415 \nL 268.342671 -179.240902 \nL 268.024033 -177.755389 \nL 267.665641 -176.269877 \nL 267.283752 -174.784364 \nL 266.893904 -173.298851 \nL 266.510063 -171.813338 \nL 266.143873 -170.327825 \nL 265.804092 -168.842313 \nL 265.496243 -167.3568 \nL 265.222494 -165.871287 \nL 264.981782 -164.385774 \nL 264.770168 -162.900261 \nL 264.581386 -161.414749 \nL 264.407539 -159.929236 \nL 264.239898 -158.443723 \nL 264.069715 -156.95821 \nL 263.888996 -155.472697 \nL 263.691169 -153.987184 \nL 263.471583 -152.501672 \nL 263.227813 -151.016159 \nL 262.959745 -149.530646 \nL 262.669449 -148.045133 \nL 262.360873 -146.55962 \nL 262.039393 -145.074108 \nL 261.711286 -143.588595 \nL 261.383174 -142.103082 \nL 261.061513 -140.617569 \nL 260.752153 -139.132056 \nL 260.460021 -137.646543 \nL 260.18893 -136.161031 \nL 259.941509 -134.675518 \nL 259.719246 -133.190005 \nL 259.522611 -131.704492 \nL 259.351225 -130.218979 \nL 259.204049 -128.733467 \nL 259.079557 -127.247954 \nL 258.975888 -125.762441 \nL 258.89095 -124.276928 \nL 258.822487 -122.791415 \nL 258.768108 -121.305902 \nL 258.725297 -119.82039 \nL 258.691406 -118.334877 \nL 258.663656 -116.849364 \nL 258.639156 -115.363851 \nL 258.614946 -113.878338 \nL 258.588065 -112.392826 \nL 258.555659 -110.907313 \nL 258.515096 -109.4218 \nL 258.464108 -107.936287 \nL 258.400924 -106.450774 \nL 258.324387 -104.965261 \nL 258.234046 -103.479749 \nL 258.130205 -101.994236 \nL 258.013915 -100.508723 \nL 257.886922 -99.02321 \nL 257.75156 -97.537697 \nL 257.610596 -96.052185 \nL 257.467061 -94.566672 \nL 257.324048 -93.081159 \nL 257.184533 -91.595646 \nL 257.051201 -90.110133 \nL 256.926317 -88.62462 \nL 256.811629 -87.139108 \nL 256.708328 -85.653595 \nL 256.617042 -84.168082 \nL 256.537881 -82.682569 \nL 256.4705 -81.197056 \nL 256.414195 -79.711544 \nL 256.367995 -78.226031 \nz\n\" id=\"m26c1fef378\" style=\"stroke:#3d3d3d;stroke-width:1.5;\"/>\n    </defs>\n    <g clip-path=\"url(#p478d714b69)\">\n     <use style=\"fill:#3a923a;stroke:#3d3d3d;stroke-width:1.5;\" x=\"0\" xlink:href=\"#m26c1fef378\" y=\"277.314375\"/>\n    </g>\n   </g>\n   <g id=\"PolyCollection_4\">\n    <defs>\n     <path d=\"M 340.046273 -162.647562 \nL 339.784977 -162.647562 \nL 339.73889 -163.480543 \nL 339.681419 -164.313523 \nL 339.611519 -165.146503 \nL 339.528631 -165.979484 \nL 339.432847 -166.812464 \nL 339.325049 -167.645444 \nL 339.206987 -168.478424 \nL 339.081282 -169.311405 \nL 338.951336 -170.144385 \nL 338.821127 -170.977365 \nL 338.694922 -171.810346 \nL 338.57688 -172.643326 \nL 338.47061 -173.476306 \nL 338.378686 -174.309287 \nL 338.302173 -175.142267 \nL 338.240202 -175.975247 \nL 338.189637 -176.808228 \nL 338.144883 -177.641208 \nL 338.097863 -178.474188 \nL 338.038207 -179.307169 \nL 337.953669 -180.140149 \nL 337.830764 -180.973129 \nL 337.655614 -181.80611 \nL 337.414943 -182.63909 \nL 337.097155 -183.47207 \nL 336.693395 -184.305051 \nL 336.198488 -185.138031 \nL 335.611652 -185.971011 \nL 334.936909 -186.803991 \nL 334.183124 -187.636972 \nL 333.363676 -188.469952 \nL 332.495783 -189.302932 \nL 331.599551 -190.135913 \nL 330.69684 -190.968893 \nL 329.810058 -191.801873 \nL 328.960968 -192.634854 \nL 328.169589 -193.467834 \nL 327.45324 -194.300814 \nL 326.825724 -195.133795 \nL 326.296675 -195.966775 \nL 325.871025 -196.799755 \nL 325.548615 -197.632736 \nL 325.323933 -198.465716 \nL 325.186046 -199.298696 \nL 325.118743 -200.131677 \nL 325.100976 -200.964657 \nL 325.107637 -201.797637 \nL 325.110704 -202.630617 \nL 325.080745 -203.463598 \nL 324.988733 -204.296578 \nL 324.808076 -205.129558 \nL 324.516735 -205.962539 \nL 324.099262 -206.795519 \nL 323.548598 -207.628499 \nL 322.867437 -208.46148 \nL 322.068987 -209.29446 \nL 321.176986 -210.12744 \nL 320.224876 -210.960421 \nL 319.254081 -211.793401 \nL 318.311464 -212.626381 \nL 317.446104 -213.459362 \nL 316.705663 -214.292342 \nL 316.132703 -215.125322 \nL 315.761343 -215.958303 \nL 315.614693 -216.791283 \nL 315.703354 -217.624263 \nL 316.025221 -218.457243 \nL 316.566567 -219.290224 \nL 317.304244 -220.123204 \nL 318.208641 -220.956184 \nL 319.246938 -221.789165 \nL 320.386172 -222.622145 \nL 321.595713 -223.455125 \nL 322.848864 -224.288106 \nL 324.123516 -225.121086 \nL 325.401945 -225.954066 \nL 326.670007 -226.787047 \nL 327.916038 -227.620027 \nL 329.129783 -228.453007 \nL 330.301609 -229.285988 \nL 331.422121 -230.118968 \nL 332.482222 -230.951948 \nL 333.473491 -231.784929 \nL 334.38875 -232.617909 \nL 335.222638 -233.450889 \nL 335.972032 -234.28387 \nL 336.636253 -235.11685 \nL 337.216995 -235.94983 \nL 337.718039 -236.78281 \nL 338.144808 -237.615791 \nL 338.503848 -238.448771 \nL 338.802318 -239.281751 \nL 339.04755 -240.114732 \nL 339.246704 -240.947712 \nL 339.406527 -241.780692 \nL 339.533217 -242.613673 \nL 339.632345 -243.446653 \nL 339.708841 -244.279633 \nL 339.767005 -245.112614 \nL 340.064245 -245.112614 \nL 340.064245 -245.112614 \nL 340.122409 -244.279633 \nL 340.198905 -243.446653 \nL 340.298033 -242.613673 \nL 340.424723 -241.780692 \nL 340.584546 -240.947712 \nL 340.7837 -240.114732 \nL 341.028932 -239.281751 \nL 341.327402 -238.448771 \nL 341.686442 -237.615791 \nL 342.113211 -236.78281 \nL 342.614255 -235.94983 \nL 343.194997 -235.11685 \nL 343.859218 -234.28387 \nL 344.608612 -233.450889 \nL 345.4425 -232.617909 \nL 346.357759 -231.784929 \nL 347.349028 -230.951948 \nL 348.409129 -230.118968 \nL 349.529641 -229.285988 \nL 350.701467 -228.453007 \nL 351.915212 -227.620027 \nL 353.161243 -226.787047 \nL 354.429305 -225.954066 \nL 355.707734 -225.121086 \nL 356.982386 -224.288106 \nL 358.235537 -223.455125 \nL 359.445078 -222.622145 \nL 360.584312 -221.789165 \nL 361.622609 -220.956184 \nL 362.527006 -220.123204 \nL 363.264683 -219.290224 \nL 363.806029 -218.457243 \nL 364.127896 -217.624263 \nL 364.216557 -216.791283 \nL 364.069907 -215.958303 \nL 363.698547 -215.125322 \nL 363.125587 -214.292342 \nL 362.385146 -213.459362 \nL 361.519786 -212.626381 \nL 360.577169 -211.793401 \nL 359.606374 -210.960421 \nL 358.654264 -210.12744 \nL 357.762263 -209.29446 \nL 356.963813 -208.46148 \nL 356.282652 -207.628499 \nL 355.731988 -206.795519 \nL 355.314515 -205.962539 \nL 355.023174 -205.129558 \nL 354.842517 -204.296578 \nL 354.750505 -203.463598 \nL 354.720546 -202.630617 \nL 354.723613 -201.797637 \nL 354.730274 -200.964657 \nL 354.712507 -200.131677 \nL 354.645204 -199.298696 \nL 354.507317 -198.465716 \nL 354.282635 -197.632736 \nL 353.960225 -196.799755 \nL 353.534575 -195.966775 \nL 353.005526 -195.133795 \nL 352.37801 -194.300814 \nL 351.661661 -193.467834 \nL 350.870282 -192.634854 \nL 350.021192 -191.801873 \nL 349.13441 -190.968893 \nL 348.231699 -190.135913 \nL 347.335467 -189.302932 \nL 346.467574 -188.469952 \nL 345.648126 -187.636972 \nL 344.894341 -186.803991 \nL 344.219598 -185.971011 \nL 343.632762 -185.138031 \nL 343.137855 -184.305051 \nL 342.734095 -183.47207 \nL 342.416307 -182.63909 \nL 342.175636 -181.80611 \nL 342.000486 -180.973129 \nL 341.877581 -180.140149 \nL 341.793043 -179.307169 \nL 341.733387 -178.474188 \nL 341.686367 -177.641208 \nL 341.641613 -176.808228 \nL 341.591048 -175.975247 \nL 341.529077 -175.142267 \nL 341.452564 -174.309287 \nL 341.36064 -173.476306 \nL 341.25437 -172.643326 \nL 341.136328 -171.810346 \nL 341.010123 -170.977365 \nL 340.879914 -170.144385 \nL 340.749968 -169.311405 \nL 340.624263 -168.478424 \nL 340.506201 -167.645444 \nL 340.398403 -166.812464 \nL 340.302619 -165.979484 \nL 340.219731 -165.146503 \nL 340.149831 -164.313523 \nL 340.09236 -163.480543 \nL 340.046273 -162.647562 \nz\n\" id=\"mf924cdbf24\" style=\"stroke:#3d3d3d;stroke-width:1.5;\"/>\n    </defs>\n    <g clip-path=\"url(#p478d714b69)\">\n     <use style=\"fill:#c03d3e;stroke:#3d3d3d;stroke-width:1.5;\" x=\"0\" xlink:href=\"#mf924cdbf24\" y=\"277.314375\"/>\n    </g>\n   </g>\n   <g id=\"matplotlib.axis_1\">\n    <g id=\"xtick_1\">\n     <g id=\"line2d_1\">\n      <defs>\n       <path d=\"M 0 0 \nL 0 3.5 \n\" id=\"m5fe13f9443\" style=\"stroke:#000000;stroke-width:0.8;\"/>\n      </defs>\n      <g>\n       <use style=\"stroke:#000000;stroke-width:0.8;\" x=\"88.815625\" xlink:href=\"#m5fe13f9443\" y=\"239.758125\"/>\n      </g>\n     </g>\n     <g id=\"text_1\">\n      <!-- Q1 -->\n      <g transform=\"translate(81.698438 254.356562)scale(0.1 -0.1)\">\n       <defs>\n        <path d=\"M 2522 4238 \nQ 1834 4238 1429 3725 \nQ 1025 3213 1025 2328 \nQ 1025 1447 1429 934 \nQ 1834 422 2522 422 \nQ 3209 422 3611 934 \nQ 4013 1447 4013 2328 \nQ 4013 3213 3611 3725 \nQ 3209 4238 2522 4238 \nz\nM 3406 84 \nL 4238 -825 \nL 3475 -825 \nL 2784 -78 \nQ 2681 -84 2626 -87 \nQ 2572 -91 2522 -91 \nQ 1538 -91 948 567 \nQ 359 1225 359 2328 \nQ 359 3434 948 4092 \nQ 1538 4750 2522 4750 \nQ 3503 4750 4090 4092 \nQ 4678 3434 4678 2328 \nQ 4678 1516 4351 937 \nQ 4025 359 3406 84 \nz\n\" id=\"DejaVuSans-51\" transform=\"scale(0.015625)\"/>\n        <path d=\"M 794 531 \nL 1825 531 \nL 1825 4091 \nL 703 3866 \nL 703 4441 \nL 1819 4666 \nL 2450 4666 \nL 2450 531 \nL 3481 531 \nL 3481 0 \nL 794 0 \nL 794 531 \nz\n\" id=\"DejaVuSans-31\" transform=\"scale(0.015625)\"/>\n       </defs>\n       <use xlink:href=\"#DejaVuSans-51\"/>\n       <use x=\"78.710938\" xlink:href=\"#DejaVuSans-31\"/>\n      </g>\n     </g>\n    </g>\n    <g id=\"xtick_2\">\n     <g id=\"line2d_2\">\n      <g>\n       <use style=\"stroke:#000000;stroke-width:0.8;\" x=\"172.515625\" xlink:href=\"#m5fe13f9443\" y=\"239.758125\"/>\n      </g>\n     </g>\n     <g id=\"text_2\">\n      <!-- Q2 -->\n      <g transform=\"translate(165.398438 254.356562)scale(0.1 -0.1)\">\n       <defs>\n        <path d=\"M 1228 531 \nL 3431 531 \nL 3431 0 \nL 469 0 \nL 469 531 \nQ 828 903 1448 1529 \nQ 2069 2156 2228 2338 \nQ 2531 2678 2651 2914 \nQ 2772 3150 2772 3378 \nQ 2772 3750 2511 3984 \nQ 2250 4219 1831 4219 \nQ 1534 4219 1204 4116 \nQ 875 4013 500 3803 \nL 500 4441 \nQ 881 4594 1212 4672 \nQ 1544 4750 1819 4750 \nQ 2544 4750 2975 4387 \nQ 3406 4025 3406 3419 \nQ 3406 3131 3298 2873 \nQ 3191 2616 2906 2266 \nQ 2828 2175 2409 1742 \nQ 1991 1309 1228 531 \nz\n\" id=\"DejaVuSans-32\" transform=\"scale(0.015625)\"/>\n       </defs>\n       <use xlink:href=\"#DejaVuSans-51\"/>\n       <use x=\"78.710938\" xlink:href=\"#DejaVuSans-32\"/>\n      </g>\n     </g>\n    </g>\n    <g id=\"xtick_3\">\n     <g id=\"line2d_3\">\n      <g>\n       <use style=\"stroke:#000000;stroke-width:0.8;\" x=\"256.215625\" xlink:href=\"#m5fe13f9443\" y=\"239.758125\"/>\n      </g>\n     </g>\n     <g id=\"text_3\">\n      <!-- Q3 -->\n      <g transform=\"translate(249.098438 254.356562)scale(0.1 -0.1)\">\n       <defs>\n        <path d=\"M 2597 2516 \nQ 3050 2419 3304 2112 \nQ 3559 1806 3559 1356 \nQ 3559 666 3084 287 \nQ 2609 -91 1734 -91 \nQ 1441 -91 1130 -33 \nQ 819 25 488 141 \nL 488 750 \nQ 750 597 1062 519 \nQ 1375 441 1716 441 \nQ 2309 441 2620 675 \nQ 2931 909 2931 1356 \nQ 2931 1769 2642 2001 \nQ 2353 2234 1838 2234 \nL 1294 2234 \nL 1294 2753 \nL 1863 2753 \nQ 2328 2753 2575 2939 \nQ 2822 3125 2822 3475 \nQ 2822 3834 2567 4026 \nQ 2313 4219 1838 4219 \nQ 1578 4219 1281 4162 \nQ 984 4106 628 3988 \nL 628 4550 \nQ 988 4650 1302 4700 \nQ 1616 4750 1894 4750 \nQ 2613 4750 3031 4423 \nQ 3450 4097 3450 3541 \nQ 3450 3153 3228 2886 \nQ 3006 2619 2597 2516 \nz\n\" id=\"DejaVuSans-33\" transform=\"scale(0.015625)\"/>\n       </defs>\n       <use xlink:href=\"#DejaVuSans-51\"/>\n       <use x=\"78.710938\" xlink:href=\"#DejaVuSans-33\"/>\n      </g>\n     </g>\n    </g>\n    <g id=\"xtick_4\">\n     <g id=\"line2d_4\">\n      <g>\n       <use style=\"stroke:#000000;stroke-width:0.8;\" x=\"339.915625\" xlink:href=\"#m5fe13f9443\" y=\"239.758125\"/>\n      </g>\n     </g>\n     <g id=\"text_4\">\n      <!-- Q4 -->\n      <g transform=\"translate(332.798438 254.356562)scale(0.1 -0.1)\">\n       <defs>\n        <path d=\"M 2419 4116 \nL 825 1625 \nL 2419 1625 \nL 2419 4116 \nz\nM 2253 4666 \nL 3047 4666 \nL 3047 1625 \nL 3713 1625 \nL 3713 1100 \nL 3047 1100 \nL 3047 0 \nL 2419 0 \nL 2419 1100 \nL 313 1100 \nL 313 1709 \nL 2253 4666 \nz\n\" id=\"DejaVuSans-34\" transform=\"scale(0.015625)\"/>\n       </defs>\n       <use xlink:href=\"#DejaVuSans-51\"/>\n       <use x=\"78.710938\" xlink:href=\"#DejaVuSans-34\"/>\n      </g>\n     </g>\n    </g>\n    <g id=\"text_5\">\n     <!-- Bussiness Quartes in 2017 -->\n     <g transform=\"translate(147.797656 268.034687)scale(0.1 -0.1)\">\n      <defs>\n       <path d=\"M 1259 2228 \nL 1259 519 \nL 2272 519 \nQ 2781 519 3026 730 \nQ 3272 941 3272 1375 \nQ 3272 1813 3026 2020 \nQ 2781 2228 2272 2228 \nL 1259 2228 \nz\nM 1259 4147 \nL 1259 2741 \nL 2194 2741 \nQ 2656 2741 2882 2914 \nQ 3109 3088 3109 3444 \nQ 3109 3797 2882 3972 \nQ 2656 4147 2194 4147 \nL 1259 4147 \nz\nM 628 4666 \nL 2241 4666 \nQ 2963 4666 3353 4366 \nQ 3744 4066 3744 3513 \nQ 3744 3084 3544 2831 \nQ 3344 2578 2956 2516 \nQ 3422 2416 3680 2098 \nQ 3938 1781 3938 1306 \nQ 3938 681 3513 340 \nQ 3088 0 2303 0 \nL 628 0 \nL 628 4666 \nz\n\" id=\"DejaVuSans-42\" transform=\"scale(0.015625)\"/>\n       <path d=\"M 544 1381 \nL 544 3500 \nL 1119 3500 \nL 1119 1403 \nQ 1119 906 1312 657 \nQ 1506 409 1894 409 \nQ 2359 409 2629 706 \nQ 2900 1003 2900 1516 \nL 2900 3500 \nL 3475 3500 \nL 3475 0 \nL 2900 0 \nL 2900 538 \nQ 2691 219 2414 64 \nQ 2138 -91 1772 -91 \nQ 1169 -91 856 284 \nQ 544 659 544 1381 \nz\nM 1991 3584 \nL 1991 3584 \nz\n\" id=\"DejaVuSans-75\" transform=\"scale(0.015625)\"/>\n       <path d=\"M 2834 3397 \nL 2834 2853 \nQ 2591 2978 2328 3040 \nQ 2066 3103 1784 3103 \nQ 1356 3103 1142 2972 \nQ 928 2841 928 2578 \nQ 928 2378 1081 2264 \nQ 1234 2150 1697 2047 \nL 1894 2003 \nQ 2506 1872 2764 1633 \nQ 3022 1394 3022 966 \nQ 3022 478 2636 193 \nQ 2250 -91 1575 -91 \nQ 1294 -91 989 -36 \nQ 684 19 347 128 \nL 347 722 \nQ 666 556 975 473 \nQ 1284 391 1588 391 \nQ 1994 391 2212 530 \nQ 2431 669 2431 922 \nQ 2431 1156 2273 1281 \nQ 2116 1406 1581 1522 \nL 1381 1569 \nQ 847 1681 609 1914 \nQ 372 2147 372 2553 \nQ 372 3047 722 3315 \nQ 1072 3584 1716 3584 \nQ 2034 3584 2315 3537 \nQ 2597 3491 2834 3397 \nz\n\" id=\"DejaVuSans-73\" transform=\"scale(0.015625)\"/>\n       <path d=\"M 603 3500 \nL 1178 3500 \nL 1178 0 \nL 603 0 \nL 603 3500 \nz\nM 603 4863 \nL 1178 4863 \nL 1178 4134 \nL 603 4134 \nL 603 4863 \nz\n\" id=\"DejaVuSans-69\" transform=\"scale(0.015625)\"/>\n       <path d=\"M 3513 2113 \nL 3513 0 \nL 2938 0 \nL 2938 2094 \nQ 2938 2591 2744 2837 \nQ 2550 3084 2163 3084 \nQ 1697 3084 1428 2787 \nQ 1159 2491 1159 1978 \nL 1159 0 \nL 581 0 \nL 581 3500 \nL 1159 3500 \nL 1159 2956 \nQ 1366 3272 1645 3428 \nQ 1925 3584 2291 3584 \nQ 2894 3584 3203 3211 \nQ 3513 2838 3513 2113 \nz\n\" id=\"DejaVuSans-6e\" transform=\"scale(0.015625)\"/>\n       <path d=\"M 3597 1894 \nL 3597 1613 \nL 953 1613 \nQ 991 1019 1311 708 \nQ 1631 397 2203 397 \nQ 2534 397 2845 478 \nQ 3156 559 3463 722 \nL 3463 178 \nQ 3153 47 2828 -22 \nQ 2503 -91 2169 -91 \nQ 1331 -91 842 396 \nQ 353 884 353 1716 \nQ 353 2575 817 3079 \nQ 1281 3584 2069 3584 \nQ 2775 3584 3186 3129 \nQ 3597 2675 3597 1894 \nz\nM 3022 2063 \nQ 3016 2534 2758 2815 \nQ 2500 3097 2075 3097 \nQ 1594 3097 1305 2825 \nQ 1016 2553 972 2059 \nL 3022 2063 \nz\n\" id=\"DejaVuSans-65\" transform=\"scale(0.015625)\"/>\n       <path id=\"DejaVuSans-20\" transform=\"scale(0.015625)\"/>\n       <path d=\"M 2194 1759 \nQ 1497 1759 1228 1600 \nQ 959 1441 959 1056 \nQ 959 750 1161 570 \nQ 1363 391 1709 391 \nQ 2188 391 2477 730 \nQ 2766 1069 2766 1631 \nL 2766 1759 \nL 2194 1759 \nz\nM 3341 1997 \nL 3341 0 \nL 2766 0 \nL 2766 531 \nQ 2569 213 2275 61 \nQ 1981 -91 1556 -91 \nQ 1019 -91 701 211 \nQ 384 513 384 1019 \nQ 384 1609 779 1909 \nQ 1175 2209 1959 2209 \nL 2766 2209 \nL 2766 2266 \nQ 2766 2663 2505 2880 \nQ 2244 3097 1772 3097 \nQ 1472 3097 1187 3025 \nQ 903 2953 641 2809 \nL 641 3341 \nQ 956 3463 1253 3523 \nQ 1550 3584 1831 3584 \nQ 2591 3584 2966 3190 \nQ 3341 2797 3341 1997 \nz\n\" id=\"DejaVuSans-61\" transform=\"scale(0.015625)\"/>\n       <path d=\"M 2631 2963 \nQ 2534 3019 2420 3045 \nQ 2306 3072 2169 3072 \nQ 1681 3072 1420 2755 \nQ 1159 2438 1159 1844 \nL 1159 0 \nL 581 0 \nL 581 3500 \nL 1159 3500 \nL 1159 2956 \nQ 1341 3275 1631 3429 \nQ 1922 3584 2338 3584 \nQ 2397 3584 2469 3576 \nQ 2541 3569 2628 3553 \nL 2631 2963 \nz\n\" id=\"DejaVuSans-72\" transform=\"scale(0.015625)\"/>\n       <path d=\"M 1172 4494 \nL 1172 3500 \nL 2356 3500 \nL 2356 3053 \nL 1172 3053 \nL 1172 1153 \nQ 1172 725 1289 603 \nQ 1406 481 1766 481 \nL 2356 481 \nL 2356 0 \nL 1766 0 \nQ 1100 0 847 248 \nQ 594 497 594 1153 \nL 594 3053 \nL 172 3053 \nL 172 3500 \nL 594 3500 \nL 594 4494 \nL 1172 4494 \nz\n\" id=\"DejaVuSans-74\" transform=\"scale(0.015625)\"/>\n       <path d=\"M 2034 4250 \nQ 1547 4250 1301 3770 \nQ 1056 3291 1056 2328 \nQ 1056 1369 1301 889 \nQ 1547 409 2034 409 \nQ 2525 409 2770 889 \nQ 3016 1369 3016 2328 \nQ 3016 3291 2770 3770 \nQ 2525 4250 2034 4250 \nz\nM 2034 4750 \nQ 2819 4750 3233 4129 \nQ 3647 3509 3647 2328 \nQ 3647 1150 3233 529 \nQ 2819 -91 2034 -91 \nQ 1250 -91 836 529 \nQ 422 1150 422 2328 \nQ 422 3509 836 4129 \nQ 1250 4750 2034 4750 \nz\n\" id=\"DejaVuSans-30\" transform=\"scale(0.015625)\"/>\n       <path d=\"M 525 4666 \nL 3525 4666 \nL 3525 4397 \nL 1831 0 \nL 1172 0 \nL 2766 4134 \nL 525 4134 \nL 525 4666 \nz\n\" id=\"DejaVuSans-37\" transform=\"scale(0.015625)\"/>\n      </defs>\n      <use xlink:href=\"#DejaVuSans-42\"/>\n      <use x=\"68.603516\" xlink:href=\"#DejaVuSans-75\"/>\n      <use x=\"131.982422\" xlink:href=\"#DejaVuSans-73\"/>\n      <use x=\"184.082031\" xlink:href=\"#DejaVuSans-73\"/>\n      <use x=\"236.181641\" xlink:href=\"#DejaVuSans-69\"/>\n      <use x=\"263.964844\" xlink:href=\"#DejaVuSans-6e\"/>\n      <use x=\"327.34375\" xlink:href=\"#DejaVuSans-65\"/>\n      <use x=\"388.867188\" xlink:href=\"#DejaVuSans-73\"/>\n      <use x=\"440.966797\" xlink:href=\"#DejaVuSans-73\"/>\n      <use x=\"493.066406\" xlink:href=\"#DejaVuSans-20\"/>\n      <use x=\"524.853516\" xlink:href=\"#DejaVuSans-51\"/>\n      <use x=\"603.564453\" xlink:href=\"#DejaVuSans-75\"/>\n      <use x=\"666.943359\" xlink:href=\"#DejaVuSans-61\"/>\n      <use x=\"728.222656\" xlink:href=\"#DejaVuSans-72\"/>\n      <use x=\"769.335938\" xlink:href=\"#DejaVuSans-74\"/>\n      <use x=\"808.544922\" xlink:href=\"#DejaVuSans-65\"/>\n      <use x=\"870.068359\" xlink:href=\"#DejaVuSans-73\"/>\n      <use x=\"922.167969\" xlink:href=\"#DejaVuSans-20\"/>\n      <use x=\"953.955078\" xlink:href=\"#DejaVuSans-69\"/>\n      <use x=\"981.738281\" xlink:href=\"#DejaVuSans-6e\"/>\n      <use x=\"1045.117188\" xlink:href=\"#DejaVuSans-20\"/>\n      <use x=\"1076.904297\" xlink:href=\"#DejaVuSans-32\"/>\n      <use x=\"1140.527344\" xlink:href=\"#DejaVuSans-30\"/>\n      <use x=\"1204.150391\" xlink:href=\"#DejaVuSans-31\"/>\n      <use x=\"1267.773438\" xlink:href=\"#DejaVuSans-37\"/>\n     </g>\n    </g>\n   </g>\n   <g id=\"matplotlib.axis_2\">\n    <g id=\"ytick_1\">\n     <g id=\"line2d_5\">\n      <defs>\n       <path d=\"M 0 0 \nL -3.5 0 \n\" id=\"m56606655a5\" style=\"stroke:#000000;stroke-width:0.8;\"/>\n      </defs>\n      <g>\n       <use style=\"stroke:#000000;stroke-width:0.8;\" x=\"46.965625\" xlink:href=\"#m56606655a5\" y=\"237.26885\"/>\n      </g>\n     </g>\n     <g id=\"text_6\">\n      <!-- 120 -->\n      <g transform=\"translate(20.878125 241.068068)scale(0.1 -0.1)\">\n       <use xlink:href=\"#DejaVuSans-31\"/>\n       <use x=\"63.623047\" xlink:href=\"#DejaVuSans-32\"/>\n       <use x=\"127.246094\" xlink:href=\"#DejaVuSans-30\"/>\n      </g>\n     </g>\n    </g>\n    <g id=\"ytick_2\">\n     <g id=\"line2d_6\">\n      <g>\n       <use style=\"stroke:#000000;stroke-width:0.8;\" x=\"46.965625\" xlink:href=\"#m56606655a5\" y=\"190.35509\"/>\n      </g>\n     </g>\n     <g id=\"text_7\">\n      <!-- 140 -->\n      <g transform=\"translate(20.878125 194.154309)scale(0.1 -0.1)\">\n       <use xlink:href=\"#DejaVuSans-31\"/>\n       <use x=\"63.623047\" xlink:href=\"#DejaVuSans-34\"/>\n       <use x=\"127.246094\" xlink:href=\"#DejaVuSans-30\"/>\n      </g>\n     </g>\n    </g>\n    <g id=\"ytick_3\">\n     <g id=\"line2d_7\">\n      <g>\n       <use style=\"stroke:#000000;stroke-width:0.8;\" x=\"46.965625\" xlink:href=\"#m56606655a5\" y=\"143.441331\"/>\n      </g>\n     </g>\n     <g id=\"text_8\">\n      <!-- 160 -->\n      <g transform=\"translate(20.878125 147.240549)scale(0.1 -0.1)\">\n       <defs>\n        <path d=\"M 2113 2584 \nQ 1688 2584 1439 2293 \nQ 1191 2003 1191 1497 \nQ 1191 994 1439 701 \nQ 1688 409 2113 409 \nQ 2538 409 2786 701 \nQ 3034 994 3034 1497 \nQ 3034 2003 2786 2293 \nQ 2538 2584 2113 2584 \nz\nM 3366 4563 \nL 3366 3988 \nQ 3128 4100 2886 4159 \nQ 2644 4219 2406 4219 \nQ 1781 4219 1451 3797 \nQ 1122 3375 1075 2522 \nQ 1259 2794 1537 2939 \nQ 1816 3084 2150 3084 \nQ 2853 3084 3261 2657 \nQ 3669 2231 3669 1497 \nQ 3669 778 3244 343 \nQ 2819 -91 2113 -91 \nQ 1303 -91 875 529 \nQ 447 1150 447 2328 \nQ 447 3434 972 4092 \nQ 1497 4750 2381 4750 \nQ 2619 4750 2861 4703 \nQ 3103 4656 3366 4563 \nz\n\" id=\"DejaVuSans-36\" transform=\"scale(0.015625)\"/>\n       </defs>\n       <use xlink:href=\"#DejaVuSans-31\"/>\n       <use x=\"63.623047\" xlink:href=\"#DejaVuSans-36\"/>\n       <use x=\"127.246094\" xlink:href=\"#DejaVuSans-30\"/>\n      </g>\n     </g>\n    </g>\n    <g id=\"ytick_4\">\n     <g id=\"line2d_8\">\n      <g>\n       <use style=\"stroke:#000000;stroke-width:0.8;\" x=\"46.965625\" xlink:href=\"#m56606655a5\" y=\"96.527571\"/>\n      </g>\n     </g>\n     <g id=\"text_9\">\n      <!-- 180 -->\n      <g transform=\"translate(20.878125 100.32679)scale(0.1 -0.1)\">\n       <defs>\n        <path d=\"M 2034 2216 \nQ 1584 2216 1326 1975 \nQ 1069 1734 1069 1313 \nQ 1069 891 1326 650 \nQ 1584 409 2034 409 \nQ 2484 409 2743 651 \nQ 3003 894 3003 1313 \nQ 3003 1734 2745 1975 \nQ 2488 2216 2034 2216 \nz\nM 1403 2484 \nQ 997 2584 770 2862 \nQ 544 3141 544 3541 \nQ 544 4100 942 4425 \nQ 1341 4750 2034 4750 \nQ 2731 4750 3128 4425 \nQ 3525 4100 3525 3541 \nQ 3525 3141 3298 2862 \nQ 3072 2584 2669 2484 \nQ 3125 2378 3379 2068 \nQ 3634 1759 3634 1313 \nQ 3634 634 3220 271 \nQ 2806 -91 2034 -91 \nQ 1263 -91 848 271 \nQ 434 634 434 1313 \nQ 434 1759 690 2068 \nQ 947 2378 1403 2484 \nz\nM 1172 3481 \nQ 1172 3119 1398 2916 \nQ 1625 2713 2034 2713 \nQ 2441 2713 2670 2916 \nQ 2900 3119 2900 3481 \nQ 2900 3844 2670 4047 \nQ 2441 4250 2034 4250 \nQ 1625 4250 1398 4047 \nQ 1172 3844 1172 3481 \nz\n\" id=\"DejaVuSans-38\" transform=\"scale(0.015625)\"/>\n       </defs>\n       <use xlink:href=\"#DejaVuSans-31\"/>\n       <use x=\"63.623047\" xlink:href=\"#DejaVuSans-38\"/>\n       <use x=\"127.246094\" xlink:href=\"#DejaVuSans-30\"/>\n      </g>\n     </g>\n    </g>\n    <g id=\"ytick_5\">\n     <g id=\"line2d_9\">\n      <g>\n       <use style=\"stroke:#000000;stroke-width:0.8;\" x=\"46.965625\" xlink:href=\"#m56606655a5\" y=\"49.613812\"/>\n      </g>\n     </g>\n     <g id=\"text_10\">\n      <!-- 200 -->\n      <g transform=\"translate(20.878125 53.41303)scale(0.1 -0.1)\">\n       <use xlink:href=\"#DejaVuSans-32\"/>\n       <use x=\"63.623047\" xlink:href=\"#DejaVuSans-30\"/>\n       <use x=\"127.246094\" xlink:href=\"#DejaVuSans-30\"/>\n      </g>\n     </g>\n    </g>\n    <g id=\"text_11\">\n     <!-- Closing Stock Price -->\n     <g transform=\"translate(14.798438 178.52875)rotate(-90)scale(0.1 -0.1)\">\n      <defs>\n       <path d=\"M 4122 4306 \nL 4122 3641 \nQ 3803 3938 3442 4084 \nQ 3081 4231 2675 4231 \nQ 1875 4231 1450 3742 \nQ 1025 3253 1025 2328 \nQ 1025 1406 1450 917 \nQ 1875 428 2675 428 \nQ 3081 428 3442 575 \nQ 3803 722 4122 1019 \nL 4122 359 \nQ 3791 134 3420 21 \nQ 3050 -91 2638 -91 \nQ 1578 -91 968 557 \nQ 359 1206 359 2328 \nQ 359 3453 968 4101 \nQ 1578 4750 2638 4750 \nQ 3056 4750 3426 4639 \nQ 3797 4528 4122 4306 \nz\n\" id=\"DejaVuSans-43\" transform=\"scale(0.015625)\"/>\n       <path d=\"M 603 4863 \nL 1178 4863 \nL 1178 0 \nL 603 0 \nL 603 4863 \nz\n\" id=\"DejaVuSans-6c\" transform=\"scale(0.015625)\"/>\n       <path d=\"M 1959 3097 \nQ 1497 3097 1228 2736 \nQ 959 2375 959 1747 \nQ 959 1119 1226 758 \nQ 1494 397 1959 397 \nQ 2419 397 2687 759 \nQ 2956 1122 2956 1747 \nQ 2956 2369 2687 2733 \nQ 2419 3097 1959 3097 \nz\nM 1959 3584 \nQ 2709 3584 3137 3096 \nQ 3566 2609 3566 1747 \nQ 3566 888 3137 398 \nQ 2709 -91 1959 -91 \nQ 1206 -91 779 398 \nQ 353 888 353 1747 \nQ 353 2609 779 3096 \nQ 1206 3584 1959 3584 \nz\n\" id=\"DejaVuSans-6f\" transform=\"scale(0.015625)\"/>\n       <path d=\"M 2906 1791 \nQ 2906 2416 2648 2759 \nQ 2391 3103 1925 3103 \nQ 1463 3103 1205 2759 \nQ 947 2416 947 1791 \nQ 947 1169 1205 825 \nQ 1463 481 1925 481 \nQ 2391 481 2648 825 \nQ 2906 1169 2906 1791 \nz\nM 3481 434 \nQ 3481 -459 3084 -895 \nQ 2688 -1331 1869 -1331 \nQ 1566 -1331 1297 -1286 \nQ 1028 -1241 775 -1147 \nL 775 -588 \nQ 1028 -725 1275 -790 \nQ 1522 -856 1778 -856 \nQ 2344 -856 2625 -561 \nQ 2906 -266 2906 331 \nL 2906 616 \nQ 2728 306 2450 153 \nQ 2172 0 1784 0 \nQ 1141 0 747 490 \nQ 353 981 353 1791 \nQ 353 2603 747 3093 \nQ 1141 3584 1784 3584 \nQ 2172 3584 2450 3431 \nQ 2728 3278 2906 2969 \nL 2906 3500 \nL 3481 3500 \nL 3481 434 \nz\n\" id=\"DejaVuSans-67\" transform=\"scale(0.015625)\"/>\n       <path d=\"M 3425 4513 \nL 3425 3897 \nQ 3066 4069 2747 4153 \nQ 2428 4238 2131 4238 \nQ 1616 4238 1336 4038 \nQ 1056 3838 1056 3469 \nQ 1056 3159 1242 3001 \nQ 1428 2844 1947 2747 \nL 2328 2669 \nQ 3034 2534 3370 2195 \nQ 3706 1856 3706 1288 \nQ 3706 609 3251 259 \nQ 2797 -91 1919 -91 \nQ 1588 -91 1214 -16 \nQ 841 59 441 206 \nL 441 856 \nQ 825 641 1194 531 \nQ 1563 422 1919 422 \nQ 2459 422 2753 634 \nQ 3047 847 3047 1241 \nQ 3047 1584 2836 1778 \nQ 2625 1972 2144 2069 \nL 1759 2144 \nQ 1053 2284 737 2584 \nQ 422 2884 422 3419 \nQ 422 4038 858 4394 \nQ 1294 4750 2059 4750 \nQ 2388 4750 2728 4690 \nQ 3069 4631 3425 4513 \nz\n\" id=\"DejaVuSans-53\" transform=\"scale(0.015625)\"/>\n       <path d=\"M 3122 3366 \nL 3122 2828 \nQ 2878 2963 2633 3030 \nQ 2388 3097 2138 3097 \nQ 1578 3097 1268 2742 \nQ 959 2388 959 1747 \nQ 959 1106 1268 751 \nQ 1578 397 2138 397 \nQ 2388 397 2633 464 \nQ 2878 531 3122 666 \nL 3122 134 \nQ 2881 22 2623 -34 \nQ 2366 -91 2075 -91 \nQ 1284 -91 818 406 \nQ 353 903 353 1747 \nQ 353 2603 823 3093 \nQ 1294 3584 2113 3584 \nQ 2378 3584 2631 3529 \nQ 2884 3475 3122 3366 \nz\n\" id=\"DejaVuSans-63\" transform=\"scale(0.015625)\"/>\n       <path d=\"M 581 4863 \nL 1159 4863 \nL 1159 1991 \nL 2875 3500 \nL 3609 3500 \nL 1753 1863 \nL 3688 0 \nL 2938 0 \nL 1159 1709 \nL 1159 0 \nL 581 0 \nL 581 4863 \nz\n\" id=\"DejaVuSans-6b\" transform=\"scale(0.015625)\"/>\n       <path d=\"M 1259 4147 \nL 1259 2394 \nL 2053 2394 \nQ 2494 2394 2734 2622 \nQ 2975 2850 2975 3272 \nQ 2975 3691 2734 3919 \nQ 2494 4147 2053 4147 \nL 1259 4147 \nz\nM 628 4666 \nL 2053 4666 \nQ 2838 4666 3239 4311 \nQ 3641 3956 3641 3272 \nQ 3641 2581 3239 2228 \nQ 2838 1875 2053 1875 \nL 1259 1875 \nL 1259 0 \nL 628 0 \nL 628 4666 \nz\n\" id=\"DejaVuSans-50\" transform=\"scale(0.015625)\"/>\n      </defs>\n      <use xlink:href=\"#DejaVuSans-43\"/>\n      <use x=\"69.824219\" xlink:href=\"#DejaVuSans-6c\"/>\n      <use x=\"97.607422\" xlink:href=\"#DejaVuSans-6f\"/>\n      <use x=\"158.789062\" xlink:href=\"#DejaVuSans-73\"/>\n      <use x=\"210.888672\" xlink:href=\"#DejaVuSans-69\"/>\n      <use x=\"238.671875\" xlink:href=\"#DejaVuSans-6e\"/>\n      <use x=\"302.050781\" xlink:href=\"#DejaVuSans-67\"/>\n      <use x=\"365.527344\" xlink:href=\"#DejaVuSans-20\"/>\n      <use x=\"397.314453\" xlink:href=\"#DejaVuSans-53\"/>\n      <use x=\"460.791016\" xlink:href=\"#DejaVuSans-74\"/>\n      <use x=\"500\" xlink:href=\"#DejaVuSans-6f\"/>\n      <use x=\"561.181641\" xlink:href=\"#DejaVuSans-63\"/>\n      <use x=\"616.162109\" xlink:href=\"#DejaVuSans-6b\"/>\n      <use x=\"674.072266\" xlink:href=\"#DejaVuSans-20\"/>\n      <use x=\"705.859375\" xlink:href=\"#DejaVuSans-50\"/>\n      <use x=\"764.412109\" xlink:href=\"#DejaVuSans-72\"/>\n      <use x=\"805.525391\" xlink:href=\"#DejaVuSans-69\"/>\n      <use x=\"833.308594\" xlink:href=\"#DejaVuSans-63\"/>\n      <use x=\"888.289062\" xlink:href=\"#DejaVuSans-65\"/>\n     </g>\n    </g>\n   </g>\n   <g id=\"line2d_10\">\n    <path clip-path=\"url(#p478d714b69)\" d=\"M 88.815625 207.032934 \nL 88.815625 171.44885 \n\" style=\"fill:none;stroke:#3d3d3d;stroke-linecap:square;stroke-width:1.5;\"/>\n   </g>\n   <g id=\"line2d_11\">\n    <path clip-path=\"url(#p478d714b69)\" d=\"M 88.815625 192.3372 \nL 88.815625 182.450115 \n\" style=\"fill:none;stroke:#3d3d3d;stroke-linecap:square;stroke-width:4.5;\"/>\n   </g>\n   <g id=\"line2d_12\">\n    <path clip-path=\"url(#p478d714b69)\" d=\"M 172.515625 190.918067 \nL 172.515625 129.648674 \n\" style=\"fill:none;stroke:#3d3d3d;stroke-linecap:square;stroke-width:1.5;\"/>\n   </g>\n   <g id=\"line2d_13\">\n    <path clip-path=\"url(#p478d714b69)\" d=\"M 172.515625 167.484632 \nL 172.515625 148.074061 \n\" style=\"fill:none;stroke:#3d3d3d;stroke-linecap:square;stroke-width:4.5;\"/>\n   </g>\n   <g id=\"line2d_14\">\n    <path clip-path=\"url(#p478d714b69)\" d=\"M 256.215625 172.504402 \nL 256.215625 75.22872 \n\" style=\"fill:none;stroke:#3d3d3d;stroke-linecap:square;stroke-width:1.5;\"/>\n   </g>\n   <g id=\"line2d_15\">\n    <path clip-path=\"url(#p478d714b69)\" d=\"M 256.215625 123.936929 \nL 256.215625 90.299772 \n\" style=\"fill:none;stroke:#3d3d3d;stroke-linecap:square;stroke-width:4.5;\"/>\n   </g>\n   <g id=\"line2d_16\">\n    <path clip-path=\"url(#p478d714b69)\" d=\"M 339.915625 103.54119 \nL 339.915625 43.327384 \n\" style=\"fill:none;stroke:#3d3d3d;stroke-linecap:square;stroke-width:1.5;\"/>\n   </g>\n   <g id=\"line2d_17\">\n    <path clip-path=\"url(#p478d714b69)\" d=\"M 339.915625 76.95282 \nL 339.915625 58.703352 \n\" style=\"fill:none;stroke:#3d3d3d;stroke-linecap:square;stroke-width:4.5;\"/>\n   </g>\n   <g id=\"patch_3\">\n    <path d=\"M 46.965625 239.758125 \nL 46.965625 22.318125 \n\" style=\"fill:none;stroke:#000000;stroke-linecap:square;stroke-linejoin:miter;stroke-width:0.8;\"/>\n   </g>\n   <g id=\"patch_4\">\n    <path d=\"M 381.765625 239.758125 \nL 381.765625 22.318125 \n\" style=\"fill:none;stroke:#000000;stroke-linecap:square;stroke-linejoin:miter;stroke-width:0.8;\"/>\n   </g>\n   <g id=\"patch_5\">\n    <path d=\"M 46.965625 239.758125 \nL 381.765625 239.758125 \n\" style=\"fill:none;stroke:#000000;stroke-linecap:square;stroke-linejoin:miter;stroke-width:0.8;\"/>\n   </g>\n   <g id=\"patch_6\">\n    <path d=\"M 46.965625 22.318125 \nL 381.765625 22.318125 \n\" style=\"fill:none;stroke:#000000;stroke-linecap:square;stroke-linejoin:miter;stroke-width:0.8;\"/>\n   </g>\n   <g id=\"PathCollection_1\">\n    <defs>\n     <path d=\"M 0 1.5 \nC 0.397805 1.5 0.77937 1.341951 1.06066 1.06066 \nC 1.341951 0.77937 1.5 0.397805 1.5 0 \nC 1.5 -0.397805 1.341951 -0.77937 1.06066 -1.06066 \nC 0.77937 -1.341951 0.397805 -1.5 0 -1.5 \nC -0.397805 -1.5 -0.77937 -1.341951 -1.06066 -1.06066 \nC -1.341951 -0.77937 -1.5 -0.397805 -1.5 0 \nC -1.5 0.397805 -1.341951 0.77937 -1.06066 1.06066 \nC -0.77937 1.341951 -0.397805 1.5 0 1.5 \nz\n\" id=\"mfadbbf0d93\" style=\"stroke:#3d3d3d;\"/>\n    </defs>\n    <g clip-path=\"url(#p478d714b69)\">\n     <use style=\"fill:#ffffff;stroke:#3d3d3d;\" x=\"88.815625\" xlink:href=\"#mfadbbf0d93\" y=\"185.921742\"/>\n    </g>\n   </g>\n   <g id=\"PathCollection_2\">\n    <g clip-path=\"url(#p478d714b69)\">\n     <use style=\"fill:#ffffff;stroke:#3d3d3d;\" x=\"172.515625\" xlink:href=\"#mfadbbf0d93\" y=\"155.427799\"/>\n    </g>\n   </g>\n   <g id=\"PathCollection_3\">\n    <g clip-path=\"url(#p478d714b69)\">\n     <use style=\"fill:#ffffff;stroke:#3d3d3d;\" x=\"256.215625\" xlink:href=\"#mfadbbf0d93\" y=\"99.928812\"/>\n    </g>\n   </g>\n   <g id=\"PathCollection_4\">\n    <g clip-path=\"url(#p478d714b69)\">\n     <use style=\"fill:#ffffff;stroke:#3d3d3d;\" x=\"339.915625\" xlink:href=\"#mfadbbf0d93\" y=\"63.453357\"/>\n    </g>\n   </g>\n   <g id=\"text_12\">\n    <!-- istribution of 2017 Netflix Stock Prices by Quarter -->\n    <g transform=\"translate(65.142813 16.318125)scale(0.12 -0.12)\">\n     <defs>\n      <path d=\"M 3116 1747 \nQ 3116 2381 2855 2742 \nQ 2594 3103 2138 3103 \nQ 1681 3103 1420 2742 \nQ 1159 2381 1159 1747 \nQ 1159 1113 1420 752 \nQ 1681 391 2138 391 \nQ 2594 391 2855 752 \nQ 3116 1113 3116 1747 \nz\nM 1159 2969 \nQ 1341 3281 1617 3432 \nQ 1894 3584 2278 3584 \nQ 2916 3584 3314 3078 \nQ 3713 2572 3713 1747 \nQ 3713 922 3314 415 \nQ 2916 -91 2278 -91 \nQ 1894 -91 1617 61 \nQ 1341 213 1159 525 \nL 1159 0 \nL 581 0 \nL 581 4863 \nL 1159 4863 \nL 1159 2969 \nz\n\" id=\"DejaVuSans-62\" transform=\"scale(0.015625)\"/>\n      <path d=\"M 2375 4863 \nL 2375 4384 \nL 1825 4384 \nQ 1516 4384 1395 4259 \nQ 1275 4134 1275 3809 \nL 1275 3500 \nL 2222 3500 \nL 2222 3053 \nL 1275 3053 \nL 1275 0 \nL 697 0 \nL 697 3053 \nL 147 3053 \nL 147 3500 \nL 697 3500 \nL 697 3744 \nQ 697 4328 969 4595 \nQ 1241 4863 1831 4863 \nL 2375 4863 \nz\n\" id=\"DejaVuSans-66\" transform=\"scale(0.015625)\"/>\n      <path d=\"M 628 4666 \nL 1478 4666 \nL 3547 763 \nL 3547 4666 \nL 4159 4666 \nL 4159 0 \nL 3309 0 \nL 1241 3903 \nL 1241 0 \nL 628 0 \nL 628 4666 \nz\n\" id=\"DejaVuSans-4e\" transform=\"scale(0.015625)\"/>\n      <path d=\"M 3513 3500 \nL 2247 1797 \nL 3578 0 \nL 2900 0 \nL 1881 1375 \nL 863 0 \nL 184 0 \nL 1544 1831 \nL 300 3500 \nL 978 3500 \nL 1906 2253 \nL 2834 3500 \nL 3513 3500 \nz\n\" id=\"DejaVuSans-78\" transform=\"scale(0.015625)\"/>\n      <path d=\"M 2059 -325 \nQ 1816 -950 1584 -1140 \nQ 1353 -1331 966 -1331 \nL 506 -1331 \nL 506 -850 \nL 844 -850 \nQ 1081 -850 1212 -737 \nQ 1344 -625 1503 -206 \nL 1606 56 \nL 191 3500 \nL 800 3500 \nL 1894 763 \nL 2988 3500 \nL 3597 3500 \nL 2059 -325 \nz\n\" id=\"DejaVuSans-79\" transform=\"scale(0.015625)\"/>\n     </defs>\n     <use xlink:href=\"#DejaVuSans-69\"/>\n     <use x=\"27.783203\" xlink:href=\"#DejaVuSans-73\"/>\n     <use x=\"79.882812\" xlink:href=\"#DejaVuSans-74\"/>\n     <use x=\"119.091797\" xlink:href=\"#DejaVuSans-72\"/>\n     <use x=\"160.205078\" xlink:href=\"#DejaVuSans-69\"/>\n     <use x=\"187.988281\" xlink:href=\"#DejaVuSans-62\"/>\n     <use x=\"251.464844\" xlink:href=\"#DejaVuSans-75\"/>\n     <use x=\"314.84375\" xlink:href=\"#DejaVuSans-74\"/>\n     <use x=\"354.052734\" xlink:href=\"#DejaVuSans-69\"/>\n     <use x=\"381.835938\" xlink:href=\"#DejaVuSans-6f\"/>\n     <use x=\"443.017578\" xlink:href=\"#DejaVuSans-6e\"/>\n     <use x=\"506.396484\" xlink:href=\"#DejaVuSans-20\"/>\n     <use x=\"538.183594\" xlink:href=\"#DejaVuSans-6f\"/>\n     <use x=\"599.365234\" xlink:href=\"#DejaVuSans-66\"/>\n     <use x=\"634.570312\" xlink:href=\"#DejaVuSans-20\"/>\n     <use x=\"666.357422\" xlink:href=\"#DejaVuSans-32\"/>\n     <use x=\"729.980469\" xlink:href=\"#DejaVuSans-30\"/>\n     <use x=\"793.603516\" xlink:href=\"#DejaVuSans-31\"/>\n     <use x=\"857.226562\" xlink:href=\"#DejaVuSans-37\"/>\n     <use x=\"920.849609\" xlink:href=\"#DejaVuSans-20\"/>\n     <use x=\"952.636719\" xlink:href=\"#DejaVuSans-4e\"/>\n     <use x=\"1027.441406\" xlink:href=\"#DejaVuSans-65\"/>\n     <use x=\"1088.964844\" xlink:href=\"#DejaVuSans-74\"/>\n     <use x=\"1128.173828\" xlink:href=\"#DejaVuSans-66\"/>\n     <use x=\"1163.378906\" xlink:href=\"#DejaVuSans-6c\"/>\n     <use x=\"1191.162109\" xlink:href=\"#DejaVuSans-69\"/>\n     <use x=\"1218.945312\" xlink:href=\"#DejaVuSans-78\"/>\n     <use x=\"1278.125\" xlink:href=\"#DejaVuSans-20\"/>\n     <use x=\"1309.912109\" xlink:href=\"#DejaVuSans-53\"/>\n     <use x=\"1373.388672\" xlink:href=\"#DejaVuSans-74\"/>\n     <use x=\"1412.597656\" xlink:href=\"#DejaVuSans-6f\"/>\n     <use x=\"1473.779297\" xlink:href=\"#DejaVuSans-63\"/>\n     <use x=\"1528.759766\" xlink:href=\"#DejaVuSans-6b\"/>\n     <use x=\"1586.669922\" xlink:href=\"#DejaVuSans-20\"/>\n     <use x=\"1618.457031\" xlink:href=\"#DejaVuSans-50\"/>\n     <use x=\"1677.009766\" xlink:href=\"#DejaVuSans-72\"/>\n     <use x=\"1718.123047\" xlink:href=\"#DejaVuSans-69\"/>\n     <use x=\"1745.90625\" xlink:href=\"#DejaVuSans-63\"/>\n     <use x=\"1800.886719\" xlink:href=\"#DejaVuSans-65\"/>\n     <use x=\"1862.410156\" xlink:href=\"#DejaVuSans-73\"/>\n     <use x=\"1914.509766\" xlink:href=\"#DejaVuSans-20\"/>\n     <use x=\"1946.296875\" xlink:href=\"#DejaVuSans-62\"/>\n     <use x=\"2009.773438\" xlink:href=\"#DejaVuSans-79\"/>\n     <use x=\"2068.953125\" xlink:href=\"#DejaVuSans-20\"/>\n     <use x=\"2100.740234\" xlink:href=\"#DejaVuSans-51\"/>\n     <use x=\"2179.451172\" xlink:href=\"#DejaVuSans-75\"/>\n     <use x=\"2242.830078\" xlink:href=\"#DejaVuSans-61\"/>\n     <use x=\"2304.109375\" xlink:href=\"#DejaVuSans-72\"/>\n     <use x=\"2345.222656\" xlink:href=\"#DejaVuSans-74\"/>\n     <use x=\"2384.431641\" xlink:href=\"#DejaVuSans-65\"/>\n     <use x=\"2445.955078\" xlink:href=\"#DejaVuSans-72\"/>\n    </g>\n   </g>\n  </g>\n </g>\n <defs>\n  <clipPath id=\"p478d714b69\">\n   <rect height=\"217.44\" width=\"334.8\" x=\"46.965625\" y=\"22.318125\"/>\n  </clipPath>\n </defs>\n</svg>\n",
      "image/png": "[encoded data removed]"
     },
     "metadata": {
      "needs_background": "light"
     }
    }
   ],
   "source": [
    "ax = sns.violinplot()\n",
    "sns.violinplot(data=netflix_stocks_quarterly_df, x='Quarter', y='Price')\n",
    "ax.set_title('istribution of 2017 Netflix Stock Prices by Quarter')\n",
    "plt.xlabel('Bussiness Quartes in 2017')\n",
    "plt.ylabel('Closing Stock Price')"
   ]
  },
  {
   "cell_type": "markdown",
   "metadata": {},
   "source": [
    "## Graph Literacy\n",
    "- What are your first impressions looking at the visualized data?\n",
    "\n",
    "* **Netflix have been constately increasing its value throughout the year.**\n",
    "\n",
    "- In what range(s) did most of the prices fall throughout the year?\n",
    "\n",
    "* **150-170**\n",
    "\n",
    "- What were the highest and lowest prices? \n",
    "* **Lowest was about 125**\n",
    "* **Highest was about 210**"
   ]
  },
  {
   "cell_type": "markdown",
   "metadata": {},
   "source": [
    " "
   ]
  },
  {
   "cell_type": "markdown",
   "metadata": {},
   "source": [
    " "
   ]
  },
  {
   "cell_type": "markdown",
   "metadata": {},
   "source": [
    "## Step 6\n",
    "\n",
    "Next, we will chart the performance of the earnings per share (EPS) by graphing the estimate Yahoo projected for the Quarter compared to the actual earnings for that quarters. We will accomplish this using a scatter chart. \n",
    "\n",
    "1. Plot the actual EPS by using `x_positions` and `earnings_actual` with the `plt.scatter()` function. Assign `red` as the color.\n",
    "2. Plot the actual EPS by using `x_positions` and `earnings_estimate` with the `plt.scatter()` function. Assign `blue` as the color\n",
    "\n",
    "3. Often, estimates and actual EPS are the same. To account for this, be sure to set your transparency  `alpha=0.5` to allow for visibility pf overlapping datapoint.\n",
    "4. Add a legend by using `plt.legend()` and passing in a list with two strings `[\"Actual\", \"Estimate\"]`\n",
    "\n",
    "5. Change the `x_ticks` label to reflect each quarter by using `plt.xticks(x_positions, chart_labels)`\n",
    "6. Assing \"`\"Earnings Per Share in Cents\"` as the title of your plot.\n"
   ]
  },
  {
   "cell_type": "code",
   "execution_count": 17,
   "metadata": {},
   "outputs": [
    {
     "output_type": "display_data",
     "data": {
      "text/plain": "<Figure size 432x288 with 1 Axes>",
      "image/svg+xml": "<?xml version=\"1.0\" encoding=\"utf-8\" standalone=\"no\"?>\n<!DOCTYPE svg PUBLIC \"-//W3C//DTD SVG 1.1//EN\"\n  \"http://www.w3.org/Graphics/SVG/1.1/DTD/svg11.dtd\">\n<svg height=\"248.518125pt\" version=\"1.1\" viewBox=\"0 0 383.089631 248.518125\" width=\"383.089631pt\" xmlns=\"http://www.w3.org/2000/svg\" xmlns:xlink=\"http://www.w3.org/1999/xlink\">\n <metadata>\n  <rdf:RDF xmlns:cc=\"http://creativecommons.org/ns#\" xmlns:dc=\"http://purl.org/dc/elements/1.1/\" xmlns:rdf=\"http://www.w3.org/1999/02/22-rdf-syntax-ns#\">\n   <cc:Work>\n    <dc:type rdf:resource=\"http://purl.org/dc/dcmitype/StillImage\"/>\n    <dc:date>2021-05-11T23:39:26.347174</dc:date>\n    <dc:format>image/svg+xml</dc:format>\n    <dc:creator>\n     <cc:Agent>\n      <dc:title>Matplotlib v3.4.1, https://matplotlib.org/</dc:title>\n     </cc:Agent>\n    </dc:creator>\n   </cc:Work>\n  </rdf:RDF>\n </metadata>\n <defs>\n  <style type=\"text/css\">*{stroke-linecap:butt;stroke-linejoin:round;}</style>\n </defs>\n <g id=\"figure_1\">\n  <g id=\"patch_1\">\n   <path d=\"M 0 248.518125 \nL 383.089631 248.518125 \nL 383.089631 0 \nL 0 0 \nz\n\" style=\"fill:none;\"/>\n  </g>\n  <g id=\"axes_1\">\n   <g id=\"patch_2\">\n    <path d=\"M 36.465625 224.64 \nL 371.265625 224.64 \nL 371.265625 7.2 \nL 36.465625 7.2 \nz\n\" style=\"fill:#ffffff;\"/>\n   </g>\n   <g id=\"PathCollection_1\">\n    <defs>\n     <path d=\"M 0 3 \nC 0.795609 3 1.55874 2.683901 2.12132 2.12132 \nC 2.683901 1.55874 3 0.795609 3 0 \nC 3 -0.795609 2.683901 -1.55874 2.12132 -2.12132 \nC 1.55874 -2.683901 0.795609 -3 0 -3 \nC -0.795609 -3 -1.55874 -2.683901 -2.12132 -2.12132 \nC -2.683901 -1.55874 -3 -0.795609 -3 0 \nC -3 0.795609 -2.683901 1.55874 -2.12132 2.12132 \nC -1.55874 2.683901 -0.795609 3 0 3 \nz\n\" id=\"mad42406020\" style=\"stroke:#ff0000;stroke-opacity:0.5;\"/>\n    </defs>\n    <g clip-path=\"url(#p34f7384ba4)\">\n     <use style=\"fill:#ff0000;fill-opacity:0.5;stroke:#ff0000;stroke-opacity:0.5;\" x=\"51.683807\" xlink:href=\"#mad42406020\" y=\"24.686434\"/>\n     <use style=\"fill:#ff0000;fill-opacity:0.5;stroke:#ff0000;stroke-opacity:0.5;\" x=\"153.138352\" xlink:href=\"#mad42406020\" y=\"214.756364\"/>\n     <use style=\"fill:#ff0000;fill-opacity:0.5;stroke:#ff0000;stroke-opacity:0.5;\" x=\"254.592898\" xlink:href=\"#mad42406020\" y=\"108.317203\"/>\n     <use style=\"fill:#ff0000;fill-opacity:0.5;stroke:#ff0000;stroke-opacity:0.5;\" x=\"356.047443\" xlink:href=\"#mad42406020\" y=\"17.083636\"/>\n    </g>\n   </g>\n   <g id=\"PathCollection_2\">\n    <defs>\n     <path d=\"M 0 3 \nC 0.795609 3 1.55874 2.683901 2.12132 2.12132 \nC 2.683901 1.55874 3 0.795609 3 0 \nC 3 -0.795609 2.683901 -1.55874 2.12132 -2.12132 \nC 1.55874 -2.683901 0.795609 -3 0 -3 \nC -0.795609 -3 -1.55874 -2.683901 -2.12132 -2.12132 \nC -2.683901 -1.55874 -3 -0.795609 -3 0 \nC -3 0.795609 -2.683901 1.55874 -2.12132 2.12132 \nC -1.55874 2.683901 -0.795609 3 0 3 \nz\n\" id=\"m2f13584a6f\" style=\"stroke:#0000ff;stroke-opacity:0.5;\"/>\n    </defs>\n    <g clip-path=\"url(#p34f7384ba4)\">\n     <use style=\"fill:#0000ff;fill-opacity:0.5;stroke:#0000ff;stroke-opacity:0.5;\" x=\"51.683807\" xlink:href=\"#m2f13584a6f\" y=\"47.494825\"/>\n     <use style=\"fill:#0000ff;fill-opacity:0.5;stroke:#0000ff;stroke-opacity:0.5;\" x=\"153.138352\" xlink:href=\"#m2f13584a6f\" y=\"214.756364\"/>\n     <use style=\"fill:#0000ff;fill-opacity:0.5;stroke:#0000ff;stroke-opacity:0.5;\" x=\"254.592898\" xlink:href=\"#m2f13584a6f\" y=\"85.508811\"/>\n     <use style=\"fill:#0000ff;fill-opacity:0.5;stroke:#0000ff;stroke-opacity:0.5;\" x=\"356.047443\" xlink:href=\"#m2f13584a6f\" y=\"17.083636\"/>\n    </g>\n   </g>\n   <g id=\"matplotlib.axis_1\">\n    <g id=\"xtick_1\">\n     <g id=\"line2d_1\">\n      <defs>\n       <path d=\"M 0 0 \nL 0 3.5 \n\" id=\"m4642322933\" style=\"stroke:#000000;stroke-width:0.8;\"/>\n      </defs>\n      <g>\n       <use style=\"stroke:#000000;stroke-width:0.8;\" x=\"51.683807\" xlink:href=\"#m4642322933\" y=\"224.64\"/>\n      </g>\n     </g>\n     <g id=\"text_1\">\n      <!-- 1Q2017 -->\n      <g transform=\"translate(31.841619 239.238437)scale(0.1 -0.1)\">\n       <defs>\n        <path d=\"M 794 531 \nL 1825 531 \nL 1825 4091 \nL 703 3866 \nL 703 4441 \nL 1819 4666 \nL 2450 4666 \nL 2450 531 \nL 3481 531 \nL 3481 0 \nL 794 0 \nL 794 531 \nz\n\" id=\"DejaVuSans-31\" transform=\"scale(0.015625)\"/>\n        <path d=\"M 2522 4238 \nQ 1834 4238 1429 3725 \nQ 1025 3213 1025 2328 \nQ 1025 1447 1429 934 \nQ 1834 422 2522 422 \nQ 3209 422 3611 934 \nQ 4013 1447 4013 2328 \nQ 4013 3213 3611 3725 \nQ 3209 4238 2522 4238 \nz\nM 3406 84 \nL 4238 -825 \nL 3475 -825 \nL 2784 -78 \nQ 2681 -84 2626 -87 \nQ 2572 -91 2522 -91 \nQ 1538 -91 948 567 \nQ 359 1225 359 2328 \nQ 359 3434 948 4092 \nQ 1538 4750 2522 4750 \nQ 3503 4750 4090 4092 \nQ 4678 3434 4678 2328 \nQ 4678 1516 4351 937 \nQ 4025 359 3406 84 \nz\n\" id=\"DejaVuSans-51\" transform=\"scale(0.015625)\"/>\n        <path d=\"M 1228 531 \nL 3431 531 \nL 3431 0 \nL 469 0 \nL 469 531 \nQ 828 903 1448 1529 \nQ 2069 2156 2228 2338 \nQ 2531 2678 2651 2914 \nQ 2772 3150 2772 3378 \nQ 2772 3750 2511 3984 \nQ 2250 4219 1831 4219 \nQ 1534 4219 1204 4116 \nQ 875 4013 500 3803 \nL 500 4441 \nQ 881 4594 1212 4672 \nQ 1544 4750 1819 4750 \nQ 2544 4750 2975 4387 \nQ 3406 4025 3406 3419 \nQ 3406 3131 3298 2873 \nQ 3191 2616 2906 2266 \nQ 2828 2175 2409 1742 \nQ 1991 1309 1228 531 \nz\n\" id=\"DejaVuSans-32\" transform=\"scale(0.015625)\"/>\n        <path d=\"M 2034 4250 \nQ 1547 4250 1301 3770 \nQ 1056 3291 1056 2328 \nQ 1056 1369 1301 889 \nQ 1547 409 2034 409 \nQ 2525 409 2770 889 \nQ 3016 1369 3016 2328 \nQ 3016 3291 2770 3770 \nQ 2525 4250 2034 4250 \nz\nM 2034 4750 \nQ 2819 4750 3233 4129 \nQ 3647 3509 3647 2328 \nQ 3647 1150 3233 529 \nQ 2819 -91 2034 -91 \nQ 1250 -91 836 529 \nQ 422 1150 422 2328 \nQ 422 3509 836 4129 \nQ 1250 4750 2034 4750 \nz\n\" id=\"DejaVuSans-30\" transform=\"scale(0.015625)\"/>\n        <path d=\"M 525 4666 \nL 3525 4666 \nL 3525 4397 \nL 1831 0 \nL 1172 0 \nL 2766 4134 \nL 525 4134 \nL 525 4666 \nz\n\" id=\"DejaVuSans-37\" transform=\"scale(0.015625)\"/>\n       </defs>\n       <use xlink:href=\"#DejaVuSans-31\"/>\n       <use x=\"63.623047\" xlink:href=\"#DejaVuSans-51\"/>\n       <use x=\"142.333984\" xlink:href=\"#DejaVuSans-32\"/>\n       <use x=\"205.957031\" xlink:href=\"#DejaVuSans-30\"/>\n       <use x=\"269.580078\" xlink:href=\"#DejaVuSans-31\"/>\n       <use x=\"333.203125\" xlink:href=\"#DejaVuSans-37\"/>\n      </g>\n     </g>\n    </g>\n    <g id=\"xtick_2\">\n     <g id=\"line2d_2\">\n      <g>\n       <use style=\"stroke:#000000;stroke-width:0.8;\" x=\"153.138352\" xlink:href=\"#m4642322933\" y=\"224.64\"/>\n      </g>\n     </g>\n     <g id=\"text_2\">\n      <!-- 2Q2017 -->\n      <g transform=\"translate(133.296165 239.238437)scale(0.1 -0.1)\">\n       <use xlink:href=\"#DejaVuSans-32\"/>\n       <use x=\"63.623047\" xlink:href=\"#DejaVuSans-51\"/>\n       <use x=\"142.333984\" xlink:href=\"#DejaVuSans-32\"/>\n       <use x=\"205.957031\" xlink:href=\"#DejaVuSans-30\"/>\n       <use x=\"269.580078\" xlink:href=\"#DejaVuSans-31\"/>\n       <use x=\"333.203125\" xlink:href=\"#DejaVuSans-37\"/>\n      </g>\n     </g>\n    </g>\n    <g id=\"xtick_3\">\n     <g id=\"line2d_3\">\n      <g>\n       <use style=\"stroke:#000000;stroke-width:0.8;\" x=\"254.592898\" xlink:href=\"#m4642322933\" y=\"224.64\"/>\n      </g>\n     </g>\n     <g id=\"text_3\">\n      <!-- 3Q2017 -->\n      <g transform=\"translate(234.75071 239.238437)scale(0.1 -0.1)\">\n       <defs>\n        <path d=\"M 2597 2516 \nQ 3050 2419 3304 2112 \nQ 3559 1806 3559 1356 \nQ 3559 666 3084 287 \nQ 2609 -91 1734 -91 \nQ 1441 -91 1130 -33 \nQ 819 25 488 141 \nL 488 750 \nQ 750 597 1062 519 \nQ 1375 441 1716 441 \nQ 2309 441 2620 675 \nQ 2931 909 2931 1356 \nQ 2931 1769 2642 2001 \nQ 2353 2234 1838 2234 \nL 1294 2234 \nL 1294 2753 \nL 1863 2753 \nQ 2328 2753 2575 2939 \nQ 2822 3125 2822 3475 \nQ 2822 3834 2567 4026 \nQ 2313 4219 1838 4219 \nQ 1578 4219 1281 4162 \nQ 984 4106 628 3988 \nL 628 4550 \nQ 988 4650 1302 4700 \nQ 1616 4750 1894 4750 \nQ 2613 4750 3031 4423 \nQ 3450 4097 3450 3541 \nQ 3450 3153 3228 2886 \nQ 3006 2619 2597 2516 \nz\n\" id=\"DejaVuSans-33\" transform=\"scale(0.015625)\"/>\n       </defs>\n       <use xlink:href=\"#DejaVuSans-33\"/>\n       <use x=\"63.623047\" xlink:href=\"#DejaVuSans-51\"/>\n       <use x=\"142.333984\" xlink:href=\"#DejaVuSans-32\"/>\n       <use x=\"205.957031\" xlink:href=\"#DejaVuSans-30\"/>\n       <use x=\"269.580078\" xlink:href=\"#DejaVuSans-31\"/>\n       <use x=\"333.203125\" xlink:href=\"#DejaVuSans-37\"/>\n      </g>\n     </g>\n    </g>\n    <g id=\"xtick_4\">\n     <g id=\"line2d_4\">\n      <g>\n       <use style=\"stroke:#000000;stroke-width:0.8;\" x=\"356.047443\" xlink:href=\"#m4642322933\" y=\"224.64\"/>\n      </g>\n     </g>\n     <g id=\"text_4\">\n      <!-- 4Q2017 -->\n      <g transform=\"translate(336.205256 239.238437)scale(0.1 -0.1)\">\n       <defs>\n        <path d=\"M 2419 4116 \nL 825 1625 \nL 2419 1625 \nL 2419 4116 \nz\nM 2253 4666 \nL 3047 4666 \nL 3047 1625 \nL 3713 1625 \nL 3713 1100 \nL 3047 1100 \nL 3047 0 \nL 2419 0 \nL 2419 1100 \nL 313 1100 \nL 313 1709 \nL 2253 4666 \nz\n\" id=\"DejaVuSans-34\" transform=\"scale(0.015625)\"/>\n       </defs>\n       <use xlink:href=\"#DejaVuSans-34\"/>\n       <use x=\"63.623047\" xlink:href=\"#DejaVuSans-51\"/>\n       <use x=\"142.333984\" xlink:href=\"#DejaVuSans-32\"/>\n       <use x=\"205.957031\" xlink:href=\"#DejaVuSans-30\"/>\n       <use x=\"269.580078\" xlink:href=\"#DejaVuSans-31\"/>\n       <use x=\"333.203125\" xlink:href=\"#DejaVuSans-37\"/>\n      </g>\n     </g>\n    </g>\n   </g>\n   <g id=\"matplotlib.axis_2\">\n    <g id=\"ytick_1\">\n     <g id=\"line2d_5\">\n      <defs>\n       <path d=\"M 0 0 \nL -3.5 0 \n\" id=\"m25f90950d1\" style=\"stroke:#000000;stroke-width:0.8;\"/>\n      </defs>\n      <g>\n       <use style=\"stroke:#000000;stroke-width:0.8;\" x=\"36.465625\" xlink:href=\"#m25f90950d1\" y=\"214.756364\"/>\n      </g>\n     </g>\n     <g id=\"text_5\">\n      <!-- 0.15 -->\n      <g transform=\"translate(7.2 218.555582)scale(0.1 -0.1)\">\n       <defs>\n        <path d=\"M 684 794 \nL 1344 794 \nL 1344 0 \nL 684 0 \nL 684 794 \nz\n\" id=\"DejaVuSans-2e\" transform=\"scale(0.015625)\"/>\n        <path d=\"M 691 4666 \nL 3169 4666 \nL 3169 4134 \nL 1269 4134 \nL 1269 2991 \nQ 1406 3038 1543 3061 \nQ 1681 3084 1819 3084 \nQ 2600 3084 3056 2656 \nQ 3513 2228 3513 1497 \nQ 3513 744 3044 326 \nQ 2575 -91 1722 -91 \nQ 1428 -91 1123 -41 \nQ 819 9 494 109 \nL 494 744 \nQ 775 591 1075 516 \nQ 1375 441 1709 441 \nQ 2250 441 2565 725 \nQ 2881 1009 2881 1497 \nQ 2881 1984 2565 2268 \nQ 2250 2553 1709 2553 \nQ 1456 2553 1204 2497 \nQ 953 2441 691 2322 \nL 691 4666 \nz\n\" id=\"DejaVuSans-35\" transform=\"scale(0.015625)\"/>\n       </defs>\n       <use xlink:href=\"#DejaVuSans-30\"/>\n       <use x=\"63.623047\" xlink:href=\"#DejaVuSans-2e\"/>\n       <use x=\"95.410156\" xlink:href=\"#DejaVuSans-31\"/>\n       <use x=\"159.033203\" xlink:href=\"#DejaVuSans-35\"/>\n      </g>\n     </g>\n    </g>\n    <g id=\"ytick_2\">\n     <g id=\"line2d_6\">\n      <g>\n       <use style=\"stroke:#000000;stroke-width:0.8;\" x=\"36.465625\" xlink:href=\"#m25f90950d1\" y=\"176.742378\"/>\n      </g>\n     </g>\n     <g id=\"text_6\">\n      <!-- 0.20 -->\n      <g transform=\"translate(7.2 180.541596)scale(0.1 -0.1)\">\n       <use xlink:href=\"#DejaVuSans-30\"/>\n       <use x=\"63.623047\" xlink:href=\"#DejaVuSans-2e\"/>\n       <use x=\"95.410156\" xlink:href=\"#DejaVuSans-32\"/>\n       <use x=\"159.033203\" xlink:href=\"#DejaVuSans-30\"/>\n      </g>\n     </g>\n    </g>\n    <g id=\"ytick_3\">\n     <g id=\"line2d_7\">\n      <g>\n       <use style=\"stroke:#000000;stroke-width:0.8;\" x=\"36.465625\" xlink:href=\"#m25f90950d1\" y=\"138.728392\"/>\n      </g>\n     </g>\n     <g id=\"text_7\">\n      <!-- 0.25 -->\n      <g transform=\"translate(7.2 142.52761)scale(0.1 -0.1)\">\n       <use xlink:href=\"#DejaVuSans-30\"/>\n       <use x=\"63.623047\" xlink:href=\"#DejaVuSans-2e\"/>\n       <use x=\"95.410156\" xlink:href=\"#DejaVuSans-32\"/>\n       <use x=\"159.033203\" xlink:href=\"#DejaVuSans-35\"/>\n      </g>\n     </g>\n    </g>\n    <g id=\"ytick_4\">\n     <g id=\"line2d_8\">\n      <g>\n       <use style=\"stroke:#000000;stroke-width:0.8;\" x=\"36.465625\" xlink:href=\"#m25f90950d1\" y=\"100.714406\"/>\n      </g>\n     </g>\n     <g id=\"text_8\">\n      <!-- 0.30 -->\n      <g transform=\"translate(7.2 104.513624)scale(0.1 -0.1)\">\n       <use xlink:href=\"#DejaVuSans-30\"/>\n       <use x=\"63.623047\" xlink:href=\"#DejaVuSans-2e\"/>\n       <use x=\"95.410156\" xlink:href=\"#DejaVuSans-33\"/>\n       <use x=\"159.033203\" xlink:href=\"#DejaVuSans-30\"/>\n      </g>\n     </g>\n    </g>\n    <g id=\"ytick_5\">\n     <g id=\"line2d_9\">\n      <g>\n       <use style=\"stroke:#000000;stroke-width:0.8;\" x=\"36.465625\" xlink:href=\"#m25f90950d1\" y=\"62.70042\"/>\n      </g>\n     </g>\n     <g id=\"text_9\">\n      <!-- 0.35 -->\n      <g transform=\"translate(7.2 66.499638)scale(0.1 -0.1)\">\n       <use xlink:href=\"#DejaVuSans-30\"/>\n       <use x=\"63.623047\" xlink:href=\"#DejaVuSans-2e\"/>\n       <use x=\"95.410156\" xlink:href=\"#DejaVuSans-33\"/>\n       <use x=\"159.033203\" xlink:href=\"#DejaVuSans-35\"/>\n      </g>\n     </g>\n    </g>\n    <g id=\"ytick_6\">\n     <g id=\"line2d_10\">\n      <g>\n       <use style=\"stroke:#000000;stroke-width:0.8;\" x=\"36.465625\" xlink:href=\"#m25f90950d1\" y=\"24.686434\"/>\n      </g>\n     </g>\n     <g id=\"text_10\">\n      <!-- 0.40 -->\n      <g transform=\"translate(7.2 28.485652)scale(0.1 -0.1)\">\n       <use xlink:href=\"#DejaVuSans-30\"/>\n       <use x=\"63.623047\" xlink:href=\"#DejaVuSans-2e\"/>\n       <use x=\"95.410156\" xlink:href=\"#DejaVuSans-34\"/>\n       <use x=\"159.033203\" xlink:href=\"#DejaVuSans-30\"/>\n      </g>\n     </g>\n    </g>\n   </g>\n   <g id=\"patch_3\">\n    <path d=\"M 36.465625 224.64 \nL 36.465625 7.2 \n\" style=\"fill:none;stroke:#000000;stroke-linecap:square;stroke-linejoin:miter;stroke-width:0.8;\"/>\n   </g>\n   <g id=\"patch_4\">\n    <path d=\"M 371.265625 224.64 \nL 371.265625 7.2 \n\" style=\"fill:none;stroke:#000000;stroke-linecap:square;stroke-linejoin:miter;stroke-width:0.8;\"/>\n   </g>\n   <g id=\"patch_5\">\n    <path d=\"M 36.465625 224.64 \nL 371.265625 224.64 \n\" style=\"fill:none;stroke:#000000;stroke-linecap:square;stroke-linejoin:miter;stroke-width:0.8;\"/>\n   </g>\n   <g id=\"patch_6\">\n    <path d=\"M 36.465625 7.2 \nL 371.265625 7.2 \n\" style=\"fill:none;stroke:#000000;stroke-linecap:square;stroke-linejoin:miter;stroke-width:0.8;\"/>\n   </g>\n   <g id=\"legend_1\">\n    <g id=\"patch_7\">\n     <path d=\"M 43.465625 219.64 \nL 119.634375 219.64 \nQ 121.634375 219.64 121.634375 217.64 \nL 121.634375 189.28375 \nQ 121.634375 187.28375 119.634375 187.28375 \nL 43.465625 187.28375 \nQ 41.465625 187.28375 41.465625 189.28375 \nL 41.465625 217.64 \nQ 41.465625 219.64 43.465625 219.64 \nz\n\" style=\"fill:#ffffff;opacity:0.8;stroke:#cccccc;stroke-linejoin:miter;\"/>\n    </g>\n    <g id=\"PathCollection_3\">\n     <g>\n      <use style=\"fill:#ff0000;fill-opacity:0.5;stroke:#ff0000;stroke-opacity:0.5;\" x=\"55.465625\" xlink:href=\"#mad42406020\" y=\"196.257187\"/>\n     </g>\n    </g>\n    <g id=\"text_11\">\n     <!-- Actual -->\n     <g transform=\"translate(73.465625 198.882187)scale(0.1 -0.1)\">\n      <defs>\n       <path d=\"M 2188 4044 \nL 1331 1722 \nL 3047 1722 \nL 2188 4044 \nz\nM 1831 4666 \nL 2547 4666 \nL 4325 0 \nL 3669 0 \nL 3244 1197 \nL 1141 1197 \nL 716 0 \nL 50 0 \nL 1831 4666 \nz\n\" id=\"DejaVuSans-41\" transform=\"scale(0.015625)\"/>\n       <path d=\"M 3122 3366 \nL 3122 2828 \nQ 2878 2963 2633 3030 \nQ 2388 3097 2138 3097 \nQ 1578 3097 1268 2742 \nQ 959 2388 959 1747 \nQ 959 1106 1268 751 \nQ 1578 397 2138 397 \nQ 2388 397 2633 464 \nQ 2878 531 3122 666 \nL 3122 134 \nQ 2881 22 2623 -34 \nQ 2366 -91 2075 -91 \nQ 1284 -91 818 406 \nQ 353 903 353 1747 \nQ 353 2603 823 3093 \nQ 1294 3584 2113 3584 \nQ 2378 3584 2631 3529 \nQ 2884 3475 3122 3366 \nz\n\" id=\"DejaVuSans-63\" transform=\"scale(0.015625)\"/>\n       <path d=\"M 1172 4494 \nL 1172 3500 \nL 2356 3500 \nL 2356 3053 \nL 1172 3053 \nL 1172 1153 \nQ 1172 725 1289 603 \nQ 1406 481 1766 481 \nL 2356 481 \nL 2356 0 \nL 1766 0 \nQ 1100 0 847 248 \nQ 594 497 594 1153 \nL 594 3053 \nL 172 3053 \nL 172 3500 \nL 594 3500 \nL 594 4494 \nL 1172 4494 \nz\n\" id=\"DejaVuSans-74\" transform=\"scale(0.015625)\"/>\n       <path d=\"M 544 1381 \nL 544 3500 \nL 1119 3500 \nL 1119 1403 \nQ 1119 906 1312 657 \nQ 1506 409 1894 409 \nQ 2359 409 2629 706 \nQ 2900 1003 2900 1516 \nL 2900 3500 \nL 3475 3500 \nL 3475 0 \nL 2900 0 \nL 2900 538 \nQ 2691 219 2414 64 \nQ 2138 -91 1772 -91 \nQ 1169 -91 856 284 \nQ 544 659 544 1381 \nz\nM 1991 3584 \nL 1991 3584 \nz\n\" id=\"DejaVuSans-75\" transform=\"scale(0.015625)\"/>\n       <path d=\"M 2194 1759 \nQ 1497 1759 1228 1600 \nQ 959 1441 959 1056 \nQ 959 750 1161 570 \nQ 1363 391 1709 391 \nQ 2188 391 2477 730 \nQ 2766 1069 2766 1631 \nL 2766 1759 \nL 2194 1759 \nz\nM 3341 1997 \nL 3341 0 \nL 2766 0 \nL 2766 531 \nQ 2569 213 2275 61 \nQ 1981 -91 1556 -91 \nQ 1019 -91 701 211 \nQ 384 513 384 1019 \nQ 384 1609 779 1909 \nQ 1175 2209 1959 2209 \nL 2766 2209 \nL 2766 2266 \nQ 2766 2663 2505 2880 \nQ 2244 3097 1772 3097 \nQ 1472 3097 1187 3025 \nQ 903 2953 641 2809 \nL 641 3341 \nQ 956 3463 1253 3523 \nQ 1550 3584 1831 3584 \nQ 2591 3584 2966 3190 \nQ 3341 2797 3341 1997 \nz\n\" id=\"DejaVuSans-61\" transform=\"scale(0.015625)\"/>\n       <path d=\"M 603 4863 \nL 1178 4863 \nL 1178 0 \nL 603 0 \nL 603 4863 \nz\n\" id=\"DejaVuSans-6c\" transform=\"scale(0.015625)\"/>\n      </defs>\n      <use xlink:href=\"#DejaVuSans-41\"/>\n      <use x=\"66.658203\" xlink:href=\"#DejaVuSans-63\"/>\n      <use x=\"121.638672\" xlink:href=\"#DejaVuSans-74\"/>\n      <use x=\"160.847656\" xlink:href=\"#DejaVuSans-75\"/>\n      <use x=\"224.226562\" xlink:href=\"#DejaVuSans-61\"/>\n      <use x=\"285.505859\" xlink:href=\"#DejaVuSans-6c\"/>\n     </g>\n    </g>\n    <g id=\"PathCollection_4\">\n     <g>\n      <use style=\"fill:#0000ff;fill-opacity:0.5;stroke:#0000ff;stroke-opacity:0.5;\" x=\"55.465625\" xlink:href=\"#m2f13584a6f\" y=\"210.935312\"/>\n     </g>\n    </g>\n    <g id=\"text_12\">\n     <!-- Estimate -->\n     <g transform=\"translate(73.465625 213.560312)scale(0.1 -0.1)\">\n      <defs>\n       <path d=\"M 628 4666 \nL 3578 4666 \nL 3578 4134 \nL 1259 4134 \nL 1259 2753 \nL 3481 2753 \nL 3481 2222 \nL 1259 2222 \nL 1259 531 \nL 3634 531 \nL 3634 0 \nL 628 0 \nL 628 4666 \nz\n\" id=\"DejaVuSans-45\" transform=\"scale(0.015625)\"/>\n       <path d=\"M 2834 3397 \nL 2834 2853 \nQ 2591 2978 2328 3040 \nQ 2066 3103 1784 3103 \nQ 1356 3103 1142 2972 \nQ 928 2841 928 2578 \nQ 928 2378 1081 2264 \nQ 1234 2150 1697 2047 \nL 1894 2003 \nQ 2506 1872 2764 1633 \nQ 3022 1394 3022 966 \nQ 3022 478 2636 193 \nQ 2250 -91 1575 -91 \nQ 1294 -91 989 -36 \nQ 684 19 347 128 \nL 347 722 \nQ 666 556 975 473 \nQ 1284 391 1588 391 \nQ 1994 391 2212 530 \nQ 2431 669 2431 922 \nQ 2431 1156 2273 1281 \nQ 2116 1406 1581 1522 \nL 1381 1569 \nQ 847 1681 609 1914 \nQ 372 2147 372 2553 \nQ 372 3047 722 3315 \nQ 1072 3584 1716 3584 \nQ 2034 3584 2315 3537 \nQ 2597 3491 2834 3397 \nz\n\" id=\"DejaVuSans-73\" transform=\"scale(0.015625)\"/>\n       <path d=\"M 603 3500 \nL 1178 3500 \nL 1178 0 \nL 603 0 \nL 603 3500 \nz\nM 603 4863 \nL 1178 4863 \nL 1178 4134 \nL 603 4134 \nL 603 4863 \nz\n\" id=\"DejaVuSans-69\" transform=\"scale(0.015625)\"/>\n       <path d=\"M 3328 2828 \nQ 3544 3216 3844 3400 \nQ 4144 3584 4550 3584 \nQ 5097 3584 5394 3201 \nQ 5691 2819 5691 2113 \nL 5691 0 \nL 5113 0 \nL 5113 2094 \nQ 5113 2597 4934 2840 \nQ 4756 3084 4391 3084 \nQ 3944 3084 3684 2787 \nQ 3425 2491 3425 1978 \nL 3425 0 \nL 2847 0 \nL 2847 2094 \nQ 2847 2600 2669 2842 \nQ 2491 3084 2119 3084 \nQ 1678 3084 1418 2786 \nQ 1159 2488 1159 1978 \nL 1159 0 \nL 581 0 \nL 581 3500 \nL 1159 3500 \nL 1159 2956 \nQ 1356 3278 1631 3431 \nQ 1906 3584 2284 3584 \nQ 2666 3584 2933 3390 \nQ 3200 3197 3328 2828 \nz\n\" id=\"DejaVuSans-6d\" transform=\"scale(0.015625)\"/>\n       <path d=\"M 3597 1894 \nL 3597 1613 \nL 953 1613 \nQ 991 1019 1311 708 \nQ 1631 397 2203 397 \nQ 2534 397 2845 478 \nQ 3156 559 3463 722 \nL 3463 178 \nQ 3153 47 2828 -22 \nQ 2503 -91 2169 -91 \nQ 1331 -91 842 396 \nQ 353 884 353 1716 \nQ 353 2575 817 3079 \nQ 1281 3584 2069 3584 \nQ 2775 3584 3186 3129 \nQ 3597 2675 3597 1894 \nz\nM 3022 2063 \nQ 3016 2534 2758 2815 \nQ 2500 3097 2075 3097 \nQ 1594 3097 1305 2825 \nQ 1016 2553 972 2059 \nL 3022 2063 \nz\n\" id=\"DejaVuSans-65\" transform=\"scale(0.015625)\"/>\n      </defs>\n      <use xlink:href=\"#DejaVuSans-45\"/>\n      <use x=\"63.183594\" xlink:href=\"#DejaVuSans-73\"/>\n      <use x=\"115.283203\" xlink:href=\"#DejaVuSans-74\"/>\n      <use x=\"154.492188\" xlink:href=\"#DejaVuSans-69\"/>\n      <use x=\"182.275391\" xlink:href=\"#DejaVuSans-6d\"/>\n      <use x=\"279.6875\" xlink:href=\"#DejaVuSans-61\"/>\n      <use x=\"340.966797\" xlink:href=\"#DejaVuSans-74\"/>\n      <use x=\"380.175781\" xlink:href=\"#DejaVuSans-65\"/>\n     </g>\n    </g>\n   </g>\n  </g>\n </g>\n <defs>\n  <clipPath id=\"p34f7384ba4\">\n   <rect height=\"217.44\" width=\"334.8\" x=\"36.465625\" y=\"7.2\"/>\n  </clipPath>\n </defs>\n</svg>\n",
      "image/png": "[encoded data removed]"
     },
     "metadata": {
      "needs_background": "light"
     }
    }
   ],
   "source": [
    "x_positions = [1, 2, 3, 4]\n",
    "chart_labels = [\"1Q2017\",\"2Q2017\",\"3Q2017\",\"4Q2017\"]\n",
    "earnings_actual =[.4, .15,.29,.41]\n",
    "earnings_estimate = [.37,.15,.32,.41 ]\n",
    "plt.scatter(x=x_positions, y=earnings_actual, color='red', alpha=0.5)\n",
    "plt.scatter(x=x_positions, y=earnings_estimate, color='blue', alpha=0.5)\n",
    "plt.legend(['Actual', 'Estimate'])\n",
    "plt.xticks(x_positions, chart_labels)\n",
    "plt.show()\n"
   ]
  },
  {
   "cell_type": "markdown",
   "metadata": {
    "collapsed": true
   },
   "source": [
    "## Graph Literacy\n",
    "\n",
    "+ What do the purple dots tell us about the actual and estimate earnings per share in this graph? Hint: In color theory red and blue mix to make purple.\n"
   ]
  },
  {
   "cell_type": "markdown",
   "metadata": {},
   "source": [
    " "
   ]
  },
  {
   "cell_type": "markdown",
   "metadata": {},
   "source": [
    " "
   ]
  },
  {
   "cell_type": "markdown",
   "metadata": {},
   "source": [
    "## Step 7"
   ]
  },
  {
   "cell_type": "markdown",
   "metadata": {},
   "source": [
    "Next, we will visualize the earnings and revenue reported by Netflix by mapping two bars side-by-side. We have visualized a similar chart in the second Matplotlib lesson [Exercise 4](https://www.codecademy.com/courses/learn-matplotlib/lessons/matplotlib-ii/exercises/side-by-side-bars).\n",
    "\n",
    "As you may recall, plotting side-by-side bars in Matplotlib requires computing the width of each bar before hand. We have pasted the starter code for that exercise below. \n",
    "\n",
    "1. Fill in the `n`, `t`, `d`, `w` values for the revenue bars\n",
    "2. Plot the revenue bars by calling `plt.bar()` with the newly computed `x_values` and the `revenue_by_quarter` data\n",
    "3. Fill in the `n`, `t`, `d`, `w` values for the earnings bars\n",
    "4. Plot the revenue bars by calling `plt.bar()` with the newly computed `x_values` and the `earnings_by_quarter` data\n",
    "5. Create a legend for your bar chart with the `labels` provided\n",
    "6. Add a descriptive title for your chart with `plt.title()`\n",
    "7. Add labels to each quarter by assigning the position of the ticks through the code provided. Hint:  `plt.xticks(middle_x, quarter_labels)`\n",
    "8. Be sure to show your plot!\n"
   ]
  },
  {
   "cell_type": "code",
   "execution_count": 12,
   "metadata": {},
   "outputs": [
    {
     "output_type": "error",
     "ename": "SyntaxError",
     "evalue": "invalid syntax (<ipython-input-12-0f5530a7090f>, line 7)",
     "traceback": [
      "\u001b[0;36m  File \u001b[0;32m\"<ipython-input-12-0f5530a7090f>\"\u001b[0;36m, line \u001b[0;32m7\u001b[0m\n\u001b[0;31m    n = ?  # This is our first dataset (out of 2)\u001b[0m\n\u001b[0m        ^\u001b[0m\n\u001b[0;31mSyntaxError\u001b[0m\u001b[0;31m:\u001b[0m invalid syntax\n"
     ]
    }
   ],
   "source": [
    "# The metrics below are in billions of dollars\n",
    "revenue_by_quarter = [2.79, 2.98,3.29,3.7]\n",
    "earnings_by_quarter = [.0656,.12959,.18552,.29012]\n",
    "quarter_labels = [\"2Q2017\",\"3Q2017\",\"4Q2017\", \"1Q2018\"]\n",
    "\n",
    "# Revenue\n",
    "n = ?  # This is our first dataset (out of 2)\n",
    "t = ? # Number of dataset\n",
    "d = ? # Number of sets of bars\n",
    "w = ? # Width of each bar\n",
    "bars1_x = [t*element + w*n for element\n",
    "             in range(d)]\n",
    "\n",
    "\n",
    "\n",
    "# Earnings\n",
    "n = ?  # This is our second dataset (out of 2)\n",
    "t = ? # Number of dataset\n",
    "d = ? # Number of sets of bars\n",
    "w = ? # Width of each bar\n",
    "bars2_x = [t*element + w*n for element\n",
    "             in range(d)]\n",
    "\n",
    "\n",
    "\n",
    "\n",
    "\n",
    "middle_x = [ (a + b) / 2.0 for a, b in zip(bars1_x, bars2_x)]\n",
    "labels = [\"Revenue\", \"Earnings\"]\n"
   ]
  },
  {
   "cell_type": "markdown",
   "metadata": {},
   "source": [
    "## Graph Literacy\n",
    "What are your first impressions looking at the visualized data?\n",
    "\n",
    "- Does Revenue follow a trend?\n",
    "- Do Earnings follow a trend?\n",
    "- Roughly, what percentage of the revenue constitutes earnings?"
   ]
  },
  {
   "cell_type": "code",
   "execution_count": null,
   "metadata": {},
   "outputs": [],
   "source": []
  },
  {
   "cell_type": "markdown",
   "metadata": {},
   "source": [
    "## Step 8\n",
    "\n",
    "In this last step, we will compare Netflix stock to the Dow Jones Industrial Average in 2017. We will accomplish this by plotting two line charts side by side in one figure. \n",
    "\n",
    "Since `Price` which is the most relevant data is in the Y axis, let's map our subplots to align vertically side by side.\n",
    "- We have set up the code for you on line 1 in the cell below. Complete the figure by passing the following arguments to `plt.subplots()` for the first plot, and tweaking the third argument for the second plot\n",
    "    - `1`-- the number of rows for the subplots\n",
    "    - `2` -- the number of columns for the subplots\n",
    "    - `1` -- the subplot you are modifying\n",
    "\n",
    "- Chart the Netflix Stock Prices in the left-hand subplot. Using your data frame, access the `Date` and `Price` charts as the x and y axes respectively. Hint: (`netflix_stocks['Date'], netflix_stocks['Price']`)\n",
    "- Assign \"Netflix\" as a title to this subplot. Hint: `ax1.set_title()`\n",
    "- For each subplot, `set_xlabel` to `\"Date\"` and `set_ylabel` to `\"Stock Price\"`\n",
    "- Chart the Dow Jones Stock Prices in the left-hand subplot. Using your data frame, access the `Date` and `Price` charts as the x and y axes respectively. Hint: (`dowjones_stocks['Date'], dowjones_stocks['Price']`)\n",
    "- Assign \"Dow Jones\" as a title to this subplot. Hint: `plt.set_title()`\n",
    "- There is some crowding in the Y axis labels, add some space by calling `plt.subplots_adjust(wspace=.5)`\n",
    "- Be sure to `.show()` your plots.\n"
   ]
  },
  {
   "cell_type": "code",
   "execution_count": 4,
   "metadata": {},
   "outputs": [],
   "source": [
    "# Left plot Netflix\n",
    "# ax1 = plt.subplot(total number rows, total number columns, index of subplot to modify)\n",
    "\n",
    "\n",
    "\n",
    "\n",
    "\n",
    "# Right plot Dow Jones\n",
    "# ax2 = plt.subplot(total number rows, total number columns, index of subplot to modify)\n",
    "\n",
    "\n",
    "\n",
    "\n"
   ]
  },
  {
   "cell_type": "markdown",
   "metadata": {},
   "source": [
    "- How did Netflix perform relative to Dow Jones Industrial Average in 2017?\n",
    "- Which was more volatile?\n",
    "- How do the prices of the stocks compare?"
   ]
  },
  {
   "cell_type": "markdown",
   "metadata": {},
   "source": [
    " "
   ]
  },
  {
   "cell_type": "markdown",
   "metadata": {},
   "source": [
    "# Step 9\n",
    "\n",
    "It's time to make your presentation! Save each of your visualizations as a png file with `plt.savefig(\"filename.png\")`.\n",
    "\n",
    "As you prepare your slides, think about the answers to the graph literacy questions. Embed your observations in the narrative of your slideshow!\n",
    "\n",
    "Remember that your slideshow must include:\n",
    "- A title slide\n",
    "- A list of your visualizations and your role in their creation for the \"Stock Profile\" team\n",
    "- A visualization of the distribution of the stock prices for Netflix in 2017\n",
    "- A visualization and a summary of Netflix stock and revenue for the past four quarters and a summary\n",
    "- A visualization and a brief summary of their earned versus actual earnings per share\n",
    "- A visualization of Netflix stock against the Dow Jones stock (to get a sense of the market) in 2017\n"
   ]
  },
  {
   "cell_type": "code",
   "execution_count": null,
   "metadata": {},
   "outputs": [],
   "source": []
  }
 ],
 "metadata": {
  "kernelspec": {
   "name": "python388jvsc74a57bd0aaa8cd9d8dee3a32c846f4040502c711d1cd9d513882153f94a5792d3c9f0af8",
   "display_name": "Python 3.8.8 64-bit ('datascience': conda)"
  },
  "language_info": {
   "codemirror_mode": {
    "name": "ipython",
    "version": 3
   },
   "file_extension": ".py",
   "mimetype": "text/x-python",
   "name": "python",
   "nbconvert_exporter": "python",
   "pygments_lexer": "ipython3",
   "version": "3.8.8"
  },
  "metadata": {
   "interpreter": {
    "hash": "aaa8cd9d8dee3a32c846f4040502c711d1cd9d513882153f94a5792d3c9f0af8"
   }
  }
 },
 "nbformat": 4,
 "nbformat_minor": 2
}