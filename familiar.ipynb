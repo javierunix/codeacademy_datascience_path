{
 "metadata": {
  "language_info": {
   "codemirror_mode": {
    "name": "ipython",
    "version": 3
   },
   "file_extension": ".py",
   "mimetype": "text/x-python",
   "name": "python",
   "nbconvert_exporter": "python",
   "pygments_lexer": "ipython3",
   "version": "3.8.8"
  },
  "orig_nbformat": 2,
  "kernelspec": {
   "name": "python388jvsc74a57bd0aaa8cd9d8dee3a32c846f4040502c711d1cd9d513882153f94a5792d3c9f0af8",
   "display_name": "Python 3.8.8 64-bit ('datascience': conda)"
  },
  "metadata": {
   "interpreter": {
    "hash": "aaa8cd9d8dee3a32c846f4040502c711d1cd9d513882153f94a5792d3c9f0af8"
   }
  }
 },
 "nbformat": 4,
 "nbformat_minor": 2,
 "cells": [
  {
   "cell_type": "code",
   "execution_count": 2,
   "metadata": {},
   "outputs": [],
   "source": [
    "# import libraries\n",
    "import numpy as np\n",
    "import pandas as pd"
   ]
  },
  {
   "cell_type": "code",
   "execution_count": 3,
   "metadata": {},
   "outputs": [
    {
     "output_type": "stream",
     "name": "stdout",
     "text": [
      "     pack   lifespan\n0    vein  76.255090\n1  artery  76.404504\n2  artery  75.952442\n3  artery  76.923082\n4  artery  73.771212\n     pack    iron\n0    vein     low\n1  artery  normal\n2  artery  normal\n3  artery  normal\n4  artery    high\n"
     ]
    }
   ],
   "source": [
    "lifespans = pd.read_csv('familiar_lifespan.csv')\n",
    "iron = pd.read_csv('familiar_iron.csv')\n",
    "print(lifespans.head())\n",
    "print(iron.head())"
   ]
  },
  {
   "source": [
    "Extract the lifespan of subscribers to the `vein` pack and store it in the variable `vein_pack_subscribers`."
   ],
   "cell_type": "markdown",
   "metadata": {}
  },
  {
   "cell_type": "code",
   "execution_count": 4,
   "metadata": {},
   "outputs": [],
   "source": [
    "vein_pack_subscribers = lifespans.lifespan[lifespans.pack == 'vein']"
   ]
  },
  {
   "cell_type": "code",
   "execution_count": 5,
   "metadata": {},
   "outputs": [
    {
     "output_type": "execute_result",
     "data": {
      "text/plain": [
       "76.16901335636044"
      ]
     },
     "metadata": {},
     "execution_count": 5
    }
   ],
   "source": [
    "np.mean(vein_pack_subscribers) # print the mean of the `vein` pack subscribers. "
   ]
  },
  {
   "source": [
    "## Check if the subscribers lifespan is 73 years\n",
    "\n",
    "** Null hypothesis: ** the mean is 73 years.\n",
    "\n",
    "** Alternative hypothesis: ** the mean is not 73 years."
   ],
   "cell_type": "markdown",
   "metadata": {}
  },
  {
   "source": [
    "In this case, we have to conduct a one-sample t test.We are going to consider a threshold of 0.05 for significance."
   ],
   "cell_type": "markdown",
   "metadata": {}
  },
  {
   "cell_type": "code",
   "execution_count": 6,
   "metadata": {},
   "outputs": [],
   "source": [
    "from scipy.stats import ttest_1samp # import the function"
   ]
  },
  {
   "cell_type": "code",
   "execution_count": 11,
   "metadata": {},
   "outputs": [
    {
     "output_type": "stream",
     "name": "stdout",
     "text": [
      "5.972157921433201e-07\n"
     ]
    }
   ],
   "source": [
    "t_score, p_value = ttest_1samp(vein_pack_subscribers, popmean=73)\n",
    "print(p_value)"
   ]
  },
  {
   "source": [
    "The p_value is lower than the significance threshold. As a consecuence, we reject the null hypothesis. However, there is a 5% of probability of false positive (considering than the means are different, even when actually they aren't)"
   ],
   "cell_type": "markdown",
   "metadata": {}
  },
  {
   "source": [
    "## Doing the same for the `artery` subscribers"
   ],
   "cell_type": "markdown",
   "metadata": {}
  },
  {
   "cell_type": "code",
   "execution_count": 13,
   "metadata": {},
   "outputs": [],
   "source": [
    "artery_pack_subscribers = lifespans.lifespan[lifespans.pack == 'artery']"
   ]
  },
  {
   "cell_type": "code",
   "execution_count": 14,
   "metadata": {},
   "outputs": [
    {
     "output_type": "execute_result",
     "data": {
      "text/plain": [
       "74.8736622351704"
      ]
     },
     "metadata": {},
     "execution_count": 14
    }
   ],
   "source": [
    "np.mean(artery_pack_subscribers) # print the mean of the `vein` pack subscribers. "
   ]
  },
  {
   "source": [
    "## Compare `vein` and `artery` lifespan\n",
    "\n",
    "** Null hypothesis: **  Means are similar.\n",
    "\n",
    "** Alternative hypothesis: ** Means are not similar.\n",
    "\n",
    "For evaluating the association between a quantitative variable (lifespan) and a catergorical binary variable we are going to conduct a two-sample t test."
   ],
   "cell_type": "markdown",
   "metadata": {}
  },
  {
   "source": [
    "from scipy.stats import ttest_ind"
   ],
   "cell_type": "code",
   "metadata": {},
   "execution_count": 15,
   "outputs": []
  },
  {
   "cell_type": "code",
   "execution_count": 19,
   "metadata": {},
   "outputs": [
    {
     "output_type": "stream",
     "name": "stdout",
     "text": [
      "0.055888830790708194\n"
     ]
    }
   ],
   "source": [
    "tstat, pval = ttest_ind(vein_pack_subscribers, artery_pack_subscribers)\n",
    "print(pval)"
   ]
  },
  {
   "source": [
    "The p_value is higher than 0.05, so we accept the null hypothesis."
   ],
   "cell_type": "markdown",
   "metadata": {}
  }
 ]
}