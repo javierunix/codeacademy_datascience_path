{
 "metadata": {
  "language_info": {
   "codemirror_mode": {
    "name": "ipython",
    "version": 3
   },
   "file_extension": ".py",
   "mimetype": "text/x-python",
   "name": "python",
   "nbconvert_exporter": "python",
   "pygments_lexer": "ipython3",
   "version": "3.8.8"
  },
  "orig_nbformat": 2,
  "kernelspec": {
   "name": "python388jvsc74a57bd0aaa8cd9d8dee3a32c846f4040502c711d1cd9d513882153f94a5792d3c9f0af8",
   "display_name": "Python 3.8.8 64-bit ('datascience': conda)"
  },
  "metadata": {
   "interpreter": {
    "hash": "aaa8cd9d8dee3a32c846f4040502c711d1cd9d513882153f94a5792d3c9f0af8"
   }
  }
 },
 "nbformat": 4,
 "nbformat_minor": 2,
 "cells": [
  {
   "cell_type": "code",
   "execution_count": 2,
   "metadata": {},
   "outputs": [],
   "source": [
    "# import libraries\n",
    "import numpy as np\n",
    "import pandas as pd"
   ]
  },
  {
   "cell_type": "code",
   "execution_count": 3,
   "metadata": {},
   "outputs": [
    {
     "output_type": "stream",
     "name": "stdout",
     "text": [
      "     pack   lifespan\n0    vein  76.255090\n1  artery  76.404504\n2  artery  75.952442\n3  artery  76.923082\n4  artery  73.771212\n     pack    iron\n0    vein     low\n1  artery  normal\n2  artery  normal\n3  artery  normal\n4  artery    high\n"
     ]
    }
   ],
   "source": [
    "lifespans = pd.read_csv('familiar_lifespan.csv')\n",
    "iron = pd.read_csv('familiar_iron.csv')\n",
    "print(lifespans.head())"
   ]
  },
  {
   "source": [
    "Extract the lifespan of subscribers to the `vein` pack and store it in the variable `vein_pack_subscribers`."
   ],
   "cell_type": "markdown",
   "metadata": {}
  },
  {
   "cell_type": "code",
   "execution_count": 4,
   "metadata": {},
   "outputs": [],
   "source": [
    "vein_pack_subscribers = lifespans.lifespan[lifespans.pack == 'vein']"
   ]
  },
  {
   "cell_type": "code",
   "execution_count": 5,
   "metadata": {},
   "outputs": [
    {
     "output_type": "execute_result",
     "data": {
      "text/plain": [
       "76.16901335636044"
      ]
     },
     "metadata": {},
     "execution_count": 5
    }
   ],
   "source": [
    "np.mean(vein_pack_subscribers) # print the mean of the `vein` pack subscribers. "
   ]
  },
  {
   "source": [
    "## Check if the subscribers lifespan is 73 years\n",
    "\n",
    "** Null hypothesis: ** the mean is 73 years.\n",
    "\n",
    "** Alternative hypothesis: ** the mean is not 73 years."
   ],
   "cell_type": "markdown",
   "metadata": {}
  },
  {
   "source": [
    "In this case, we have to conduct a one-sample t test.We are going to consider a threshold of 0.05 for significance."
   ],
   "cell_type": "markdown",
   "metadata": {}
  },
  {
   "cell_type": "code",
   "execution_count": 6,
   "metadata": {},
   "outputs": [],
   "source": [
    "from scipy.stats import ttest_1samp # import the function"
   ]
  },
  {
   "cell_type": "code",
   "execution_count": 11,
   "metadata": {},
   "outputs": [
    {
     "output_type": "stream",
     "name": "stdout",
     "text": [
      "5.972157921433201e-07\n"
     ]
    }
   ],
   "source": [
    "t_score, p_value = ttest_1samp(vein_pack_subscribers, popmean=73)\n",
    "print(p_value)"
   ]
  },
  {
   "source": [
    "The p_value is lower than the significance threshold. As a consecuence, we reject the null hypothesis. However, there is a 5% of probability of false positive (considering than the means are different, even when actually they aren't)"
   ],
   "cell_type": "markdown",
   "metadata": {}
  },
  {
   "source": [
    "## Doing the same for the `artery` subscribers"
   ],
   "cell_type": "markdown",
   "metadata": {}
  },
  {
   "cell_type": "code",
   "execution_count": 13,
   "metadata": {},
   "outputs": [],
   "source": [
    "artery_pack_subscribers = lifespans.lifespan[lifespans.pack == 'artery']"
   ]
  },
  {
   "cell_type": "code",
   "execution_count": 14,
   "metadata": {},
   "outputs": [
    {
     "output_type": "execute_result",
     "data": {
      "text/plain": [
       "74.8736622351704"
      ]
     },
     "metadata": {},
     "execution_count": 14
    }
   ],
   "source": [
    "np.mean(artery_pack_subscribers) # print the mean of the `vein` pack subscribers. "
   ]
  },
  {
   "source": [
    "## Compare `vein` and `artery` lifespan\n",
    "\n",
    "** Null hypothesis: **  Means are similar.\n",
    "\n",
    "** Alternative hypothesis: ** Means are not similar.\n",
    "\n",
    "For evaluating the association between a quantitative variable (lifespan) and a catergorical binary variable we are going to conduct a two-sample t test."
   ],
   "cell_type": "markdown",
   "metadata": {}
  },
  {
   "source": [
    "from scipy.stats import ttest_ind"
   ],
   "cell_type": "code",
   "metadata": {},
   "execution_count": 15,
   "outputs": []
  },
  {
   "cell_type": "code",
   "execution_count": 19,
   "metadata": {},
   "outputs": [
    {
     "output_type": "stream",
     "name": "stdout",
     "text": [
      "0.055888830790708194\n"
     ]
    }
   ],
   "source": [
    "tstat, pval = ttest_ind(vein_pack_subscribers, artery_pack_subscribers)\n",
    "print(pval)"
   ]
  },
  {
   "source": [
    "The p_value is higher than 0.05, so we accept the null hypothesis."
   ],
   "cell_type": "markdown",
   "metadata": {}
  },
  {
   "source": [
    "# Side effects: a familiar problem\n",
    "\n",
    "The Familiar team has provided us with another dataset containing survey data about iron counts for our subscribers. This data has been pre-processed to categorize iron counts as “low”, “normal”, and “high” for each subscriber. Familiar wants to be able to advise potential subscribers about possible side effects of these packs and whether they differ for the Vein vs. the Artery pack."
   ],
   "cell_type": "markdown",
   "metadata": {}
  },
  {
   "cell_type": "code",
   "execution_count": 20,
   "metadata": {},
   "outputs": [
    {
     "output_type": "stream",
     "name": "stdout",
     "text": [
      "     pack    iron\n0    vein     low\n1  artery  normal\n2  artery  normal\n3  artery  normal\n4  artery    high\n"
     ]
    }
   ],
   "source": [
    "print(iron.head())"
   ]
  },
  {
   "source": [
    "Is there an association between the pack that a subscriber gets (Vein vs. Artery) and their iron level?"
   ],
   "cell_type": "markdown",
   "metadata": {}
  },
  {
   "cell_type": "code",
   "execution_count": 21,
   "metadata": {},
   "outputs": [
    {
     "output_type": "execute_result",
     "data": {
      "text/plain": [
       "iron    high  low  normal\n",
       "pack                     \n",
       "artery    87   29      29\n",
       "vein      20  140      40"
      ],
      "text/html": "<div>\n<style scoped>\n    .dataframe tbody tr th:only-of-type {\n        vertical-align: middle;\n    }\n\n    .dataframe tbody tr th {\n        vertical-align: top;\n    }\n\n    .dataframe thead th {\n        text-align: right;\n    }\n</style>\n<table border=\"1\" class=\"dataframe\">\n  <thead>\n    <tr style=\"text-align: right;\">\n      <th>iron</th>\n      <th>high</th>\n      <th>low</th>\n      <th>normal</th>\n    </tr>\n    <tr>\n      <th>pack</th>\n      <th></th>\n      <th></th>\n      <th></th>\n    </tr>\n  </thead>\n  <tbody>\n    <tr>\n      <th>artery</th>\n      <td>87</td>\n      <td>29</td>\n      <td>29</td>\n    </tr>\n    <tr>\n      <th>vein</th>\n      <td>20</td>\n      <td>140</td>\n      <td>40</td>\n    </tr>\n  </tbody>\n</table>\n</div>"
     },
     "metadata": {},
     "execution_count": 21
    }
   ],
   "source": [
    "# first, we create a contingency table\n",
    "Xtab = pd.crosstab(iron.pack, iron.iron)\n",
    "Xtab"
   ]
  },
  {
   "source": [
    "Find out if there is a significant association between which pack (Vein vs. Artery) someone subscribes to and their iron level.\n",
    "\n",
    "Test the following null and alternative hypotheses:\n",
    "\n",
    "** Null: ** There is NOT an association between which pack (Vein vs. Artery) someone subscribes to and their iron level.\n",
    "\n",
    "** Alternative: ** There is an association between which pack (Vein vs. Artery) someone subscribes to and their iron level.\n",
    "\n",
    "Use a significance threshold of 0.05."
   ],
   "cell_type": "markdown",
   "metadata": {}
  },
  {
   "source": [
    "To test for an association between two categorical variables, we can use a Chi-Square test. The null hypothesis for a Chi-Square test is that there is no association between the variables and the alternative hypothesis is that there is an association between the variables."
   ],
   "cell_type": "markdown",
   "metadata": {}
  },
  {
   "cell_type": "code",
   "execution_count": 23,
   "metadata": {},
   "outputs": [],
   "source": [
    "from scipy.stats import chi2_contingency"
   ]
  },
  {
   "cell_type": "code",
   "execution_count": 25,
   "metadata": {},
   "outputs": [
    {
     "output_type": "execute_result",
     "data": {
      "text/plain": [
       "9.359749337433008e-25"
      ]
     },
     "metadata": {},
     "execution_count": 25
    }
   ],
   "source": [
    "chi2, pval, dof, expected = chi2_contingency(Xtab)\n",
    "pval "
   ]
  },
  {
   "source": [
    "pval is lower than the significance threshold. As a consequence we reject the null hypothesis and we conclude that there is an association between these two variables."
   ],
   "cell_type": "markdown",
   "metadata": {}
  }
 ]
}