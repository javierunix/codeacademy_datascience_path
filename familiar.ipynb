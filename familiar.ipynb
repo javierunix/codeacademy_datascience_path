{
 "metadata": {
  "language_info": {
   "codemirror_mode": {
    "name": "ipython",
    "version": 3
   },
   "file_extension": ".py",
   "mimetype": "text/x-python",
   "name": "python",
   "nbconvert_exporter": "python",
   "pygments_lexer": "ipython3",
   "version": "3.8.8"
  },
  "orig_nbformat": 2,
  "kernelspec": {
   "name": "python388jvsc74a57bd0aaa8cd9d8dee3a32c846f4040502c711d1cd9d513882153f94a5792d3c9f0af8",
   "display_name": "Python 3.8.8 64-bit ('datascience': conda)"
  },
  "metadata": {
   "interpreter": {
    "hash": "aaa8cd9d8dee3a32c846f4040502c711d1cd9d513882153f94a5792d3c9f0af8"
   }
  }
 },
 "nbformat": 4,
 "nbformat_minor": 2,
 "cells": [
  {
   "cell_type": "code",
   "execution_count": 2,
   "metadata": {},
   "outputs": [],
   "source": [
    "# import libraries\n",
    "import numpy as np\n",
    "import pandas as pd"
   ]
  },
  {
   "cell_type": "code",
   "execution_count": 3,
   "metadata": {},
   "outputs": [
    {
     "output_type": "stream",
     "name": "stdout",
     "text": [
      "     pack   lifespan\n0    vein  76.255090\n1  artery  76.404504\n2  artery  75.952442\n3  artery  76.923082\n4  artery  73.771212\n     pack    iron\n0    vein     low\n1  artery  normal\n2  artery  normal\n3  artery  normal\n4  artery    high\n"
     ]
    }
   ],
   "source": [
    "lifespans = pd.read_csv('familiar_lifespan.csv')\n",
    "iron = pd.read_csv('familiar_iron.csv')\n",
    "print(lifespans.head())\n",
    "print(iron.head())"
   ]
  }
 ]
}