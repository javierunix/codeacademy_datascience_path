{
 "metadata": {
  "language_info": {
   "codemirror_mode": {
    "name": "ipython",
    "version": 3
   },
   "file_extension": ".py",
   "mimetype": "text/x-python",
   "name": "python",
   "nbconvert_exporter": "python",
   "pygments_lexer": "ipython3",
   "version": "3.8.8"
  },
  "orig_nbformat": 2,
  "kernelspec": {
   "name": "python388jvsc74a57bd0aaa8cd9d8dee3a32c846f4040502c711d1cd9d513882153f94a5792d3c9f0af8",
   "display_name": "Python 3.8.8 64-bit ('datascience': conda)"
  },
  "metadata": {
   "interpreter": {
    "hash": "aaa8cd9d8dee3a32c846f4040502c711d1cd9d513882153f94a5792d3c9f0af8"
   }
  }
 },
 "nbformat": 4,
 "nbformat_minor": 2,
 "cells": [
  {
   "cell_type": "code",
   "execution_count": 1,
   "metadata": {},
   "outputs": [],
   "source": [
    "import pandas as pd \n",
    "import numpy as np\n",
    "import math"
   ]
  },
  {
   "cell_type": "code",
   "execution_count": 2,
   "metadata": {},
   "outputs": [
    {
     "output_type": "execute_result",
     "data": {
      "text/plain": [
       "    user_id group is_purchase\n",
       "0  8e27bf9a     A          No\n",
       "1  eb89e6f0     A          No\n",
       "2  7119106a     A          No\n",
       "3  e53781ff     A          No\n",
       "4  02d48cf1     A         Yes"
      ],
      "text/html": "<div>\n<style scoped>\n    .dataframe tbody tr th:only-of-type {\n        vertical-align: middle;\n    }\n\n    .dataframe tbody tr th {\n        vertical-align: top;\n    }\n\n    .dataframe thead th {\n        text-align: right;\n    }\n</style>\n<table border=\"1\" class=\"dataframe\">\n  <thead>\n    <tr style=\"text-align: right;\">\n      <th></th>\n      <th>user_id</th>\n      <th>group</th>\n      <th>is_purchase</th>\n    </tr>\n  </thead>\n  <tbody>\n    <tr>\n      <th>0</th>\n      <td>8e27bf9a</td>\n      <td>A</td>\n      <td>No</td>\n    </tr>\n    <tr>\n      <th>1</th>\n      <td>eb89e6f0</td>\n      <td>A</td>\n      <td>No</td>\n    </tr>\n    <tr>\n      <th>2</th>\n      <td>7119106a</td>\n      <td>A</td>\n      <td>No</td>\n    </tr>\n    <tr>\n      <th>3</th>\n      <td>e53781ff</td>\n      <td>A</td>\n      <td>No</td>\n    </tr>\n    <tr>\n      <th>4</th>\n      <td>02d48cf1</td>\n      <td>A</td>\n      <td>Yes</td>\n    </tr>\n  </tbody>\n</table>\n</div>"
     },
     "metadata": {},
     "execution_count": 2
    }
   ],
   "source": [
    "abdata = pd.read_csv('clicks.csv')\n",
    "abdata.head()"
   ]
  },
  {
   "source": [
    "We are going to test the association between the variables `group` and `is_purchase`."
   ],
   "cell_type": "markdown",
   "metadata": {}
  },
  {
   "cell_type": "code",
   "execution_count": 3,
   "metadata": {},
   "outputs": [],
   "source": [
    "# create a contingency table\n",
    "Xtab = pd.crosstab(abdata.group, abdata.is_purchase)"
   ]
  },
  {
   "cell_type": "code",
   "execution_count": 4,
   "metadata": {},
   "outputs": [],
   "source": [
    "# run a chi2 test\n",
    "from scipy.stats import chi2_contingency"
   ]
  },
  {
   "cell_type": "code",
   "execution_count": 5,
   "metadata": {},
   "outputs": [
    {
     "output_type": "execute_result",
     "data": {
      "text/plain": [
       "2.4126213546684264e-35"
      ]
     },
     "metadata": {},
     "execution_count": 5
    }
   ],
   "source": [
    "chi2, pval, dof, expected = chi2_contingency(Xtab)\n",
    "pval"
   ]
  },
  {
   "source": [
    "pval is lower than 0.05. \n",
    "\n",
    "We conclude that there is an association between `group` and `is_purchase`."
   ],
   "cell_type": "markdown",
   "metadata": {}
  },
  {
   "cell_type": "code",
   "execution_count": 6,
   "metadata": {},
   "outputs": [
    {
     "output_type": "execute_result",
     "data": {
      "text/plain": [
       "4998"
      ]
     },
     "metadata": {},
     "execution_count": 6
    }
   ],
   "source": [
    "# calculate the number of visitors in a tipical week\n",
    "num_visits = len(abdata)\n",
    "num_visits"
   ]
  },
  {
   "source": [
    "If the revenue target is 1000 dollars, how many visitors we need, considering a tipical purchase of 0.99?"
   ],
   "cell_type": "markdown",
   "metadata": {}
  },
  {
   "cell_type": "code",
   "execution_count": 7,
   "metadata": {},
   "outputs": [
    {
     "output_type": "execute_result",
     "data": {
      "text/plain": [
       "1011"
      ]
     },
     "metadata": {},
     "execution_count": 7
    }
   ],
   "source": [
    "week_target = 1000\n",
    "num_sales_needed_099 = math.ceil(week_target/0.99)\n",
    "num_sales_needed_099"
   ]
  },
  {
   "source": [
    "Calculate proportion of visitor that must purchase"
   ],
   "cell_type": "markdown",
   "metadata": {}
  },
  {
   "cell_type": "code",
   "execution_count": 8,
   "metadata": {},
   "outputs": [
    {
     "output_type": "execute_result",
     "data": {
      "text/plain": [
       "0.20228091236494597"
      ]
     },
     "metadata": {},
     "execution_count": 8
    }
   ],
   "source": [
    "p_sales_needed_099 = num_sales_needed_099 / num_visits\n",
    "p_sales_needed_099"
   ]
  },
  {
   "source": [
    "Same for typical purchase of 1.99 and 4.99"
   ],
   "cell_type": "markdown",
   "metadata": {}
  },
  {
   "cell_type": "code",
   "execution_count": 9,
   "metadata": {},
   "outputs": [
    {
     "output_type": "stream",
     "name": "stdout",
     "text": [
      "0.10064025610244097\n0.040216086434573826\n"
     ]
    }
   ],
   "source": [
    "num_sales_needed_199 = math.ceil(week_target/1.99)\n",
    "p_sales_needed_199 = num_sales_needed_199 / num_visits\n",
    "\n",
    "num_sales_needed_499 = math.ceil(week_target/4.99)\n",
    "p_sales_needed_499 = num_sales_needed_499 / num_visits\n",
    "print(p_sales_needed_199)\n",
    "print(p_sales_needed_499)"
   ]
  },
  {
   "source": [
    "# number of visitors from group A\n",
    "samp_size_099 = (len(abdata[abdata.group=='A']))\n",
    "# number of purchases from group A\n",
    "sales_099 = len(abdata[(abdata.is_purchase == 'Yes') & (abdata.group == 'A')])\n",
    "print(samp_size_099, sales_099)"
   ],
   "cell_type": "code",
   "metadata": {},
   "execution_count": 10,
   "outputs": [
    {
     "output_type": "stream",
     "name": "stdout",
     "text": [
      "1666 316\n"
     ]
    }
   ]
  },
  {
   "cell_type": "code",
   "execution_count": 11,
   "metadata": {},
   "outputs": [
    {
     "output_type": "stream",
     "name": "stdout",
     "text": [
      "1666 183\n"
     ]
    }
   ],
   "source": [
    "# number of visitors from group B\n",
    "samp_size_199 = (len(abdata[abdata.group=='B']))\n",
    "# number of purchases from group B\n",
    "sales_199 =º len(abdata[(abdata.is_purchase == 'Yes') & (abdata.group == 'B')])\n",
    "print(samp_size_199, sales_199)"
   ]
  },
  {
   "cell_type": "code",
   "execution_count": 22,
   "metadata": {},
   "outputs": [
    {
     "output_type": "stream",
     "name": "stdout",
     "text": [
      "1666 83\n"
     ]
    }
   ],
   "source": [
    "# number of visitors from group C\n",
    "samp_size_499 = (len(abdata[abdata.group=='C']))\n",
    "# number of purchases from group C\n",
    "sales_499 = len(abdata[(abdata.is_purchase == 'Yes') & (abdata.group == 'C')])\n",
    "print(samp_size_499, sales_499)"
   ]
  },
  {
   "source": [
    "For Group A ($0.99 price point), perform a binomial test using binom_test() to see if the observed purchase rate is significantly greater than p_sales_needed_099. \n",
    "\n",
    "Remember that there are four inputs to binom_test():\n",
    "\n",
    "* x will be the number of purchases for Group A\n",
    "* n will be the total number of visitors assigned group A\n",
    "* p will be the target percent of purchases for the $0.99 price point\n",
    "* alternative will indicate the alternative hypothesis for this test; in this case, we want to know if the observed purchase rate is significantly 'greater' than the purchase rate that results in the minimum revenue target."
   ],
   "cell_type": "markdown",
   "metadata": {}
  },
  {
   "cell_type": "code",
   "execution_count": 13,
   "metadata": {},
   "outputs": [
    {
     "output_type": "stream",
     "name": "stdout",
     "text": [
      "0\n0.9058887362654826\n"
     ]
    }
   ],
   "source": [
    "from scipy.stats import binom_test"
   ]
  },
  {
   "cell_type": "code",
   "execution_count": 18,
   "metadata": {},
   "outputs": [
    {
     "output_type": "stream",
     "name": "stdout",
     "text": [
      "0.9058887362654826\n"
     ]
    }
   ],
   "source": [
    "pvalA = binom_test(x=sales_099, n=samp_size_099, p=p_sales_needed_099, alternative='greater')\n",
    "print(pvalA)"
   ]
  },
  {
   "source": [
    "The null hypothesis is accepted: the purchase rate is not different than the minimum revenue target."
   ],
   "cell_type": "markdown",
   "metadata": {}
  },
  {
   "source": [
    "Same for group B"
   ],
   "cell_type": "markdown",
   "metadata": {}
  },
  {
   "cell_type": "code",
   "execution_count": 20,
   "metadata": {},
   "outputs": [
    {
     "output_type": "stream",
     "name": "stdout",
     "text": [
      "0.11441815431121337\n"
     ]
    }
   ],
   "source": [
    "pvalB = binom_test(x=sales_199, n=samp_size_199, p=p_sales_needed_199, alternative='greater')\n",
    "print(pvalB)"
   ]
  },
  {
   "source": [
    "The null hypothesis is accepted: the purchase rate is not different than the minimum revenue target."
   ],
   "cell_type": "markdown",
   "metadata": {}
  },
  {
   "source": [
    "Same for group C"
   ],
   "cell_type": "markdown",
   "metadata": {}
  },
  {
   "cell_type": "code",
   "execution_count": 23,
   "metadata": {},
   "outputs": [
    {
     "output_type": "execute_result",
     "data": {
      "text/plain": [
       "2.4126213546684264e-35"
      ]
     },
     "metadata": {},
     "execution_count": 23
    }
   ],
   "source": [
    "pvalC = binom_test(x=sales_499, n=samp_size_499, p=p_sales_needed_499, alternative='greater')\n",
    "pval"
   ]
  },
  {
   "source": [
    "The null hypothesis is rejected: the purchase rate is significant greater than the minimum revenue target."
   ],
   "cell_type": "markdown",
   "metadata": {}
  }
 ]
}