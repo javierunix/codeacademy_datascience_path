{
 "cells": [
  {
   "cell_type": "markdown",
   "metadata": {},
   "source": [
    "# Introduction \n",
    "\n",
    "In this notebook we are going to study if there is a correlation between the ouput of a country and the life expectancy of its inhabitants. However this is not the only aim of our work, because in parallel we are going to explain some computational and statical aspects.\n",
    "\n",
    "These are some of the steps that we will follow:\n",
    "+ Prepare the data.\n",
    "+ Apply statistics to our data.\n",
    "+ Represent with plots some aspects of our data.\n",
    "\n",
    "**Data sources** \n",
    "\n",
    "- GDP Source: [World Bank](https://data.worldbank.org/indicator/NY.GDP.MKTP.CD) national accounts data, and OECD National Accounts data files.\n",
    "\n",
    "- Life expectancy Data Source: [World Health Organization](http://apps.who.int/gho/data/node.main.688)"
   ]
  },
  {
   "cell_type": "markdown",
   "metadata": {},
   "source": [
    "## Import libraries\n",
    "\n",
    "In this work we need the following aditional python modules:\n",
    " \n",
    "- **NumPy**. Fundamental package for scientific computing in Python. It is a Python library that provides a multidimensional array object, various derived objects (such as masked arrays and matrices), and an assortment of routines for fast operations on arrays. ([link](https://numpy.org/doc/stable/user/whatisnumpy.html))\n",
    "- **Pandas**. Fundamental for doing practical, real world data analysis in Python. A very powerful and flexible open source data analysis / manipulation tool. ([link](https://pandas.pydata.org/about/))\n",
    "- **Matplotlib**. Matplotlib is a comprehensive library for creating static, animated, and interactive visualizations in Python. ([link](https://matplotlib.org))\n",
    "- **Seaborn**.  Python data visualization library based on matplotlib, that provides a high-level interface for drawing attractive and informative statistical graphics. ([link](https://seaborn.pydata.org))"
   ]
  },
  {
   "cell_type": "code",
   "execution_count": 44,
   "metadata": {},
   "outputs": [],
   "source": [
    "import numpy as np\n",
    "import pandas as pd\n",
    "import matplotlib.pyplot as plt\n",
    "import seaborn as sns"
   ]
  },
  {
   "cell_type": "markdown",
   "metadata": {},
   "source": [
    "## Loading and inspecting and preparing the data\n",
    "The data provided in the file `all_data.csv` will be read and save in an pandas dataframe called `df`. It is also a good idea to inspect the loaded data with the function `head()` that by default show the first five rows of the dataframe."
   ]
  },
  {
   "cell_type": "code",
   "execution_count": 45,
   "metadata": {},
   "outputs": [
    {
     "data": {
      "text/html": [
       "<div>\n",
       "<style scoped>\n",
       "    .dataframe tbody tr th:only-of-type {\n",
       "        vertical-align: middle;\n",
       "    }\n",
       "\n",
       "    .dataframe tbody tr th {\n",
       "        vertical-align: top;\n",
       "    }\n",
       "\n",
       "    .dataframe thead th {\n",
       "        text-align: right;\n",
       "    }\n",
       "</style>\n",
       "<table border=\"1\" class=\"dataframe\">\n",
       "  <thead>\n",
       "    <tr style=\"text-align: right;\">\n",
       "      <th></th>\n",
       "      <th>Country</th>\n",
       "      <th>Year</th>\n",
       "      <th>Life expectancy at birth (years)</th>\n",
       "      <th>GDP</th>\n",
       "    </tr>\n",
       "  </thead>\n",
       "  <tbody>\n",
       "    <tr>\n",
       "      <th>0</th>\n",
       "      <td>Chile</td>\n",
       "      <td>2000</td>\n",
       "      <td>77.3</td>\n",
       "      <td>7.786093e+10</td>\n",
       "    </tr>\n",
       "    <tr>\n",
       "      <th>1</th>\n",
       "      <td>Chile</td>\n",
       "      <td>2001</td>\n",
       "      <td>77.3</td>\n",
       "      <td>7.097992e+10</td>\n",
       "    </tr>\n",
       "    <tr>\n",
       "      <th>2</th>\n",
       "      <td>Chile</td>\n",
       "      <td>2002</td>\n",
       "      <td>77.8</td>\n",
       "      <td>6.973681e+10</td>\n",
       "    </tr>\n",
       "    <tr>\n",
       "      <th>3</th>\n",
       "      <td>Chile</td>\n",
       "      <td>2003</td>\n",
       "      <td>77.9</td>\n",
       "      <td>7.564346e+10</td>\n",
       "    </tr>\n",
       "    <tr>\n",
       "      <th>4</th>\n",
       "      <td>Chile</td>\n",
       "      <td>2004</td>\n",
       "      <td>78.0</td>\n",
       "      <td>9.921039e+10</td>\n",
       "    </tr>\n",
       "  </tbody>\n",
       "</table>\n",
       "</div>"
      ],
      "text/plain": [
       "  Country  Year  Life expectancy at birth (years)           GDP\n",
       "0   Chile  2000                              77.3  7.786093e+10\n",
       "1   Chile  2001                              77.3  7.097992e+10\n",
       "2   Chile  2002                              77.8  6.973681e+10\n",
       "3   Chile  2003                              77.9  7.564346e+10\n",
       "4   Chile  2004                              78.0  9.921039e+10"
      ]
     },
     "execution_count": 45,
     "metadata": {},
     "output_type": "execute_result"
    }
   ],
   "source": [
    "df = pd.read_csv('all_data.csv') # load the data into pandas dataframe\n",
    "df.head() # inspect the data"
   ]
  },
  {
   "cell_type": "markdown",
   "metadata": {},
   "source": [
    "Also is convenient to check the shape (dimensions) of `df` by using the function `shape`. The output shows that `df` has 96 rows and 4 columns. "
   ]
  },
  {
   "cell_type": "code",
   "execution_count": 46,
   "metadata": {},
   "outputs": [
    {
     "data": {
      "text/plain": [
       "(96, 4)"
      ]
     },
     "execution_count": 46,
     "metadata": {},
     "output_type": "execute_result"
    }
   ],
   "source": [
    "df.shape"
   ]
  },
  {
   "cell_type": "markdown",
   "metadata": {},
   "source": [
    "We can use the function `dtypes` to check the data types of `df`."
   ]
  },
  {
   "cell_type": "code",
   "execution_count": 39,
   "metadata": {},
   "outputs": [
    {
     "data": {
      "text/plain": [
       "Country                              object\n",
       "Year                                  int64\n",
       "Life expectancy at birth (years)    float64\n",
       "GDP                                 float64\n",
       "dtype: object"
      ]
     },
     "execution_count": 39,
     "metadata": {},
     "output_type": "execute_result"
    }
   ],
   "source": [
    "df.dtypes"
   ]
  },
  {
   "cell_type": "markdown",
   "metadata": {},
   "source": [
    "+ `Country` contains `object` data, that correspondes to text or mixed (text and numbers) python data types.\n",
    "+ `Life expectancy at birth (years)` and ` GDP` contains floating point numbers.\n",
    "+ `Year` data is and integer python number."
   ]
  },
  {
   "cell_type": "markdown",
   "metadata": {},
   "source": [
    "Blank spaces in column names can cause problems when handling data. Also is a good idea to code all column names in lowercase for consistence. "
   ]
  },
  {
   "cell_type": "code",
   "execution_count": 48,
   "metadata": {},
   "outputs": [],
   "source": [
    "df = df.rename(columns={\"Life expectancy at birth (years)\": 'leaby'})\n",
    "df = df.rename(columns=str.lower) # change all column name to lowercase for consistency"
   ]
  },
  {
   "cell_type": "code",
   "execution_count": 50,
   "metadata": {},
   "outputs": [
    {
     "data": {
      "text/html": [
       "<div>\n",
       "<style scoped>\n",
       "    .dataframe tbody tr th:only-of-type {\n",
       "        vertical-align: middle;\n",
       "    }\n",
       "\n",
       "    .dataframe tbody tr th {\n",
       "        vertical-align: top;\n",
       "    }\n",
       "\n",
       "    .dataframe thead th {\n",
       "        text-align: right;\n",
       "    }\n",
       "</style>\n",
       "<table border=\"1\" class=\"dataframe\">\n",
       "  <thead>\n",
       "    <tr style=\"text-align: right;\">\n",
       "      <th></th>\n",
       "      <th>country</th>\n",
       "      <th>year</th>\n",
       "      <th>leaby</th>\n",
       "      <th>gdp</th>\n",
       "    </tr>\n",
       "  </thead>\n",
       "  <tbody>\n",
       "    <tr>\n",
       "      <th>0</th>\n",
       "      <td>Chile</td>\n",
       "      <td>2000</td>\n",
       "      <td>77.3</td>\n",
       "      <td>7.786093e+10</td>\n",
       "    </tr>\n",
       "    <tr>\n",
       "      <th>1</th>\n",
       "      <td>Chile</td>\n",
       "      <td>2001</td>\n",
       "      <td>77.3</td>\n",
       "      <td>7.097992e+10</td>\n",
       "    </tr>\n",
       "    <tr>\n",
       "      <th>2</th>\n",
       "      <td>Chile</td>\n",
       "      <td>2002</td>\n",
       "      <td>77.8</td>\n",
       "      <td>6.973681e+10</td>\n",
       "    </tr>\n",
       "    <tr>\n",
       "      <th>3</th>\n",
       "      <td>Chile</td>\n",
       "      <td>2003</td>\n",
       "      <td>77.9</td>\n",
       "      <td>7.564346e+10</td>\n",
       "    </tr>\n",
       "    <tr>\n",
       "      <th>4</th>\n",
       "      <td>Chile</td>\n",
       "      <td>2004</td>\n",
       "      <td>78.0</td>\n",
       "      <td>9.921039e+10</td>\n",
       "    </tr>\n",
       "  </tbody>\n",
       "</table>\n",
       "</div>"
      ],
      "text/plain": [
       "  country  year  leaby           gdp\n",
       "0   Chile  2000   77.3  7.786093e+10\n",
       "1   Chile  2001   77.3  7.097992e+10\n",
       "2   Chile  2002   77.8  6.973681e+10\n",
       "3   Chile  2003   77.9  7.564346e+10\n",
       "4   Chile  2004   78.0  9.921039e+10"
      ]
     },
     "execution_count": 50,
     "metadata": {},
     "output_type": "execute_result"
    }
   ],
   "source": [
    "df.head()"
   ]
  },
  {
   "cell_type": "markdown",
   "metadata": {},
   "source": [
    "## Exploring the data"
   ]
  },
  {
   "cell_type": "markdown",
   "metadata": {},
   "source": [
    "We need to find out the countries and years included in the data."
   ]
  },
  {
   "cell_type": "code",
   "execution_count": 53,
   "metadata": {},
   "outputs": [
    {
     "name": "stdout",
     "output_type": "stream",
     "text": [
      "['Chile' 'China' 'Germany' 'Mexico' 'United States of America' 'Zimbabwe']\n"
     ]
    }
   ],
   "source": [
    "# find out how many countries are considered in this dataset\n",
    "print(df.country.unique())"
   ]
  },
  {
   "cell_type": "markdown",
   "metadata": {},
   "source": [
    "The years included are 2000-2015."
   ]
  },
  {
   "cell_type": "code",
   "execution_count": 55,
   "metadata": {},
   "outputs": [
    {
     "name": "stdout",
     "output_type": "stream",
     "text": [
      "[2000 2001 2002 2003 2004 2005 2006 2007 2008 2009 2010 2011 2012 2013\n",
      " 2014 2015]\n"
     ]
    }
   ],
   "source": [
    "# find out years considered \n",
    "print(df.year.unique())"
   ]
  },
  {
   "cell_type": "markdown",
   "metadata": {},
   "source": [
    "### Exploratory plots"
   ]
  },
  {
   "cell_type": "markdown",
   "metadata": {},
   "source": [
    "How are distributed the variables `gdp` and `leaby`? "
   ]
  },
  {
   "cell_type": "code",
   "execution_count": 77,
   "metadata": {},
   "outputs": [
    {
     "data": {
      "text/plain": [
       "<Figure size 576x432 with 0 Axes>"
      ]
     },
     "metadata": {},
     "output_type": "display_data"
    },
    {
     "data": {
      "image/png": "[encoded data removed]",
      "text/plain": [
       "<Figure size 360x360 with 1 Axes>"
      ]
     },
     "metadata": {
      "needs_background": "light"
     },
     "output_type": "display_data"
    }
   ],
   "source": [
    "plt.figure(figsize=(8, 6))\n",
    "sns.displot(df.gdp)\n",
    "plt.xlabel('GDP (ten trillions of US Dollars)')\n",
    "plt.show()"
   ]
  },
  {
   "cell_type": "markdown",
   "metadata": {},
   "source": [
    "The distribution of `gdp` is very right skewed, with most of the data lying in the left side of the graph. These distribition is very similar to a **power law** that states that a relative change in a variable results in a proportional change in the other, having the form $Y= k X^a$. \n",
    "\n",
    "The power law can be used to describe a phenomenon where a small number of items is clustered at the top of a distribution (or at the bottom). [link](https://www.statisticshowto.com/power-law/)"
   ]
  },
  {
   "cell_type": "code",
   "execution_count": 80,
   "metadata": {},
   "outputs": [
    {
     "data": {
      "text/plain": [
       "<Figure size 576x432 with 0 Axes>"
      ]
     },
     "metadata": {},
     "output_type": "display_data"
    },
    {
     "data": {
      "image/png": "[encoded data removed]",
      "text/plain": [
       "<Figure size 360x360 with 1 Axes>"
      ]
     },
     "metadata": {
      "needs_background": "light"
     },
     "output_type": "display_data"
    }
   ],
   "source": [
    "plt.figure(figsize=(8, 6))\n",
    "sns.displot(df.leaby)\n",
    "plt.xlabel('Life Expectancy at Birth (years)')\n",
    "plt.show()"
   ]
  },
  {
   "cell_type": "markdown",
   "metadata": {},
   "source": [
    "The distribution of `leaby` is very left skewed, with most of the data lying in the right side of the graph. This distribution is almost the exact opposite of the `gdp`."
   ]
  },
  {
   "cell_type": "markdown",
   "metadata": {},
   "source": [
    "### Life expectancy and GDP in different countries"
   ]
  },
  {
   "cell_type": "markdown",
   "metadata": {},
   "source": [
    "We can store the average life expectancy of different countries in a new dataframe. "
   ]
  },
  {
   "cell_type": "code",
   "execution_count": 109,
   "metadata": {},
   "outputs": [
    {
     "data": {
      "text/html": [
       "<div>\n",
       "<style scoped>\n",
       "    .dataframe tbody tr th:only-of-type {\n",
       "        vertical-align: middle;\n",
       "    }\n",
       "\n",
       "    .dataframe tbody tr th {\n",
       "        vertical-align: top;\n",
       "    }\n",
       "\n",
       "    .dataframe thead th {\n",
       "        text-align: right;\n",
       "    }\n",
       "</style>\n",
       "<table border=\"1\" class=\"dataframe\">\n",
       "  <thead>\n",
       "    <tr style=\"text-align: right;\">\n",
       "      <th></th>\n",
       "      <th>country</th>\n",
       "      <th>leaby</th>\n",
       "      <th>gdp</th>\n",
       "    </tr>\n",
       "  </thead>\n",
       "  <tbody>\n",
       "    <tr>\n",
       "      <th>0</th>\n",
       "      <td>Chile</td>\n",
       "      <td>78.94375</td>\n",
       "      <td>1.697888e+11</td>\n",
       "    </tr>\n",
       "    <tr>\n",
       "      <th>1</th>\n",
       "      <td>China</td>\n",
       "      <td>74.26250</td>\n",
       "      <td>4.957714e+12</td>\n",
       "    </tr>\n",
       "    <tr>\n",
       "      <th>2</th>\n",
       "      <td>Germany</td>\n",
       "      <td>79.65625</td>\n",
       "      <td>3.094776e+12</td>\n",
       "    </tr>\n",
       "    <tr>\n",
       "      <th>3</th>\n",
       "      <td>Mexico</td>\n",
       "      <td>75.71875</td>\n",
       "      <td>9.766506e+11</td>\n",
       "    </tr>\n",
       "    <tr>\n",
       "      <th>4</th>\n",
       "      <td>United States of America</td>\n",
       "      <td>78.06250</td>\n",
       "      <td>1.407500e+13</td>\n",
       "    </tr>\n",
       "    <tr>\n",
       "      <th>5</th>\n",
       "      <td>Zimbabwe</td>\n",
       "      <td>50.09375</td>\n",
       "      <td>9.062580e+09</td>\n",
       "    </tr>\n",
       "  </tbody>\n",
       "</table>\n",
       "</div>"
      ],
      "text/plain": [
       "                    country     leaby           gdp\n",
       "0                     Chile  78.94375  1.697888e+11\n",
       "1                     China  74.26250  4.957714e+12\n",
       "2                   Germany  79.65625  3.094776e+12\n",
       "3                    Mexico  75.71875  9.766506e+11\n",
       "4  United States of America  78.06250  1.407500e+13\n",
       "5                  Zimbabwe  50.09375  9.062580e+09"
      ]
     },
     "execution_count": 109,
     "metadata": {},
     "output_type": "execute_result"
    }
   ],
   "source": [
    "mean_country_df = df.groupby('country')[['leaby', 'gdp']].mean().reset_index()\n",
    "mean_country_df"
   ]
  },
  {
   "cell_type": "markdown",
   "metadata": {},
   "source": [
    "According to their life expectancy we can classify the countries in three groups:\n",
    "\n",
    "1. Germany, Chile and the United States of America, with a life expectancy higher than 78 years.\n",
    "2. Mexico and Chile, with a life expectancy about 75 years.\n",
    "3. Zimbawe, with a life expectancy of 50 years."
   ]
  },
  {
   "cell_type": "markdown",
   "metadata": {},
   "source": [
    "We can represent graphically these data. "
   ]
  },
  {
   "cell_type": "code",
   "execution_count": 117,
   "metadata": {},
   "outputs": [
    {
     "data": {
      "image/png": "[encoded data removed]",
      "text/plain": [
       "<Figure size 576x432 with 1 Axes>"
      ]
     },
     "metadata": {
      "needs_background": "light"
     },
     "output_type": "display_data"
    }
   ],
   "source": [
    "plt.figure(figsize=(8, 6))\n",
    "sns.barplot(data=mean_country_df, x='leaby', y='country')\n",
    "plt.title('Average Life Expectancy (2000-2015)')\n",
    "plt.ylabel('Country')\n",
    "plt.xlabel('Life Expectancy')\n",
    "plt.show()"
   ]
  },
  {
   "cell_type": "markdown",
   "metadata": {},
   "source": [
    "GDP data are much harder to interpret numerically, and for this reason a good visualization in specially important. \n",
    "\n",
    "In this case the difference between countries is very noticeable (more than 3 orders of magnitude between the lower and the higher value). "
   ]
  },
  {
   "cell_type": "code",
   "execution_count": 149,
   "metadata": {},
   "outputs": [
    {
     "data": {
      "image/png": "[encoded data removed]",
      "text/plain": [
       "<Figure size 576x432 with 1 Axes>"
      ]
     },
     "metadata": {
      "needs_background": "light"
     },
     "output_type": "display_data"
    }
   ],
   "source": [
    "plt.figure(figsize=(8, 6))\n",
    "sns.barplot(data=mean_country_df, x='gdp', y='country')\n",
    "plt.title('GDP (2000-2015)')\n",
    "plt.ylabel('Country')\n",
    "plt.xlabel('GDP (x10 trillions US Dollars)')\n",
    "plt.show()"
   ]
  },
  {
   "cell_type": "markdown",
   "metadata": {},
   "source": [
    "### Global Life Expectancy and GDP through Years\n",
    "\n",
    "If we want to examine the evolution of these variables, we can perform a similar operation, grouping by `year`, instead of by `country`. "
   ]
  },
  {
   "cell_type": "code",
   "execution_count": 150,
   "metadata": {},
   "outputs": [
    {
     "data": {
      "text/html": [
       "<div>\n",
       "<style scoped>\n",
       "    .dataframe tbody tr th:only-of-type {\n",
       "        vertical-align: middle;\n",
       "    }\n",
       "\n",
       "    .dataframe tbody tr th {\n",
       "        vertical-align: top;\n",
       "    }\n",
       "\n",
       "    .dataframe thead th {\n",
       "        text-align: right;\n",
       "    }\n",
       "</style>\n",
       "<table border=\"1\" class=\"dataframe\">\n",
       "  <thead>\n",
       "    <tr style=\"text-align: right;\">\n",
       "      <th></th>\n",
       "      <th>year</th>\n",
       "      <th>leaby</th>\n",
       "      <th>gdp</th>\n",
       "    </tr>\n",
       "  </thead>\n",
       "  <tbody>\n",
       "    <tr>\n",
       "      <th>0</th>\n",
       "      <td>2000</td>\n",
       "      <td>70.766667</td>\n",
       "      <td>2.371583e+12</td>\n",
       "    </tr>\n",
       "    <tr>\n",
       "      <th>1</th>\n",
       "      <td>2001</td>\n",
       "      <td>70.833333</td>\n",
       "      <td>2.448752e+12</td>\n",
       "    </tr>\n",
       "    <tr>\n",
       "      <th>2</th>\n",
       "      <td>2002</td>\n",
       "      <td>70.950000</td>\n",
       "      <td>2.561221e+12</td>\n",
       "    </tr>\n",
       "    <tr>\n",
       "      <th>3</th>\n",
       "      <td>2003</td>\n",
       "      <td>71.033333</td>\n",
       "      <td>2.743446e+12</td>\n",
       "    </tr>\n",
       "    <tr>\n",
       "      <th>4</th>\n",
       "      <td>2004</td>\n",
       "      <td>71.300000</td>\n",
       "      <td>2.991647e+12</td>\n",
       "    </tr>\n",
       "    <tr>\n",
       "      <th>5</th>\n",
       "      <td>2005</td>\n",
       "      <td>71.483333</td>\n",
       "      <td>3.207074e+12</td>\n",
       "    </tr>\n",
       "    <tr>\n",
       "      <th>6</th>\n",
       "      <td>2006</td>\n",
       "      <td>71.950000</td>\n",
       "      <td>3.463349e+12</td>\n",
       "    </tr>\n",
       "    <tr>\n",
       "      <th>7</th>\n",
       "      <td>2007</td>\n",
       "      <td>72.300000</td>\n",
       "      <td>3.785750e+12</td>\n",
       "    </tr>\n",
       "    <tr>\n",
       "      <th>8</th>\n",
       "      <td>2008</td>\n",
       "      <td>72.666667</td>\n",
       "      <td>4.055986e+12</td>\n",
       "    </tr>\n",
       "    <tr>\n",
       "      <th>9</th>\n",
       "      <td>2009</td>\n",
       "      <td>73.066667</td>\n",
       "      <td>4.000653e+12</td>\n",
       "    </tr>\n",
       "    <tr>\n",
       "      <th>10</th>\n",
       "      <td>2010</td>\n",
       "      <td>73.483333</td>\n",
       "      <td>4.299587e+12</td>\n",
       "    </tr>\n",
       "    <tr>\n",
       "      <th>11</th>\n",
       "      <td>2011</td>\n",
       "      <td>74.200000</td>\n",
       "      <td>4.710965e+12</td>\n",
       "    </tr>\n",
       "    <tr>\n",
       "      <th>12</th>\n",
       "      <td>2012</td>\n",
       "      <td>74.600000</td>\n",
       "      <td>4.962082e+12</td>\n",
       "    </tr>\n",
       "    <tr>\n",
       "      <th>13</th>\n",
       "      <td>2013</td>\n",
       "      <td>74.966667</td>\n",
       "      <td>5.269258e+12</td>\n",
       "    </tr>\n",
       "    <tr>\n",
       "      <th>14</th>\n",
       "      <td>2014</td>\n",
       "      <td>75.316667</td>\n",
       "      <td>5.558059e+12</td>\n",
       "    </tr>\n",
       "    <tr>\n",
       "      <th>15</th>\n",
       "      <td>2015</td>\n",
       "      <td>75.716667</td>\n",
       "      <td>5.658565e+12</td>\n",
       "    </tr>\n",
       "  </tbody>\n",
       "</table>\n",
       "</div>"
      ],
      "text/plain": [
       "    year      leaby           gdp\n",
       "0   2000  70.766667  2.371583e+12\n",
       "1   2001  70.833333  2.448752e+12\n",
       "2   2002  70.950000  2.561221e+12\n",
       "3   2003  71.033333  2.743446e+12\n",
       "4   2004  71.300000  2.991647e+12\n",
       "5   2005  71.483333  3.207074e+12\n",
       "6   2006  71.950000  3.463349e+12\n",
       "7   2007  72.300000  3.785750e+12\n",
       "8   2008  72.666667  4.055986e+12\n",
       "9   2009  73.066667  4.000653e+12\n",
       "10  2010  73.483333  4.299587e+12\n",
       "11  2011  74.200000  4.710965e+12\n",
       "12  2012  74.600000  4.962082e+12\n",
       "13  2013  74.966667  5.269258e+12\n",
       "14  2014  75.316667  5.558059e+12\n",
       "15  2015  75.716667  5.658565e+12"
      ]
     },
     "execution_count": 150,
     "metadata": {},
     "output_type": "execute_result"
    }
   ],
   "source": [
    "mean_year_df = df.groupby('year')[['leaby', 'gdp']].mean().reset_index()\n",
    "mean_year_df"
   ]
  },
  {
   "cell_type": "markdown",
   "metadata": {},
   "source": [
    "It is shown a constant increase in the global life expectancy from 71.77 years in 2000 to 75.71 in 2015."
   ]
  },
  {
   "cell_type": "code",
   "execution_count": 172,
   "metadata": {},
   "outputs": [
    {
     "data": {
      "image/png": "[encoded data removed]",
      "text/plain": [
       "<Figure size 576x432 with 1 Axes>"
      ]
     },
     "metadata": {
      "needs_background": "light"
     },
     "output_type": "display_data"
    }
   ],
   "source": [
    "plt.figure(figsize=(8, 6))\n",
    "sns.barplot(data=mean_year_df, x='year', y='leaby', color='salmon')\n",
    "plt.ylim(60, 80) # set the range of the y values for better visualization\n",
    "\n",
    "plt.title('Life Expectancy at Birth (2000-2015)')\n",
    "plt.ylabel('Life Expectancy at Birth')\n",
    "plt.xlabel('Year')\n",
    "\n",
    "plt.show()"
   ]
  },
  {
   "cell_type": "markdown",
   "metadata": {},
   "source": [
    "On the other hand we can obseve and increase on the GDP in this time series, with the noticeable exception of the transiton 2008-2009, year of the Great Recession. [link](https://en.wikipedia.org/wiki/Great_Recession)"
   ]
  },
  {
   "cell_type": "code",
   "execution_count": 171,
   "metadata": {},
   "outputs": [
    {
     "data": {
      "image/png": "[encoded data removed]",
      "text/plain": [
       "<Figure size 576x432 with 1 Axes>"
      ]
     },
     "metadata": {
      "needs_background": "light"
     },
     "output_type": "display_data"
    }
   ],
   "source": [
    "plt.figure(figsize=(8, 6))\n",
    "sns.barplot(data=mean_year_df, x='year', y='gdp', color='blue')\n",
    "plt.title('GDP (2000-2015)')\n",
    "plt.ylabel('GDP')\n",
    "plt.xlabel('Year')\n",
    "\n",
    "\n",
    "plt.show()"
   ]
  },
  {
   "cell_type": "markdown",
   "metadata": {},
   "source": [
    "## Change in Life Expectancy and GDP through Years in Different Countries "
   ]
  },
  {
   "cell_type": "markdown",
   "metadata": {},
   "source": [
    "Until this moment we have considered a global perspective, both spacial (grouping the data of all the countries) or temporal (grouping the data of all years). However, it is very interesting investigate how these variables have changed through the time in every country. For this task boxplots are very convinient.\n",
    "\n",
    "Boxplots are a method for graphically depicting a numerical data through their quartiles. \n",
    "\n",
    "In addition `stripplot` draw a scatterplot where one of the variables is categorical, being a good complement to a box plot. "
   ]
  },
  {
   "cell_type": "code",
   "execution_count": 195,
   "metadata": {},
   "outputs": [
    {
     "data": {
      "image/png": "[encoded data removed]",
      "text/plain": [
       "<Figure size 1080x360 with 2 Axes>"
      ]
     },
     "metadata": {
      "needs_background": "light"
     },
     "output_type": "display_data"
    }
   ],
   "source": [
    "fig, ax = plt.subplots(1, 2, sharey=True, figsize=(15, 5))\n",
    "ax[0] = sns.boxplot(ax=ax[0], y=df.country, x=df.leaby, color='#ECE6E5')\n",
    "ax[0] = sns.stripplot(ax=ax[0], y=df.country, x=df.leaby)\n",
    "ax[0].set_xlabel('Life Expectancy (years)')\n",
    "\n",
    "ax[1] = sns.boxplot(ax=ax[1], y=df.country, x=df.gdp, color='#ECE6E5')\n",
    "ax[1] = sns.stripplot(ax=ax[1], y=df.country, x=df.gdp)\n",
    "ax[1].set_xlabel('GDP (x10 trillions US Dollars)')\n",
    "\n",
    "\n",
    "plt.show()"
   ]
  },
  {
   "cell_type": "code",
   "execution_count": 169,
   "metadata": {},
   "outputs": [
    {
     "data": {
      "image/png": "[encoded data removed]",
      "text/plain": [
       "<Figure size 576x432 with 1 Axes>"
      ]
     },
     "metadata": {
      "needs_background": "light"
     },
     "output_type": "display_data"
    }
   ],
   "source": [
    "plt.figure(figsize=(8, 6))\n",
    "\n",
    "for i in list(df.country.unique()):\n",
    "    new_df = df[df['country'] == i]\n",
    "    plt.plot(new_df.year, new_df.leaby)\n",
    "\n",
    "plt.title('Life Expectancy in Different Countries')\n",
    "plt.xlabel('Year')\n",
    "plt.ylabel('Life Expectancy')\n",
    "plt.legend(df.country.unique(), loc='lower right')\n",
    "\n",
    "plt.show()"
   ]
  },
  {
   "cell_type": "code",
   "execution_count": null,
   "metadata": {},
   "outputs": [],
   "source": []
  }
 ],
 "metadata": {
  "kernelspec": {
   "display_name": "Python 3.8.8 64-bit ('datascience': conda)",
   "language": "python",
   "name": "python388jvsc74a57bd0aaa8cd9d8dee3a32c846f4040502c711d1cd9d513882153f94a5792d3c9f0af8"
  },
  "language_info": {
   "codemirror_mode": {
    "name": "ipython",
    "version": 3
   },
   "file_extension": ".py",
   "mimetype": "text/x-python",
   "name": "python",
   "nbconvert_exporter": "python",
   "pygments_lexer": "ipython3",
   "version": "3.8.8"
  },
  "metadata": {
   "interpreter": {
    "hash": "aaa8cd9d8dee3a32c846f4040502c711d1cd9d513882153f94a5792d3c9f0af8"
   }
  }
 },
 "nbformat": 4,
 "nbformat_minor": 4
}
