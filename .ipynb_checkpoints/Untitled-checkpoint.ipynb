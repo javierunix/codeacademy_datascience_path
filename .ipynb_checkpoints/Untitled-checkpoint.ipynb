{
 "cells": [
  {
   "cell_type": "code",
   "execution_count": 3,
   "id": "excess-vietnam",
   "metadata": {},
   "outputs": [],
   "source": [
    "def palindromo(palabra):\n",
    "    \n",
    "    \"\"\"\n",
    "\t\tMuy sencilla función que determina si una\n",
    "\t\tpalabra es o no un palindromo\n",
    "\t\n",
    "\t\"\"\"\n",
    "\n",
    "    es_palindromo = True # Se define la variable es palindrome como True\n",
    "    \n",
    "    for i in range(int(len(palabra)/2)): # vamos caracter a caracter hasta llegar a la mitad de la palabra\n",
    "        \n",
    "        if palabra[i] != palabra[-(i + 1)]: # si cuando contamos por una lado un caracter no coincide con el numericamente equivalente del otro lado...\n",
    "        \tes_palindromo = False # ... la palabra no es un palindromo\n",
    "        \tbreak\n",
    "    \n",
    "    return es_palindromo"
   ]
  },
  {
   "cell_type": "code",
   "execution_count": 4,
   "id": "processed-prerequisite",
   "metadata": {},
   "outputs": [
    {
     "name": "stdout",
     "output_type": "stream",
     "text": [
      "Help on function palindromo in module __main__:\n",
      "\n",
      "palindromo(palabra)\n",
      "    Muy sencilla función que determina si una\n",
      "    palabra es o no un palindromo\n",
      "\n"
     ]
    }
   ],
   "source": [
    "help(palindromo)"
   ]
  }
 ],
 "metadata": {
  "kernelspec": {
   "display_name": "Python 3.8.8 64-bit ('datascience': conda)",
   "language": "python",
   "name": "python388jvsc74a57bd0aaa8cd9d8dee3a32c846f4040502c711d1cd9d513882153f94a5792d3c9f0af8"
  },
  "language_info": {
   "codemirror_mode": {
    "name": "ipython",
    "version": 3
   },
   "file_extension": ".py",
   "mimetype": "text/x-python",
   "name": "python",
   "nbconvert_exporter": "python",
   "pygments_lexer": "ipython3",
   "version": "3.8.8"
  }
 },
 "nbformat": 4,
 "nbformat_minor": 5
}
